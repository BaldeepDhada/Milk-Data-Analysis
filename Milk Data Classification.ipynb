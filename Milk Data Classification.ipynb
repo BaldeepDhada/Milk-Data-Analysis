{
 "cells": [
  {
   "cell_type": "markdown",
   "metadata": {},
   "source": [
    "# Milk Data Classification"
   ]
  },
  {
   "cell_type": "markdown",
   "metadata": {},
   "source": [
    "### 1. Loading the Dataset"
   ]
  },
  {
   "cell_type": "code",
   "execution_count": 104,
   "metadata": {},
   "outputs": [],
   "source": [
    "# Imports\n",
    "import pandas as pd\n",
    "import numpy as np\n",
    "import altair as alt\n",
    "from sklearn.model_selection import train_test_split, GridSearchCV\n",
    "from sklearn.preprocessing import StandardScaler\n",
    "from sklearn.ensemble import RandomForestClassifier\n",
    "from sklearn.linear_model import LogisticRegression\n",
    "from sklearn.metrics import accuracy_score, confusion_matrix, precision_score, recall_score, ConfusionMatrixDisplay\n"
   ]
  },
  {
   "cell_type": "code",
   "execution_count": 76,
   "metadata": {},
   "outputs": [
    {
     "data": {
      "text/plain": [
       "(1059, 8)"
      ]
     },
     "execution_count": 76,
     "metadata": {},
     "output_type": "execute_result"
    }
   ],
   "source": [
    "milk_data = pd.read_csv('milknew.csv')\n",
    "milk_data.rename(columns = {\"Temprature\": \"Temperature\"}, inplace = True)\n",
    "milk_data.shape\n"
   ]
  },
  {
   "cell_type": "markdown",
   "metadata": {},
   "source": [
    "Based on the shape of the data, there are 1059 obersvations with 8 predictors"
   ]
  },
  {
   "cell_type": "markdown",
   "metadata": {},
   "source": [
    "### 2. Data Preprocessing"
   ]
  },
  {
   "cell_type": "code",
   "execution_count": 77,
   "metadata": {},
   "outputs": [
    {
     "name": "stdout",
     "output_type": "stream",
     "text": [
      "<class 'pandas.core.frame.DataFrame'>\n",
      "RangeIndex: 1059 entries, 0 to 1058\n",
      "Data columns (total 8 columns):\n",
      " #   Column       Non-Null Count  Dtype  \n",
      "---  ------       --------------  -----  \n",
      " 0   pH           1059 non-null   float64\n",
      " 1   Temperature  1059 non-null   int64  \n",
      " 2   Taste        1059 non-null   int64  \n",
      " 3   Odor         1059 non-null   int64  \n",
      " 4   Fat          1059 non-null   int64  \n",
      " 5   Turbidity    1059 non-null   int64  \n",
      " 6   Colour       1059 non-null   int64  \n",
      " 7   Grade        1059 non-null   object \n",
      "dtypes: float64(1), int64(6), object(1)\n",
      "memory usage: 66.3+ KB\n"
     ]
    }
   ],
   "source": [
    "milk_data.info()"
   ]
  },
  {
   "cell_type": "markdown",
   "metadata": {},
   "source": [
    "We can see all the 8 perdictors and their data types. The dataset contains:\n",
    "- 1 float column (pH)\n",
    "- 6 int columns (Temperature, Taste, Odor, Fat, Turbidity, Colour, Grade)\n",
    "- 1 object column (Grade)\n",
    "\n",
    "Since 'Grade' contains string data, we should convert that to an integer type"
   ]
  },
  {
   "cell_type": "code",
   "execution_count": 78,
   "metadata": {},
   "outputs": [
    {
     "data": {
      "text/html": [
       "<div>\n",
       "<style scoped>\n",
       "    .dataframe tbody tr th:only-of-type {\n",
       "        vertical-align: middle;\n",
       "    }\n",
       "\n",
       "    .dataframe tbody tr th {\n",
       "        vertical-align: top;\n",
       "    }\n",
       "\n",
       "    .dataframe thead th {\n",
       "        text-align: right;\n",
       "    }\n",
       "</style>\n",
       "<table border=\"1\" class=\"dataframe\">\n",
       "  <thead>\n",
       "    <tr style=\"text-align: right;\">\n",
       "      <th></th>\n",
       "      <th>pH</th>\n",
       "      <th>Temperature</th>\n",
       "      <th>Taste</th>\n",
       "      <th>Odor</th>\n",
       "      <th>Fat</th>\n",
       "      <th>Turbidity</th>\n",
       "      <th>Colour</th>\n",
       "      <th>Grade</th>\n",
       "    </tr>\n",
       "  </thead>\n",
       "  <tbody>\n",
       "    <tr>\n",
       "      <th>0</th>\n",
       "      <td>6.6</td>\n",
       "      <td>35</td>\n",
       "      <td>1</td>\n",
       "      <td>0</td>\n",
       "      <td>1</td>\n",
       "      <td>0</td>\n",
       "      <td>254</td>\n",
       "      <td>2</td>\n",
       "    </tr>\n",
       "    <tr>\n",
       "      <th>1</th>\n",
       "      <td>6.6</td>\n",
       "      <td>36</td>\n",
       "      <td>0</td>\n",
       "      <td>1</td>\n",
       "      <td>0</td>\n",
       "      <td>1</td>\n",
       "      <td>253</td>\n",
       "      <td>2</td>\n",
       "    </tr>\n",
       "    <tr>\n",
       "      <th>2</th>\n",
       "      <td>8.5</td>\n",
       "      <td>70</td>\n",
       "      <td>1</td>\n",
       "      <td>1</td>\n",
       "      <td>1</td>\n",
       "      <td>1</td>\n",
       "      <td>246</td>\n",
       "      <td>0</td>\n",
       "    </tr>\n",
       "    <tr>\n",
       "      <th>3</th>\n",
       "      <td>9.5</td>\n",
       "      <td>34</td>\n",
       "      <td>1</td>\n",
       "      <td>1</td>\n",
       "      <td>0</td>\n",
       "      <td>1</td>\n",
       "      <td>255</td>\n",
       "      <td>0</td>\n",
       "    </tr>\n",
       "    <tr>\n",
       "      <th>4</th>\n",
       "      <td>6.6</td>\n",
       "      <td>37</td>\n",
       "      <td>0</td>\n",
       "      <td>0</td>\n",
       "      <td>0</td>\n",
       "      <td>0</td>\n",
       "      <td>255</td>\n",
       "      <td>1</td>\n",
       "    </tr>\n",
       "  </tbody>\n",
       "</table>\n",
       "</div>"
      ],
      "text/plain": [
       "    pH  Temperature  Taste  Odor  Fat   Turbidity  Colour  Grade\n",
       "0  6.6           35      1     0     1          0     254      2\n",
       "1  6.6           36      0     1     0          1     253      2\n",
       "2  8.5           70      1     1     1          1     246      0\n",
       "3  9.5           34      1     1     0          1     255      0\n",
       "4  6.6           37      0     0     0          0     255      1"
      ]
     },
     "execution_count": 78,
     "metadata": {},
     "output_type": "execute_result"
    }
   ],
   "source": [
    "milk_data['Grade'] = milk_data['Grade'].map({'low':0,'medium':1,'high':2})\n",
    "milk_data.head()"
   ]
  },
  {
   "cell_type": "markdown",
   "metadata": {},
   "source": [
    "Now we have mapped the grade as : \n",
    "- 'Low' = 0\n",
    "- 'Medium' = 1\n",
    "- 'High' = 2 "
   ]
  },
  {
   "cell_type": "code",
   "execution_count": 79,
   "metadata": {},
   "outputs": [
    {
     "data": {
      "text/plain": [
       "pH             0\n",
       "Temperature    0\n",
       "Taste          0\n",
       "Odor           0\n",
       "Fat            0\n",
       "Turbidity      0\n",
       "Colour         0\n",
       "Grade          0\n",
       "dtype: int64"
      ]
     },
     "execution_count": 79,
     "metadata": {},
     "output_type": "execute_result"
    }
   ],
   "source": [
    "milk_data.isna().sum()"
   ]
  },
  {
   "cell_type": "markdown",
   "metadata": {},
   "source": [
    "Our data does not contain any NA values. So we do not need to handle that."
   ]
  },
  {
   "cell_type": "code",
   "execution_count": 80,
   "metadata": {},
   "outputs": [
    {
     "data": {
      "text/html": [
       "<div>\n",
       "<style scoped>\n",
       "    .dataframe tbody tr th:only-of-type {\n",
       "        vertical-align: middle;\n",
       "    }\n",
       "\n",
       "    .dataframe tbody tr th {\n",
       "        vertical-align: top;\n",
       "    }\n",
       "\n",
       "    .dataframe thead th {\n",
       "        text-align: right;\n",
       "    }\n",
       "</style>\n",
       "<table border=\"1\" class=\"dataframe\">\n",
       "  <thead>\n",
       "    <tr style=\"text-align: right;\">\n",
       "      <th></th>\n",
       "      <th>pH</th>\n",
       "      <th>Temperature</th>\n",
       "      <th>Taste</th>\n",
       "      <th>Odor</th>\n",
       "      <th>Fat</th>\n",
       "      <th>Turbidity</th>\n",
       "      <th>Colour</th>\n",
       "    </tr>\n",
       "  </thead>\n",
       "  <tbody>\n",
       "    <tr>\n",
       "      <th>pH</th>\n",
       "      <td>1.000000</td>\n",
       "      <td>0.244684</td>\n",
       "      <td>-0.064053</td>\n",
       "      <td>-0.081331</td>\n",
       "      <td>-0.093429</td>\n",
       "      <td>0.048384</td>\n",
       "      <td>-0.164565</td>\n",
       "    </tr>\n",
       "    <tr>\n",
       "      <th>Temperature</th>\n",
       "      <td>0.244684</td>\n",
       "      <td>1.000000</td>\n",
       "      <td>-0.109792</td>\n",
       "      <td>-0.048870</td>\n",
       "      <td>0.024073</td>\n",
       "      <td>0.185106</td>\n",
       "      <td>-0.008511</td>\n",
       "    </tr>\n",
       "    <tr>\n",
       "      <th>Taste</th>\n",
       "      <td>-0.064053</td>\n",
       "      <td>-0.109792</td>\n",
       "      <td>1.000000</td>\n",
       "      <td>0.017582</td>\n",
       "      <td>0.324149</td>\n",
       "      <td>0.055755</td>\n",
       "      <td>-0.082654</td>\n",
       "    </tr>\n",
       "    <tr>\n",
       "      <th>Odor</th>\n",
       "      <td>-0.081331</td>\n",
       "      <td>-0.048870</td>\n",
       "      <td>0.017582</td>\n",
       "      <td>1.000000</td>\n",
       "      <td>0.314505</td>\n",
       "      <td>0.457935</td>\n",
       "      <td>-0.039361</td>\n",
       "    </tr>\n",
       "    <tr>\n",
       "      <th>Fat</th>\n",
       "      <td>-0.093429</td>\n",
       "      <td>0.024073</td>\n",
       "      <td>0.324149</td>\n",
       "      <td>0.314505</td>\n",
       "      <td>1.000000</td>\n",
       "      <td>0.329264</td>\n",
       "      <td>0.114151</td>\n",
       "    </tr>\n",
       "    <tr>\n",
       "      <th>Turbidity</th>\n",
       "      <td>0.048384</td>\n",
       "      <td>0.185106</td>\n",
       "      <td>0.055755</td>\n",
       "      <td>0.457935</td>\n",
       "      <td>0.329264</td>\n",
       "      <td>1.000000</td>\n",
       "      <td>0.136436</td>\n",
       "    </tr>\n",
       "    <tr>\n",
       "      <th>Colour</th>\n",
       "      <td>-0.164565</td>\n",
       "      <td>-0.008511</td>\n",
       "      <td>-0.082654</td>\n",
       "      <td>-0.039361</td>\n",
       "      <td>0.114151</td>\n",
       "      <td>0.136436</td>\n",
       "      <td>1.000000</td>\n",
       "    </tr>\n",
       "  </tbody>\n",
       "</table>\n",
       "</div>"
      ],
      "text/plain": [
       "                   pH  Temperature     Taste      Odor      Fat   Turbidity  \\\n",
       "pH           1.000000     0.244684 -0.064053 -0.081331 -0.093429   0.048384   \n",
       "Temperature  0.244684     1.000000 -0.109792 -0.048870  0.024073   0.185106   \n",
       "Taste       -0.064053    -0.109792  1.000000  0.017582  0.324149   0.055755   \n",
       "Odor        -0.081331    -0.048870  0.017582  1.000000  0.314505   0.457935   \n",
       "Fat         -0.093429     0.024073  0.324149  0.314505  1.000000   0.329264   \n",
       "Turbidity    0.048384     0.185106  0.055755  0.457935  0.329264   1.000000   \n",
       "Colour      -0.164565    -0.008511 -0.082654 -0.039361  0.114151   0.136436   \n",
       "\n",
       "               Colour  \n",
       "pH          -0.164565  \n",
       "Temperature -0.008511  \n",
       "Taste       -0.082654  \n",
       "Odor        -0.039361  \n",
       "Fat          0.114151  \n",
       "Turbidity    0.136436  \n",
       "Colour       1.000000  "
      ]
     },
     "execution_count": 80,
     "metadata": {},
     "output_type": "execute_result"
    }
   ],
   "source": [
    "# Correlation\n",
    "milk_data.drop('Grade', axis=1).corr()"
   ]
  },
  {
   "cell_type": "markdown",
   "metadata": {},
   "source": [
    "We can see the correlation between all the predictors in the table above."
   ]
  },
  {
   "cell_type": "markdown",
   "metadata": {},
   "source": [
    "### 3. Data Visualizations"
   ]
  },
  {
   "cell_type": "code",
   "execution_count": 81,
   "metadata": {},
   "outputs": [
    {
     "data": {
      "text/html": [
       "\n",
       "<style>\n",
       "  #altair-viz-61cdcdb55a864901aaa329f8433605ce.vega-embed {\n",
       "    width: 100%;\n",
       "    display: flex;\n",
       "  }\n",
       "\n",
       "  #altair-viz-61cdcdb55a864901aaa329f8433605ce.vega-embed details,\n",
       "  #altair-viz-61cdcdb55a864901aaa329f8433605ce.vega-embed details summary {\n",
       "    position: relative;\n",
       "  }\n",
       "</style>\n",
       "<div id=\"altair-viz-61cdcdb55a864901aaa329f8433605ce\"></div>\n",
       "<script type=\"text/javascript\">\n",
       "  var VEGA_DEBUG = (typeof VEGA_DEBUG == \"undefined\") ? {} : VEGA_DEBUG;\n",
       "  (function(spec, embedOpt){\n",
       "    let outputDiv = document.currentScript.previousElementSibling;\n",
       "    if (outputDiv.id !== \"altair-viz-61cdcdb55a864901aaa329f8433605ce\") {\n",
       "      outputDiv = document.getElementById(\"altair-viz-61cdcdb55a864901aaa329f8433605ce\");\n",
       "    }\n",
       "    const paths = {\n",
       "      \"vega\": \"https://cdn.jsdelivr.net/npm/vega@5?noext\",\n",
       "      \"vega-lib\": \"https://cdn.jsdelivr.net/npm/vega-lib?noext\",\n",
       "      \"vega-lite\": \"https://cdn.jsdelivr.net/npm/vega-lite@5.16.3?noext\",\n",
       "      \"vega-embed\": \"https://cdn.jsdelivr.net/npm/vega-embed@6?noext\",\n",
       "    };\n",
       "\n",
       "    function maybeLoadScript(lib, version) {\n",
       "      var key = `${lib.replace(\"-\", \"\")}_version`;\n",
       "      return (VEGA_DEBUG[key] == version) ?\n",
       "        Promise.resolve(paths[lib]) :\n",
       "        new Promise(function(resolve, reject) {\n",
       "          var s = document.createElement('script');\n",
       "          document.getElementsByTagName(\"head\")[0].appendChild(s);\n",
       "          s.async = true;\n",
       "          s.onload = () => {\n",
       "            VEGA_DEBUG[key] = version;\n",
       "            return resolve(paths[lib]);\n",
       "          };\n",
       "          s.onerror = () => reject(`Error loading script: ${paths[lib]}`);\n",
       "          s.src = paths[lib];\n",
       "        });\n",
       "    }\n",
       "\n",
       "    function showError(err) {\n",
       "      outputDiv.innerHTML = `<div class=\"error\" style=\"color:red;\">${err}</div>`;\n",
       "      throw err;\n",
       "    }\n",
       "\n",
       "    function displayChart(vegaEmbed) {\n",
       "      vegaEmbed(outputDiv, spec, embedOpt)\n",
       "        .catch(err => showError(`Javascript Error: ${err.message}<br>This usually means there's a typo in your chart specification. See the javascript console for the full traceback.`));\n",
       "    }\n",
       "\n",
       "    if(typeof define === \"function\" && define.amd) {\n",
       "      requirejs.config({paths});\n",
       "      require([\"vega-embed\"], displayChart, err => showError(`Error loading script: ${err.message}`));\n",
       "    } else {\n",
       "      maybeLoadScript(\"vega\", \"5\")\n",
       "        .then(() => maybeLoadScript(\"vega-lite\", \"5.16.3\"))\n",
       "        .then(() => maybeLoadScript(\"vega-embed\", \"6\"))\n",
       "        .catch(showError)\n",
       "        .then(() => displayChart(vegaEmbed));\n",
       "    }\n",
       "  })({\"config\": {\"view\": {\"continuousWidth\": 300, \"continuousHeight\": 300}}, \"data\": {\"name\": \"data-637784874b857f7f1e42374e5d8cebd0\"}, \"mark\": {\"type\": \"bar\"}, \"encoding\": {\"x\": {\"aggregate\": \"count\", \"type\": \"quantitative\"}, \"y\": {\"field\": \"Grade\", \"sort\": \"x\", \"type\": \"quantitative\"}}, \"height\": 200, \"width\": 600, \"$schema\": \"https://vega.github.io/schema/vega-lite/v5.16.3.json\", \"datasets\": {\"data-637784874b857f7f1e42374e5d8cebd0\": [{\"pH\": 6.6, \"Temperature\": 35, \"Taste\": 1, \"Odor\": 0, \"Fat \": 1, \"Turbidity\": 0, \"Colour\": 254, \"Grade\": 2}, {\"pH\": 6.6, \"Temperature\": 36, \"Taste\": 0, \"Odor\": 1, \"Fat \": 0, \"Turbidity\": 1, \"Colour\": 253, \"Grade\": 2}, {\"pH\": 8.5, \"Temperature\": 70, \"Taste\": 1, \"Odor\": 1, \"Fat \": 1, \"Turbidity\": 1, \"Colour\": 246, \"Grade\": 0}, {\"pH\": 9.5, \"Temperature\": 34, \"Taste\": 1, \"Odor\": 1, \"Fat \": 0, \"Turbidity\": 1, \"Colour\": 255, \"Grade\": 0}, {\"pH\": 6.6, \"Temperature\": 37, \"Taste\": 0, \"Odor\": 0, \"Fat \": 0, \"Turbidity\": 0, \"Colour\": 255, \"Grade\": 1}, {\"pH\": 6.6, \"Temperature\": 37, \"Taste\": 1, \"Odor\": 1, \"Fat \": 1, \"Turbidity\": 1, \"Colour\": 255, \"Grade\": 2}, {\"pH\": 5.5, \"Temperature\": 45, \"Taste\": 1, \"Odor\": 0, \"Fat \": 1, \"Turbidity\": 1, \"Colour\": 250, \"Grade\": 0}, {\"pH\": 4.5, \"Temperature\": 60, \"Taste\": 0, \"Odor\": 1, \"Fat \": 1, \"Turbidity\": 1, \"Colour\": 250, \"Grade\": 0}, {\"pH\": 8.1, \"Temperature\": 66, \"Taste\": 1, \"Odor\": 0, \"Fat \": 1, \"Turbidity\": 1, \"Colour\": 255, \"Grade\": 0}, {\"pH\": 6.7, \"Temperature\": 45, \"Taste\": 1, \"Odor\": 1, \"Fat \": 0, \"Turbidity\": 0, \"Colour\": 247, \"Grade\": 1}, {\"pH\": 6.7, \"Temperature\": 45, \"Taste\": 1, \"Odor\": 1, \"Fat \": 1, \"Turbidity\": 0, \"Colour\": 245, \"Grade\": 1}, {\"pH\": 5.6, \"Temperature\": 50, \"Taste\": 0, \"Odor\": 1, \"Fat \": 1, \"Turbidity\": 1, \"Colour\": 255, \"Grade\": 0}, {\"pH\": 8.6, \"Temperature\": 55, \"Taste\": 0, \"Odor\": 1, \"Fat \": 1, \"Turbidity\": 1, \"Colour\": 255, \"Grade\": 0}, {\"pH\": 7.4, \"Temperature\": 90, \"Taste\": 1, \"Odor\": 0, \"Fat \": 1, \"Turbidity\": 1, \"Colour\": 255, \"Grade\": 0}, {\"pH\": 6.8, \"Temperature\": 45, \"Taste\": 0, \"Odor\": 1, \"Fat \": 1, \"Turbidity\": 1, \"Colour\": 255, \"Grade\": 2}, {\"pH\": 6.5, \"Temperature\": 38, \"Taste\": 1, \"Odor\": 0, \"Fat \": 0, \"Turbidity\": 0, \"Colour\": 255, \"Grade\": 1}, {\"pH\": 4.7, \"Temperature\": 38, \"Taste\": 1, \"Odor\": 0, \"Fat \": 1, \"Turbidity\": 0, \"Colour\": 255, \"Grade\": 0}, {\"pH\": 3.0, \"Temperature\": 40, \"Taste\": 1, \"Odor\": 1, \"Fat \": 1, \"Turbidity\": 1, \"Colour\": 255, \"Grade\": 0}, {\"pH\": 9.0, \"Temperature\": 43, \"Taste\": 1, \"Odor\": 0, \"Fat \": 1, \"Turbidity\": 1, \"Colour\": 250, \"Grade\": 0}, {\"pH\": 6.8, \"Temperature\": 40, \"Taste\": 1, \"Odor\": 0, \"Fat \": 1, \"Turbidity\": 0, \"Colour\": 245, \"Grade\": 1}, {\"pH\": 6.6, \"Temperature\": 45, \"Taste\": 0, \"Odor\": 1, \"Fat \": 1, \"Turbidity\": 1, \"Colour\": 250, \"Grade\": 2}, {\"pH\": 6.5, \"Temperature\": 36, \"Taste\": 0, \"Odor\": 0, \"Fat \": 1, \"Turbidity\": 0, \"Colour\": 255, \"Grade\": 1}, {\"pH\": 4.5, \"Temperature\": 38, \"Taste\": 0, \"Odor\": 1, \"Fat \": 1, \"Turbidity\": 1, \"Colour\": 255, \"Grade\": 0}, {\"pH\": 6.6, \"Temperature\": 45, \"Taste\": 1, \"Odor\": 1, \"Fat \": 1, \"Turbidity\": 1, \"Colour\": 245, \"Grade\": 2}, {\"pH\": 6.8, \"Temperature\": 35, \"Taste\": 1, \"Odor\": 0, \"Fat \": 1, \"Turbidity\": 0, \"Colour\": 246, \"Grade\": 1}, {\"pH\": 6.5, \"Temperature\": 36, \"Taste\": 0, \"Odor\": 1, \"Fat \": 1, \"Turbidity\": 0, \"Colour\": 253, \"Grade\": 2}, {\"pH\": 8.5, \"Temperature\": 70, \"Taste\": 0, \"Odor\": 0, \"Fat \": 0, \"Turbidity\": 0, \"Colour\": 246, \"Grade\": 0}, {\"pH\": 6.6, \"Temperature\": 34, \"Taste\": 0, \"Odor\": 0, \"Fat \": 0, \"Turbidity\": 1, \"Colour\": 240, \"Grade\": 1}, {\"pH\": 6.5, \"Temperature\": 37, \"Taste\": 0, \"Odor\": 0, \"Fat \": 0, \"Turbidity\": 0, \"Colour\": 245, \"Grade\": 1}, {\"pH\": 6.6, \"Temperature\": 37, \"Taste\": 1, \"Odor\": 0, \"Fat \": 1, \"Turbidity\": 0, \"Colour\": 255, \"Grade\": 2}, {\"pH\": 6.4, \"Temperature\": 45, \"Taste\": 0, \"Odor\": 1, \"Fat \": 0, \"Turbidity\": 0, \"Colour\": 240, \"Grade\": 1}, {\"pH\": 6.5, \"Temperature\": 40, \"Taste\": 0, \"Odor\": 1, \"Fat \": 0, \"Turbidity\": 1, \"Colour\": 250, \"Grade\": 0}, {\"pH\": 6.8, \"Temperature\": 42, \"Taste\": 1, \"Odor\": 1, \"Fat \": 1, \"Turbidity\": 1, \"Colour\": 255, \"Grade\": 2}, {\"pH\": 6.7, \"Temperature\": 41, \"Taste\": 1, \"Odor\": 0, \"Fat \": 0, \"Turbidity\": 0, \"Colour\": 247, \"Grade\": 1}, {\"pH\": 6.7, \"Temperature\": 50, \"Taste\": 1, \"Odor\": 1, \"Fat \": 1, \"Turbidity\": 0, \"Colour\": 245, \"Grade\": 0}, {\"pH\": 6.8, \"Temperature\": 45, \"Taste\": 0, \"Odor\": 1, \"Fat \": 1, \"Turbidity\": 1, \"Colour\": 255, \"Grade\": 2}, {\"pH\": 8.6, \"Temperature\": 55, \"Taste\": 0, \"Odor\": 1, \"Fat \": 0, \"Turbidity\": 0, \"Colour\": 255, \"Grade\": 0}, {\"pH\": 7.4, \"Temperature\": 65, \"Taste\": 0, \"Odor\": 0, \"Fat \": 0, \"Turbidity\": 0, \"Colour\": 255, \"Grade\": 0}, {\"pH\": 6.8, \"Temperature\": 41, \"Taste\": 0, \"Odor\": 0, \"Fat \": 0, \"Turbidity\": 0, \"Colour\": 255, \"Grade\": 1}, {\"pH\": 6.5, \"Temperature\": 38, \"Taste\": 1, \"Odor\": 1, \"Fat \": 1, \"Turbidity\": 1, \"Colour\": 255, \"Grade\": 2}, {\"pH\": 6.8, \"Temperature\": 38, \"Taste\": 0, \"Odor\": 0, \"Fat \": 0, \"Turbidity\": 0, \"Colour\": 255, \"Grade\": 1}, {\"pH\": 3.0, \"Temperature\": 40, \"Taste\": 1, \"Odor\": 0, \"Fat \": 0, \"Turbidity\": 0, \"Colour\": 255, \"Grade\": 0}, {\"pH\": 9.0, \"Temperature\": 43, \"Taste\": 1, \"Odor\": 1, \"Fat \": 1, \"Turbidity\": 1, \"Colour\": 248, \"Grade\": 0}, {\"pH\": 6.8, \"Temperature\": 40, \"Taste\": 1, \"Odor\": 1, \"Fat \": 1, \"Turbidity\": 1, \"Colour\": 255, \"Grade\": 2}, {\"pH\": 6.6, \"Temperature\": 45, \"Taste\": 0, \"Odor\": 0, \"Fat \": 0, \"Turbidity\": 1, \"Colour\": 250, \"Grade\": 1}, {\"pH\": 6.5, \"Temperature\": 36, \"Taste\": 0, \"Odor\": 0, \"Fat \": 0, \"Turbidity\": 0, \"Colour\": 247, \"Grade\": 1}, {\"pH\": 6.6, \"Temperature\": 38, \"Taste\": 0, \"Odor\": 0, \"Fat \": 0, \"Turbidity\": 0, \"Colour\": 255, \"Grade\": 1}, {\"pH\": 6.8, \"Temperature\": 45, \"Taste\": 1, \"Odor\": 1, \"Fat \": 1, \"Turbidity\": 0, \"Colour\": 245, \"Grade\": 2}, {\"pH\": 9.5, \"Temperature\": 34, \"Taste\": 1, \"Odor\": 1, \"Fat \": 0, \"Turbidity\": 1, \"Colour\": 255, \"Grade\": 0}, {\"pH\": 6.5, \"Temperature\": 37, \"Taste\": 0, \"Odor\": 0, \"Fat \": 0, \"Turbidity\": 0, \"Colour\": 255, \"Grade\": 1}, {\"pH\": 6.6, \"Temperature\": 37, \"Taste\": 1, \"Odor\": 1, \"Fat \": 1, \"Turbidity\": 1, \"Colour\": 255, \"Grade\": 2}, {\"pH\": 5.5, \"Temperature\": 45, \"Taste\": 1, \"Odor\": 0, \"Fat \": 1, \"Turbidity\": 1, \"Colour\": 250, \"Grade\": 0}, {\"pH\": 4.5, \"Temperature\": 60, \"Taste\": 0, \"Odor\": 1, \"Fat \": 1, \"Turbidity\": 1, \"Colour\": 250, \"Grade\": 0}, {\"pH\": 8.1, \"Temperature\": 66, \"Taste\": 1, \"Odor\": 0, \"Fat \": 1, \"Turbidity\": 1, \"Colour\": 255, \"Grade\": 0}, {\"pH\": 6.7, \"Temperature\": 45, \"Taste\": 1, \"Odor\": 1, \"Fat \": 0, \"Turbidity\": 0, \"Colour\": 247, \"Grade\": 1}, {\"pH\": 6.7, \"Temperature\": 45, \"Taste\": 1, \"Odor\": 1, \"Fat \": 1, \"Turbidity\": 0, \"Colour\": 245, \"Grade\": 1}, {\"pH\": 5.6, \"Temperature\": 50, \"Taste\": 0, \"Odor\": 1, \"Fat \": 1, \"Turbidity\": 1, \"Colour\": 255, \"Grade\": 0}, {\"pH\": 8.6, \"Temperature\": 55, \"Taste\": 0, \"Odor\": 1, \"Fat \": 1, \"Turbidity\": 1, \"Colour\": 255, \"Grade\": 0}, {\"pH\": 7.4, \"Temperature\": 90, \"Taste\": 1, \"Odor\": 0, \"Fat \": 1, \"Turbidity\": 1, \"Colour\": 255, \"Grade\": 0}, {\"pH\": 6.8, \"Temperature\": 45, \"Taste\": 0, \"Odor\": 0, \"Fat \": 1, \"Turbidity\": 0, \"Colour\": 255, \"Grade\": 1}, {\"pH\": 6.5, \"Temperature\": 38, \"Taste\": 1, \"Odor\": 0, \"Fat \": 1, \"Turbidity\": 0, \"Colour\": 255, \"Grade\": 1}, {\"pH\": 6.7, \"Temperature\": 38, \"Taste\": 1, \"Odor\": 0, \"Fat \": 1, \"Turbidity\": 0, \"Colour\": 255, \"Grade\": 2}, {\"pH\": 3.0, \"Temperature\": 40, \"Taste\": 1, \"Odor\": 1, \"Fat \": 1, \"Turbidity\": 1, \"Colour\": 255, \"Grade\": 0}, {\"pH\": 9.0, \"Temperature\": 43, \"Taste\": 1, \"Odor\": 0, \"Fat \": 1, \"Turbidity\": 1, \"Colour\": 250, \"Grade\": 0}, {\"pH\": 8.6, \"Temperature\": 55, \"Taste\": 0, \"Odor\": 1, \"Fat \": 1, \"Turbidity\": 1, \"Colour\": 255, \"Grade\": 0}, {\"pH\": 6.8, \"Temperature\": 45, \"Taste\": 0, \"Odor\": 0, \"Fat \": 0, \"Turbidity\": 1, \"Colour\": 255, \"Grade\": 1}, {\"pH\": 6.8, \"Temperature\": 45, \"Taste\": 0, \"Odor\": 1, \"Fat \": 1, \"Turbidity\": 1, \"Colour\": 255, \"Grade\": 2}, {\"pH\": 6.5, \"Temperature\": 38, \"Taste\": 1, \"Odor\": 0, \"Fat \": 0, \"Turbidity\": 0, \"Colour\": 255, \"Grade\": 1}, {\"pH\": 4.7, \"Temperature\": 38, \"Taste\": 1, \"Odor\": 0, \"Fat \": 1, \"Turbidity\": 0, \"Colour\": 255, \"Grade\": 0}, {\"pH\": 3.0, \"Temperature\": 40, \"Taste\": 1, \"Odor\": 1, \"Fat \": 1, \"Turbidity\": 1, \"Colour\": 255, \"Grade\": 0}, {\"pH\": 9.0, \"Temperature\": 43, \"Taste\": 1, \"Odor\": 0, \"Fat \": 1, \"Turbidity\": 1, \"Colour\": 250, \"Grade\": 0}, {\"pH\": 6.8, \"Temperature\": 40, \"Taste\": 1, \"Odor\": 0, \"Fat \": 1, \"Turbidity\": 0, \"Colour\": 245, \"Grade\": 1}, {\"pH\": 6.6, \"Temperature\": 45, \"Taste\": 0, \"Odor\": 1, \"Fat \": 1, \"Turbidity\": 1, \"Colour\": 250, \"Grade\": 2}, {\"pH\": 6.5, \"Temperature\": 36, \"Taste\": 0, \"Odor\": 0, \"Fat \": 1, \"Turbidity\": 0, \"Colour\": 255, \"Grade\": 1}, {\"pH\": 4.5, \"Temperature\": 38, \"Taste\": 0, \"Odor\": 1, \"Fat \": 1, \"Turbidity\": 1, \"Colour\": 255, \"Grade\": 0}, {\"pH\": 6.8, \"Temperature\": 45, \"Taste\": 1, \"Odor\": 1, \"Fat \": 1, \"Turbidity\": 1, \"Colour\": 245, \"Grade\": 2}, {\"pH\": 6.5, \"Temperature\": 35, \"Taste\": 1, \"Odor\": 0, \"Fat \": 1, \"Turbidity\": 0, \"Colour\": 246, \"Grade\": 1}, {\"pH\": 6.8, \"Temperature\": 36, \"Taste\": 0, \"Odor\": 1, \"Fat \": 1, \"Turbidity\": 0, \"Colour\": 253, \"Grade\": 2}, {\"pH\": 8.5, \"Temperature\": 70, \"Taste\": 0, \"Odor\": 0, \"Fat \": 0, \"Turbidity\": 0, \"Colour\": 246, \"Grade\": 0}, {\"pH\": 6.8, \"Temperature\": 34, \"Taste\": 0, \"Odor\": 0, \"Fat \": 0, \"Turbidity\": 1, \"Colour\": 240, \"Grade\": 1}, {\"pH\": 6.5, \"Temperature\": 37, \"Taste\": 0, \"Odor\": 0, \"Fat \": 0, \"Turbidity\": 0, \"Colour\": 245, \"Grade\": 1}, {\"pH\": 6.6, \"Temperature\": 37, \"Taste\": 1, \"Odor\": 0, \"Fat \": 1, \"Turbidity\": 0, \"Colour\": 255, \"Grade\": 2}, {\"pH\": 6.8, \"Temperature\": 45, \"Taste\": 0, \"Odor\": 1, \"Fat \": 0, \"Turbidity\": 0, \"Colour\": 240, \"Grade\": 1}, {\"pH\": 7.4, \"Temperature\": 65, \"Taste\": 0, \"Odor\": 0, \"Fat \": 0, \"Turbidity\": 0, \"Colour\": 255, \"Grade\": 0}, {\"pH\": 6.8, \"Temperature\": 41, \"Taste\": 0, \"Odor\": 0, \"Fat \": 1, \"Turbidity\": 0, \"Colour\": 255, \"Grade\": 1}, {\"pH\": 6.5, \"Temperature\": 38, \"Taste\": 1, \"Odor\": 1, \"Fat \": 1, \"Turbidity\": 1, \"Colour\": 255, \"Grade\": 2}, {\"pH\": 6.6, \"Temperature\": 38, \"Taste\": 0, \"Odor\": 0, \"Fat \": 0, \"Turbidity\": 0, \"Colour\": 255, \"Grade\": 1}, {\"pH\": 3.0, \"Temperature\": 40, \"Taste\": 1, \"Odor\": 0, \"Fat \": 0, \"Turbidity\": 0, \"Colour\": 255, \"Grade\": 0}, {\"pH\": 9.0, \"Temperature\": 43, \"Taste\": 1, \"Odor\": 1, \"Fat \": 1, \"Turbidity\": 1, \"Colour\": 248, \"Grade\": 0}, {\"pH\": 6.8, \"Temperature\": 40, \"Taste\": 1, \"Odor\": 1, \"Fat \": 1, \"Turbidity\": 1, \"Colour\": 255, \"Grade\": 2}, {\"pH\": 6.6, \"Temperature\": 50, \"Taste\": 0, \"Odor\": 0, \"Fat \": 0, \"Turbidity\": 1, \"Colour\": 250, \"Grade\": 0}, {\"pH\": 6.5, \"Temperature\": 36, \"Taste\": 0, \"Odor\": 0, \"Fat \": 0, \"Turbidity\": 0, \"Colour\": 247, \"Grade\": 1}, {\"pH\": 6.6, \"Temperature\": 50, \"Taste\": 0, \"Odor\": 0, \"Fat \": 0, \"Turbidity\": 0, \"Colour\": 255, \"Grade\": 0}, {\"pH\": 6.8, \"Temperature\": 45, \"Taste\": 1, \"Odor\": 1, \"Fat \": 1, \"Turbidity\": 0, \"Colour\": 245, \"Grade\": 2}, {\"pH\": 9.5, \"Temperature\": 34, \"Taste\": 1, \"Odor\": 1, \"Fat \": 0, \"Turbidity\": 1, \"Colour\": 255, \"Grade\": 0}, {\"pH\": 6.5, \"Temperature\": 37, \"Taste\": 0, \"Odor\": 0, \"Fat \": 0, \"Turbidity\": 0, \"Colour\": 255, \"Grade\": 1}, {\"pH\": 9.5, \"Temperature\": 34, \"Taste\": 1, \"Odor\": 1, \"Fat \": 0, \"Turbidity\": 1, \"Colour\": 255, \"Grade\": 0}, {\"pH\": 6.5, \"Temperature\": 37, \"Taste\": 0, \"Odor\": 0, \"Fat \": 0, \"Turbidity\": 0, \"Colour\": 255, \"Grade\": 1}, {\"pH\": 6.6, \"Temperature\": 37, \"Taste\": 1, \"Odor\": 1, \"Fat \": 1, \"Turbidity\": 1, \"Colour\": 255, \"Grade\": 2}, {\"pH\": 5.5, \"Temperature\": 45, \"Taste\": 1, \"Odor\": 0, \"Fat \": 1, \"Turbidity\": 1, \"Colour\": 250, \"Grade\": 0}, {\"pH\": 4.5, \"Temperature\": 60, \"Taste\": 0, \"Odor\": 1, \"Fat \": 1, \"Turbidity\": 1, \"Colour\": 250, \"Grade\": 0}, {\"pH\": 8.1, \"Temperature\": 66, \"Taste\": 1, \"Odor\": 0, \"Fat \": 1, \"Turbidity\": 1, \"Colour\": 255, \"Grade\": 0}, {\"pH\": 6.7, \"Temperature\": 45, \"Taste\": 1, \"Odor\": 1, \"Fat \": 0, \"Turbidity\": 0, \"Colour\": 247, \"Grade\": 1}, {\"pH\": 6.7, \"Temperature\": 45, \"Taste\": 1, \"Odor\": 1, \"Fat \": 1, \"Turbidity\": 0, \"Colour\": 245, \"Grade\": 1}, {\"pH\": 5.6, \"Temperature\": 50, \"Taste\": 0, \"Odor\": 1, \"Fat \": 1, \"Turbidity\": 1, \"Colour\": 255, \"Grade\": 0}, {\"pH\": 6.6, \"Temperature\": 35, \"Taste\": 0, \"Odor\": 1, \"Fat \": 1, \"Turbidity\": 1, \"Colour\": 255, \"Grade\": 2}, {\"pH\": 7.4, \"Temperature\": 90, \"Taste\": 1, \"Odor\": 0, \"Fat \": 1, \"Turbidity\": 1, \"Colour\": 255, \"Grade\": 0}, {\"pH\": 6.8, \"Temperature\": 50, \"Taste\": 0, \"Odor\": 0, \"Fat \": 1, \"Turbidity\": 0, \"Colour\": 255, \"Grade\": 0}, {\"pH\": 6.5, \"Temperature\": 38, \"Taste\": 1, \"Odor\": 0, \"Fat \": 1, \"Turbidity\": 0, \"Colour\": 255, \"Grade\": 1}, {\"pH\": 6.7, \"Temperature\": 38, \"Taste\": 1, \"Odor\": 0, \"Fat \": 1, \"Turbidity\": 0, \"Colour\": 255, \"Grade\": 2}, {\"pH\": 3.0, \"Temperature\": 40, \"Taste\": 1, \"Odor\": 1, \"Fat \": 1, \"Turbidity\": 1, \"Colour\": 255, \"Grade\": 0}, {\"pH\": 6.6, \"Temperature\": 43, \"Taste\": 1, \"Odor\": 0, \"Fat \": 1, \"Turbidity\": 1, \"Colour\": 250, \"Grade\": 2}, {\"pH\": 8.6, \"Temperature\": 55, \"Taste\": 0, \"Odor\": 1, \"Fat \": 1, \"Turbidity\": 1, \"Colour\": 255, \"Grade\": 0}, {\"pH\": 6.8, \"Temperature\": 45, \"Taste\": 0, \"Odor\": 0, \"Fat \": 0, \"Turbidity\": 1, \"Colour\": 255, \"Grade\": 1}, {\"pH\": 6.8, \"Temperature\": 45, \"Taste\": 0, \"Odor\": 1, \"Fat \": 1, \"Turbidity\": 1, \"Colour\": 255, \"Grade\": 2}, {\"pH\": 6.5, \"Temperature\": 38, \"Taste\": 1, \"Odor\": 0, \"Fat \": 0, \"Turbidity\": 0, \"Colour\": 255, \"Grade\": 1}, {\"pH\": 6.6, \"Temperature\": 38, \"Taste\": 1, \"Odor\": 0, \"Fat \": 1, \"Turbidity\": 0, \"Colour\": 255, \"Grade\": 2}, {\"pH\": 3.0, \"Temperature\": 40, \"Taste\": 1, \"Odor\": 1, \"Fat \": 1, \"Turbidity\": 1, \"Colour\": 255, \"Grade\": 0}, {\"pH\": 9.0, \"Temperature\": 43, \"Taste\": 1, \"Odor\": 0, \"Fat \": 1, \"Turbidity\": 1, \"Colour\": 250, \"Grade\": 0}, {\"pH\": 6.8, \"Temperature\": 40, \"Taste\": 1, \"Odor\": 0, \"Fat \": 1, \"Turbidity\": 0, \"Colour\": 245, \"Grade\": 1}, {\"pH\": 6.6, \"Temperature\": 45, \"Taste\": 0, \"Odor\": 0, \"Fat \": 0, \"Turbidity\": 1, \"Colour\": 250, \"Grade\": 1}, {\"pH\": 6.5, \"Temperature\": 36, \"Taste\": 0, \"Odor\": 0, \"Fat \": 1, \"Turbidity\": 0, \"Colour\": 255, \"Grade\": 1}, {\"pH\": 6.6, \"Temperature\": 38, \"Taste\": 0, \"Odor\": 0, \"Fat \": 1, \"Turbidity\": 0, \"Colour\": 255, \"Grade\": 1}, {\"pH\": 6.8, \"Temperature\": 45, \"Taste\": 1, \"Odor\": 1, \"Fat \": 1, \"Turbidity\": 1, \"Colour\": 245, \"Grade\": 2}, {\"pH\": 6.5, \"Temperature\": 55, \"Taste\": 1, \"Odor\": 0, \"Fat \": 1, \"Turbidity\": 0, \"Colour\": 246, \"Grade\": 0}, {\"pH\": 6.8, \"Temperature\": 36, \"Taste\": 0, \"Odor\": 1, \"Fat \": 1, \"Turbidity\": 0, \"Colour\": 253, \"Grade\": 2}, {\"pH\": 8.5, \"Temperature\": 70, \"Taste\": 0, \"Odor\": 0, \"Fat \": 0, \"Turbidity\": 0, \"Colour\": 246, \"Grade\": 0}, {\"pH\": 6.8, \"Temperature\": 40, \"Taste\": 1, \"Odor\": 0, \"Fat \": 1, \"Turbidity\": 0, \"Colour\": 245, \"Grade\": 1}, {\"pH\": 6.6, \"Temperature\": 45, \"Taste\": 0, \"Odor\": 1, \"Fat \": 1, \"Turbidity\": 1, \"Colour\": 250, \"Grade\": 2}, {\"pH\": 6.5, \"Temperature\": 36, \"Taste\": 0, \"Odor\": 0, \"Fat \": 1, \"Turbidity\": 0, \"Colour\": 255, \"Grade\": 1}, {\"pH\": 4.5, \"Temperature\": 38, \"Taste\": 0, \"Odor\": 1, \"Fat \": 1, \"Turbidity\": 1, \"Colour\": 255, \"Grade\": 0}, {\"pH\": 6.8, \"Temperature\": 45, \"Taste\": 1, \"Odor\": 1, \"Fat \": 1, \"Turbidity\": 1, \"Colour\": 245, \"Grade\": 2}, {\"pH\": 6.5, \"Temperature\": 35, \"Taste\": 1, \"Odor\": 0, \"Fat \": 1, \"Turbidity\": 0, \"Colour\": 246, \"Grade\": 1}, {\"pH\": 6.8, \"Temperature\": 36, \"Taste\": 0, \"Odor\": 1, \"Fat \": 1, \"Turbidity\": 0, \"Colour\": 253, \"Grade\": 2}, {\"pH\": 8.5, \"Temperature\": 70, \"Taste\": 0, \"Odor\": 0, \"Fat \": 0, \"Turbidity\": 0, \"Colour\": 246, \"Grade\": 0}, {\"pH\": 6.8, \"Temperature\": 34, \"Taste\": 0, \"Odor\": 0, \"Fat \": 0, \"Turbidity\": 1, \"Colour\": 240, \"Grade\": 1}, {\"pH\": 6.5, \"Temperature\": 37, \"Taste\": 0, \"Odor\": 0, \"Fat \": 0, \"Turbidity\": 0, \"Colour\": 245, \"Grade\": 1}, {\"pH\": 6.6, \"Temperature\": 37, \"Taste\": 1, \"Odor\": 0, \"Fat \": 1, \"Turbidity\": 0, \"Colour\": 255, \"Grade\": 2}, {\"pH\": 6.8, \"Temperature\": 45, \"Taste\": 0, \"Odor\": 1, \"Fat \": 0, \"Turbidity\": 0, \"Colour\": 240, \"Grade\": 1}, {\"pH\": 7.4, \"Temperature\": 65, \"Taste\": 0, \"Odor\": 0, \"Fat \": 0, \"Turbidity\": 0, \"Colour\": 255, \"Grade\": 0}, {\"pH\": 6.8, \"Temperature\": 41, \"Taste\": 0, \"Odor\": 0, \"Fat \": 1, \"Turbidity\": 0, \"Colour\": 255, \"Grade\": 1}, {\"pH\": 6.5, \"Temperature\": 38, \"Taste\": 1, \"Odor\": 1, \"Fat \": 1, \"Turbidity\": 1, \"Colour\": 255, \"Grade\": 2}, {\"pH\": 6.6, \"Temperature\": 38, \"Taste\": 0, \"Odor\": 0, \"Fat \": 0, \"Turbidity\": 0, \"Colour\": 255, \"Grade\": 1}, {\"pH\": 3.0, \"Temperature\": 40, \"Taste\": 1, \"Odor\": 0, \"Fat \": 0, \"Turbidity\": 0, \"Colour\": 255, \"Grade\": 0}, {\"pH\": 9.0, \"Temperature\": 43, \"Taste\": 1, \"Odor\": 1, \"Fat \": 1, \"Turbidity\": 1, \"Colour\": 248, \"Grade\": 0}, {\"pH\": 6.8, \"Temperature\": 40, \"Taste\": 1, \"Odor\": 1, \"Fat \": 1, \"Turbidity\": 1, \"Colour\": 255, \"Grade\": 2}, {\"pH\": 6.6, \"Temperature\": 50, \"Taste\": 0, \"Odor\": 0, \"Fat \": 0, \"Turbidity\": 1, \"Colour\": 250, \"Grade\": 0}, {\"pH\": 6.5, \"Temperature\": 36, \"Taste\": 0, \"Odor\": 0, \"Fat \": 0, \"Turbidity\": 0, \"Colour\": 247, \"Grade\": 1}, {\"pH\": 6.6, \"Temperature\": 50, \"Taste\": 0, \"Odor\": 0, \"Fat \": 0, \"Turbidity\": 0, \"Colour\": 255, \"Grade\": 0}, {\"pH\": 6.8, \"Temperature\": 45, \"Taste\": 1, \"Odor\": 1, \"Fat \": 1, \"Turbidity\": 0, \"Colour\": 245, \"Grade\": 2}, {\"pH\": 9.5, \"Temperature\": 34, \"Taste\": 1, \"Odor\": 1, \"Fat \": 0, \"Turbidity\": 1, \"Colour\": 255, \"Grade\": 0}, {\"pH\": 6.5, \"Temperature\": 37, \"Taste\": 0, \"Odor\": 0, \"Fat \": 0, \"Turbidity\": 0, \"Colour\": 255, \"Grade\": 1}, {\"pH\": 9.5, \"Temperature\": 34, \"Taste\": 1, \"Odor\": 1, \"Fat \": 0, \"Turbidity\": 1, \"Colour\": 255, \"Grade\": 0}, {\"pH\": 6.5, \"Temperature\": 37, \"Taste\": 0, \"Odor\": 0, \"Fat \": 0, \"Turbidity\": 0, \"Colour\": 255, \"Grade\": 1}, {\"pH\": 6.6, \"Temperature\": 37, \"Taste\": 1, \"Odor\": 1, \"Fat \": 1, \"Turbidity\": 1, \"Colour\": 255, \"Grade\": 2}, {\"pH\": 5.5, \"Temperature\": 45, \"Taste\": 1, \"Odor\": 0, \"Fat \": 1, \"Turbidity\": 1, \"Colour\": 250, \"Grade\": 0}, {\"pH\": 4.5, \"Temperature\": 60, \"Taste\": 0, \"Odor\": 1, \"Fat \": 1, \"Turbidity\": 1, \"Colour\": 250, \"Grade\": 0}, {\"pH\": 8.1, \"Temperature\": 66, \"Taste\": 1, \"Odor\": 0, \"Fat \": 1, \"Turbidity\": 1, \"Colour\": 255, \"Grade\": 0}, {\"pH\": 6.7, \"Temperature\": 45, \"Taste\": 1, \"Odor\": 1, \"Fat \": 0, \"Turbidity\": 0, \"Colour\": 247, \"Grade\": 1}, {\"pH\": 6.7, \"Temperature\": 45, \"Taste\": 1, \"Odor\": 1, \"Fat \": 1, \"Turbidity\": 0, \"Colour\": 245, \"Grade\": 1}, {\"pH\": 5.6, \"Temperature\": 50, \"Taste\": 0, \"Odor\": 1, \"Fat \": 1, \"Turbidity\": 1, \"Colour\": 255, \"Grade\": 0}, {\"pH\": 6.6, \"Temperature\": 35, \"Taste\": 0, \"Odor\": 1, \"Fat \": 1, \"Turbidity\": 1, \"Colour\": 255, \"Grade\": 2}, {\"pH\": 7.4, \"Temperature\": 90, \"Taste\": 1, \"Odor\": 0, \"Fat \": 1, \"Turbidity\": 1, \"Colour\": 255, \"Grade\": 0}, {\"pH\": 6.8, \"Temperature\": 50, \"Taste\": 0, \"Odor\": 0, \"Fat \": 1, \"Turbidity\": 0, \"Colour\": 255, \"Grade\": 0}, {\"pH\": 6.5, \"Temperature\": 38, \"Taste\": 1, \"Odor\": 0, \"Fat \": 1, \"Turbidity\": 0, \"Colour\": 255, \"Grade\": 1}, {\"pH\": 6.7, \"Temperature\": 41, \"Taste\": 1, \"Odor\": 0, \"Fat \": 0, \"Turbidity\": 0, \"Colour\": 247, \"Grade\": 1}, {\"pH\": 6.7, \"Temperature\": 50, \"Taste\": 1, \"Odor\": 1, \"Fat \": 1, \"Turbidity\": 0, \"Colour\": 245, \"Grade\": 0}, {\"pH\": 6.8, \"Temperature\": 45, \"Taste\": 0, \"Odor\": 1, \"Fat \": 1, \"Turbidity\": 1, \"Colour\": 255, \"Grade\": 2}, {\"pH\": 8.6, \"Temperature\": 55, \"Taste\": 0, \"Odor\": 1, \"Fat \": 0, \"Turbidity\": 0, \"Colour\": 255, \"Grade\": 0}, {\"pH\": 7.4, \"Temperature\": 65, \"Taste\": 0, \"Odor\": 0, \"Fat \": 0, \"Turbidity\": 0, \"Colour\": 255, \"Grade\": 0}, {\"pH\": 6.8, \"Temperature\": 41, \"Taste\": 0, \"Odor\": 0, \"Fat \": 0, \"Turbidity\": 0, \"Colour\": 255, \"Grade\": 1}, {\"pH\": 6.5, \"Temperature\": 38, \"Taste\": 1, \"Odor\": 1, \"Fat \": 1, \"Turbidity\": 1, \"Colour\": 255, \"Grade\": 2}, {\"pH\": 6.8, \"Temperature\": 38, \"Taste\": 0, \"Odor\": 0, \"Fat \": 0, \"Turbidity\": 0, \"Colour\": 255, \"Grade\": 1}, {\"pH\": 3.0, \"Temperature\": 40, \"Taste\": 1, \"Odor\": 0, \"Fat \": 0, \"Turbidity\": 0, \"Colour\": 255, \"Grade\": 0}, {\"pH\": 9.0, \"Temperature\": 43, \"Taste\": 1, \"Odor\": 1, \"Fat \": 1, \"Turbidity\": 1, \"Colour\": 248, \"Grade\": 0}, {\"pH\": 6.8, \"Temperature\": 40, \"Taste\": 1, \"Odor\": 1, \"Fat \": 1, \"Turbidity\": 1, \"Colour\": 255, \"Grade\": 2}, {\"pH\": 6.6, \"Temperature\": 45, \"Taste\": 0, \"Odor\": 0, \"Fat \": 0, \"Turbidity\": 1, \"Colour\": 250, \"Grade\": 1}, {\"pH\": 6.5, \"Temperature\": 36, \"Taste\": 0, \"Odor\": 0, \"Fat \": 0, \"Turbidity\": 0, \"Colour\": 247, \"Grade\": 1}, {\"pH\": 6.6, \"Temperature\": 38, \"Taste\": 0, \"Odor\": 0, \"Fat \": 0, \"Turbidity\": 0, \"Colour\": 255, \"Grade\": 1}, {\"pH\": 6.8, \"Temperature\": 45, \"Taste\": 1, \"Odor\": 1, \"Fat \": 1, \"Turbidity\": 0, \"Colour\": 245, \"Grade\": 2}, {\"pH\": 9.5, \"Temperature\": 34, \"Taste\": 1, \"Odor\": 1, \"Fat \": 0, \"Turbidity\": 1, \"Colour\": 255, \"Grade\": 0}, {\"pH\": 6.5, \"Temperature\": 37, \"Taste\": 0, \"Odor\": 0, \"Fat \": 0, \"Turbidity\": 0, \"Colour\": 255, \"Grade\": 1}, {\"pH\": 6.6, \"Temperature\": 37, \"Taste\": 1, \"Odor\": 1, \"Fat \": 1, \"Turbidity\": 1, \"Colour\": 255, \"Grade\": 2}, {\"pH\": 5.5, \"Temperature\": 45, \"Taste\": 1, \"Odor\": 0, \"Fat \": 1, \"Turbidity\": 1, \"Colour\": 250, \"Grade\": 0}, {\"pH\": 4.5, \"Temperature\": 60, \"Taste\": 0, \"Odor\": 1, \"Fat \": 1, \"Turbidity\": 1, \"Colour\": 250, \"Grade\": 0}, {\"pH\": 8.1, \"Temperature\": 66, \"Taste\": 1, \"Odor\": 0, \"Fat \": 1, \"Turbidity\": 1, \"Colour\": 255, \"Grade\": 0}, {\"pH\": 6.7, \"Temperature\": 45, \"Taste\": 1, \"Odor\": 1, \"Fat \": 0, \"Turbidity\": 0, \"Colour\": 247, \"Grade\": 1}, {\"pH\": 6.7, \"Temperature\": 45, \"Taste\": 1, \"Odor\": 1, \"Fat \": 1, \"Turbidity\": 0, \"Colour\": 245, \"Grade\": 1}, {\"pH\": 5.6, \"Temperature\": 50, \"Taste\": 0, \"Odor\": 1, \"Fat \": 1, \"Turbidity\": 1, \"Colour\": 255, \"Grade\": 0}, {\"pH\": 8.6, \"Temperature\": 55, \"Taste\": 0, \"Odor\": 1, \"Fat \": 1, \"Turbidity\": 1, \"Colour\": 255, \"Grade\": 0}, {\"pH\": 7.4, \"Temperature\": 90, \"Taste\": 1, \"Odor\": 0, \"Fat \": 1, \"Turbidity\": 1, \"Colour\": 255, \"Grade\": 0}, {\"pH\": 6.8, \"Temperature\": 45, \"Taste\": 0, \"Odor\": 0, \"Fat \": 1, \"Turbidity\": 0, \"Colour\": 255, \"Grade\": 1}, {\"pH\": 6.5, \"Temperature\": 38, \"Taste\": 1, \"Odor\": 0, \"Fat \": 1, \"Turbidity\": 0, \"Colour\": 255, \"Grade\": 1}, {\"pH\": 6.7, \"Temperature\": 38, \"Taste\": 1, \"Odor\": 0, \"Fat \": 1, \"Turbidity\": 0, \"Colour\": 255, \"Grade\": 2}, {\"pH\": 3.0, \"Temperature\": 40, \"Taste\": 1, \"Odor\": 1, \"Fat \": 1, \"Turbidity\": 1, \"Colour\": 255, \"Grade\": 0}, {\"pH\": 9.0, \"Temperature\": 43, \"Taste\": 1, \"Odor\": 0, \"Fat \": 1, \"Turbidity\": 1, \"Colour\": 250, \"Grade\": 0}, {\"pH\": 8.6, \"Temperature\": 55, \"Taste\": 0, \"Odor\": 1, \"Fat \": 1, \"Turbidity\": 1, \"Colour\": 255, \"Grade\": 0}, {\"pH\": 6.8, \"Temperature\": 45, \"Taste\": 0, \"Odor\": 0, \"Fat \": 0, \"Turbidity\": 1, \"Colour\": 255, \"Grade\": 1}, {\"pH\": 6.8, \"Temperature\": 45, \"Taste\": 0, \"Odor\": 1, \"Fat \": 1, \"Turbidity\": 1, \"Colour\": 255, \"Grade\": 2}, {\"pH\": 6.5, \"Temperature\": 38, \"Taste\": 1, \"Odor\": 0, \"Fat \": 0, \"Turbidity\": 0, \"Colour\": 255, \"Grade\": 1}, {\"pH\": 4.7, \"Temperature\": 38, \"Taste\": 1, \"Odor\": 0, \"Fat \": 1, \"Turbidity\": 0, \"Colour\": 255, \"Grade\": 0}, {\"pH\": 3.0, \"Temperature\": 40, \"Taste\": 1, \"Odor\": 1, \"Fat \": 1, \"Turbidity\": 1, \"Colour\": 255, \"Grade\": 0}, {\"pH\": 9.0, \"Temperature\": 43, \"Taste\": 1, \"Odor\": 0, \"Fat \": 1, \"Turbidity\": 1, \"Colour\": 250, \"Grade\": 0}, {\"pH\": 6.8, \"Temperature\": 40, \"Taste\": 1, \"Odor\": 0, \"Fat \": 1, \"Turbidity\": 0, \"Colour\": 245, \"Grade\": 1}, {\"pH\": 6.5, \"Temperature\": 37, \"Taste\": 0, \"Odor\": 0, \"Fat \": 0, \"Turbidity\": 0, \"Colour\": 255, \"Grade\": 1}, {\"pH\": 6.6, \"Temperature\": 37, \"Taste\": 1, \"Odor\": 1, \"Fat \": 1, \"Turbidity\": 1, \"Colour\": 255, \"Grade\": 2}, {\"pH\": 5.5, \"Temperature\": 45, \"Taste\": 1, \"Odor\": 0, \"Fat \": 1, \"Turbidity\": 1, \"Colour\": 250, \"Grade\": 0}, {\"pH\": 4.5, \"Temperature\": 60, \"Taste\": 0, \"Odor\": 1, \"Fat \": 1, \"Turbidity\": 1, \"Colour\": 250, \"Grade\": 0}, {\"pH\": 8.1, \"Temperature\": 66, \"Taste\": 1, \"Odor\": 0, \"Fat \": 1, \"Turbidity\": 1, \"Colour\": 255, \"Grade\": 0}, {\"pH\": 6.7, \"Temperature\": 45, \"Taste\": 1, \"Odor\": 1, \"Fat \": 0, \"Turbidity\": 0, \"Colour\": 247, \"Grade\": 1}, {\"pH\": 6.7, \"Temperature\": 45, \"Taste\": 1, \"Odor\": 1, \"Fat \": 1, \"Turbidity\": 0, \"Colour\": 245, \"Grade\": 1}, {\"pH\": 5.6, \"Temperature\": 50, \"Taste\": 0, \"Odor\": 1, \"Fat \": 1, \"Turbidity\": 1, \"Colour\": 255, \"Grade\": 0}, {\"pH\": 8.6, \"Temperature\": 55, \"Taste\": 0, \"Odor\": 1, \"Fat \": 1, \"Turbidity\": 1, \"Colour\": 255, \"Grade\": 0}, {\"pH\": 7.4, \"Temperature\": 90, \"Taste\": 1, \"Odor\": 0, \"Fat \": 1, \"Turbidity\": 1, \"Colour\": 255, \"Grade\": 0}, {\"pH\": 6.8, \"Temperature\": 45, \"Taste\": 0, \"Odor\": 0, \"Fat \": 1, \"Turbidity\": 0, \"Colour\": 255, \"Grade\": 1}, {\"pH\": 6.5, \"Temperature\": 38, \"Taste\": 1, \"Odor\": 0, \"Fat \": 1, \"Turbidity\": 0, \"Colour\": 255, \"Grade\": 1}, {\"pH\": 6.7, \"Temperature\": 38, \"Taste\": 1, \"Odor\": 0, \"Fat \": 1, \"Turbidity\": 0, \"Colour\": 255, \"Grade\": 2}, {\"pH\": 3.0, \"Temperature\": 40, \"Taste\": 1, \"Odor\": 1, \"Fat \": 1, \"Turbidity\": 1, \"Colour\": 255, \"Grade\": 0}, {\"pH\": 9.0, \"Temperature\": 43, \"Taste\": 1, \"Odor\": 0, \"Fat \": 1, \"Turbidity\": 1, \"Colour\": 250, \"Grade\": 0}, {\"pH\": 8.6, \"Temperature\": 55, \"Taste\": 0, \"Odor\": 1, \"Fat \": 1, \"Turbidity\": 1, \"Colour\": 255, \"Grade\": 0}, {\"pH\": 6.8, \"Temperature\": 45, \"Taste\": 0, \"Odor\": 0, \"Fat \": 0, \"Turbidity\": 1, \"Colour\": 255, \"Grade\": 1}, {\"pH\": 6.8, \"Temperature\": 45, \"Taste\": 0, \"Odor\": 1, \"Fat \": 1, \"Turbidity\": 1, \"Colour\": 255, \"Grade\": 2}, {\"pH\": 6.5, \"Temperature\": 38, \"Taste\": 1, \"Odor\": 0, \"Fat \": 0, \"Turbidity\": 0, \"Colour\": 255, \"Grade\": 1}, {\"pH\": 4.7, \"Temperature\": 38, \"Taste\": 1, \"Odor\": 0, \"Fat \": 1, \"Turbidity\": 0, \"Colour\": 255, \"Grade\": 0}, {\"pH\": 3.0, \"Temperature\": 40, \"Taste\": 1, \"Odor\": 1, \"Fat \": 1, \"Turbidity\": 1, \"Colour\": 255, \"Grade\": 0}, {\"pH\": 9.0, \"Temperature\": 43, \"Taste\": 1, \"Odor\": 0, \"Fat \": 1, \"Turbidity\": 1, \"Colour\": 250, \"Grade\": 0}, {\"pH\": 6.8, \"Temperature\": 40, \"Taste\": 1, \"Odor\": 0, \"Fat \": 1, \"Turbidity\": 0, \"Colour\": 245, \"Grade\": 1}, {\"pH\": 6.6, \"Temperature\": 45, \"Taste\": 0, \"Odor\": 1, \"Fat \": 1, \"Turbidity\": 1, \"Colour\": 250, \"Grade\": 2}, {\"pH\": 6.5, \"Temperature\": 36, \"Taste\": 0, \"Odor\": 0, \"Fat \": 1, \"Turbidity\": 0, \"Colour\": 255, \"Grade\": 1}, {\"pH\": 4.5, \"Temperature\": 38, \"Taste\": 0, \"Odor\": 1, \"Fat \": 1, \"Turbidity\": 1, \"Colour\": 255, \"Grade\": 0}, {\"pH\": 6.8, \"Temperature\": 45, \"Taste\": 1, \"Odor\": 1, \"Fat \": 1, \"Turbidity\": 1, \"Colour\": 245, \"Grade\": 2}, {\"pH\": 6.5, \"Temperature\": 35, \"Taste\": 1, \"Odor\": 0, \"Fat \": 1, \"Turbidity\": 0, \"Colour\": 246, \"Grade\": 1}, {\"pH\": 6.8, \"Temperature\": 36, \"Taste\": 0, \"Odor\": 1, \"Fat \": 1, \"Turbidity\": 0, \"Colour\": 253, \"Grade\": 2}, {\"pH\": 8.5, \"Temperature\": 70, \"Taste\": 0, \"Odor\": 0, \"Fat \": 0, \"Turbidity\": 0, \"Colour\": 246, \"Grade\": 0}, {\"pH\": 6.8, \"Temperature\": 34, \"Taste\": 0, \"Odor\": 0, \"Fat \": 0, \"Turbidity\": 1, \"Colour\": 240, \"Grade\": 1}, {\"pH\": 6.5, \"Temperature\": 37, \"Taste\": 0, \"Odor\": 0, \"Fat \": 0, \"Turbidity\": 0, \"Colour\": 245, \"Grade\": 1}, {\"pH\": 6.6, \"Temperature\": 37, \"Taste\": 1, \"Odor\": 0, \"Fat \": 1, \"Turbidity\": 0, \"Colour\": 255, \"Grade\": 2}, {\"pH\": 6.8, \"Temperature\": 45, \"Taste\": 0, \"Odor\": 1, \"Fat \": 0, \"Turbidity\": 0, \"Colour\": 240, \"Grade\": 1}, {\"pH\": 7.4, \"Temperature\": 65, \"Taste\": 0, \"Odor\": 0, \"Fat \": 0, \"Turbidity\": 0, \"Colour\": 255, \"Grade\": 0}, {\"pH\": 6.8, \"Temperature\": 41, \"Taste\": 0, \"Odor\": 0, \"Fat \": 1, \"Turbidity\": 0, \"Colour\": 255, \"Grade\": 1}, {\"pH\": 6.5, \"Temperature\": 38, \"Taste\": 1, \"Odor\": 1, \"Fat \": 1, \"Turbidity\": 1, \"Colour\": 255, \"Grade\": 2}, {\"pH\": 6.6, \"Temperature\": 38, \"Taste\": 0, \"Odor\": 0, \"Fat \": 0, \"Turbidity\": 0, \"Colour\": 255, \"Grade\": 1}, {\"pH\": 3.0, \"Temperature\": 40, \"Taste\": 1, \"Odor\": 0, \"Fat \": 0, \"Turbidity\": 0, \"Colour\": 255, \"Grade\": 0}, {\"pH\": 9.0, \"Temperature\": 43, \"Taste\": 1, \"Odor\": 1, \"Fat \": 1, \"Turbidity\": 1, \"Colour\": 248, \"Grade\": 0}, {\"pH\": 6.5, \"Temperature\": 38, \"Taste\": 1, \"Odor\": 0, \"Fat \": 1, \"Turbidity\": 0, \"Colour\": 255, \"Grade\": 1}, {\"pH\": 6.7, \"Temperature\": 38, \"Taste\": 1, \"Odor\": 0, \"Fat \": 1, \"Turbidity\": 0, \"Colour\": 255, \"Grade\": 2}, {\"pH\": 3.0, \"Temperature\": 40, \"Taste\": 1, \"Odor\": 1, \"Fat \": 1, \"Turbidity\": 1, \"Colour\": 255, \"Grade\": 0}, {\"pH\": 6.6, \"Temperature\": 43, \"Taste\": 1, \"Odor\": 0, \"Fat \": 1, \"Turbidity\": 1, \"Colour\": 250, \"Grade\": 2}, {\"pH\": 8.6, \"Temperature\": 55, \"Taste\": 0, \"Odor\": 1, \"Fat \": 1, \"Turbidity\": 1, \"Colour\": 255, \"Grade\": 0}, {\"pH\": 6.8, \"Temperature\": 45, \"Taste\": 0, \"Odor\": 0, \"Fat \": 0, \"Turbidity\": 1, \"Colour\": 255, \"Grade\": 1}, {\"pH\": 6.8, \"Temperature\": 45, \"Taste\": 0, \"Odor\": 1, \"Fat \": 1, \"Turbidity\": 1, \"Colour\": 255, \"Grade\": 2}, {\"pH\": 6.5, \"Temperature\": 38, \"Taste\": 1, \"Odor\": 0, \"Fat \": 0, \"Turbidity\": 0, \"Colour\": 255, \"Grade\": 1}, {\"pH\": 6.6, \"Temperature\": 38, \"Taste\": 1, \"Odor\": 0, \"Fat \": 1, \"Turbidity\": 0, \"Colour\": 255, \"Grade\": 2}, {\"pH\": 3.0, \"Temperature\": 40, \"Taste\": 1, \"Odor\": 1, \"Fat \": 1, \"Turbidity\": 1, \"Colour\": 255, \"Grade\": 0}, {\"pH\": 9.0, \"Temperature\": 43, \"Taste\": 1, \"Odor\": 0, \"Fat \": 1, \"Turbidity\": 1, \"Colour\": 250, \"Grade\": 0}, {\"pH\": 6.8, \"Temperature\": 40, \"Taste\": 1, \"Odor\": 0, \"Fat \": 1, \"Turbidity\": 0, \"Colour\": 245, \"Grade\": 1}, {\"pH\": 6.6, \"Temperature\": 45, \"Taste\": 0, \"Odor\": 0, \"Fat \": 0, \"Turbidity\": 1, \"Colour\": 250, \"Grade\": 1}, {\"pH\": 6.5, \"Temperature\": 36, \"Taste\": 0, \"Odor\": 0, \"Fat \": 1, \"Turbidity\": 0, \"Colour\": 255, \"Grade\": 1}, {\"pH\": 6.6, \"Temperature\": 38, \"Taste\": 0, \"Odor\": 0, \"Fat \": 1, \"Turbidity\": 0, \"Colour\": 255, \"Grade\": 1}, {\"pH\": 6.8, \"Temperature\": 45, \"Taste\": 1, \"Odor\": 1, \"Fat \": 1, \"Turbidity\": 1, \"Colour\": 245, \"Grade\": 2}, {\"pH\": 6.5, \"Temperature\": 55, \"Taste\": 1, \"Odor\": 0, \"Fat \": 1, \"Turbidity\": 0, \"Colour\": 246, \"Grade\": 0}, {\"pH\": 6.8, \"Temperature\": 36, \"Taste\": 0, \"Odor\": 1, \"Fat \": 1, \"Turbidity\": 0, \"Colour\": 253, \"Grade\": 2}, {\"pH\": 8.5, \"Temperature\": 70, \"Taste\": 0, \"Odor\": 0, \"Fat \": 0, \"Turbidity\": 0, \"Colour\": 246, \"Grade\": 0}, {\"pH\": 6.8, \"Temperature\": 40, \"Taste\": 1, \"Odor\": 0, \"Fat \": 1, \"Turbidity\": 0, \"Colour\": 245, \"Grade\": 1}, {\"pH\": 6.6, \"Temperature\": 45, \"Taste\": 0, \"Odor\": 1, \"Fat \": 1, \"Turbidity\": 1, \"Colour\": 250, \"Grade\": 2}, {\"pH\": 6.5, \"Temperature\": 36, \"Taste\": 0, \"Odor\": 0, \"Fat \": 1, \"Turbidity\": 0, \"Colour\": 255, \"Grade\": 1}, {\"pH\": 4.5, \"Temperature\": 38, \"Taste\": 0, \"Odor\": 1, \"Fat \": 1, \"Turbidity\": 1, \"Colour\": 255, \"Grade\": 0}, {\"pH\": 6.8, \"Temperature\": 45, \"Taste\": 1, \"Odor\": 1, \"Fat \": 1, \"Turbidity\": 1, \"Colour\": 245, \"Grade\": 2}, {\"pH\": 6.5, \"Temperature\": 35, \"Taste\": 1, \"Odor\": 0, \"Fat \": 1, \"Turbidity\": 0, \"Colour\": 246, \"Grade\": 1}, {\"pH\": 6.8, \"Temperature\": 36, \"Taste\": 0, \"Odor\": 1, \"Fat \": 1, \"Turbidity\": 0, \"Colour\": 253, \"Grade\": 2}, {\"pH\": 8.5, \"Temperature\": 70, \"Taste\": 0, \"Odor\": 0, \"Fat \": 0, \"Turbidity\": 0, \"Colour\": 246, \"Grade\": 0}, {\"pH\": 6.8, \"Temperature\": 34, \"Taste\": 0, \"Odor\": 0, \"Fat \": 0, \"Turbidity\": 1, \"Colour\": 240, \"Grade\": 1}, {\"pH\": 9.0, \"Temperature\": 43, \"Taste\": 1, \"Odor\": 1, \"Fat \": 1, \"Turbidity\": 1, \"Colour\": 248, \"Grade\": 0}, {\"pH\": 6.8, \"Temperature\": 40, \"Taste\": 1, \"Odor\": 1, \"Fat \": 1, \"Turbidity\": 1, \"Colour\": 255, \"Grade\": 2}, {\"pH\": 6.6, \"Temperature\": 50, \"Taste\": 0, \"Odor\": 0, \"Fat \": 0, \"Turbidity\": 1, \"Colour\": 250, \"Grade\": 0}, {\"pH\": 6.5, \"Temperature\": 36, \"Taste\": 0, \"Odor\": 0, \"Fat \": 0, \"Turbidity\": 0, \"Colour\": 247, \"Grade\": 1}, {\"pH\": 6.6, \"Temperature\": 50, \"Taste\": 0, \"Odor\": 0, \"Fat \": 0, \"Turbidity\": 0, \"Colour\": 255, \"Grade\": 0}, {\"pH\": 6.8, \"Temperature\": 45, \"Taste\": 1, \"Odor\": 1, \"Fat \": 1, \"Turbidity\": 0, \"Colour\": 245, \"Grade\": 2}, {\"pH\": 9.5, \"Temperature\": 34, \"Taste\": 1, \"Odor\": 1, \"Fat \": 0, \"Turbidity\": 1, \"Colour\": 255, \"Grade\": 0}, {\"pH\": 6.5, \"Temperature\": 37, \"Taste\": 0, \"Odor\": 0, \"Fat \": 0, \"Turbidity\": 0, \"Colour\": 255, \"Grade\": 1}, {\"pH\": 9.5, \"Temperature\": 34, \"Taste\": 1, \"Odor\": 1, \"Fat \": 0, \"Turbidity\": 1, \"Colour\": 255, \"Grade\": 0}, {\"pH\": 6.5, \"Temperature\": 37, \"Taste\": 0, \"Odor\": 0, \"Fat \": 0, \"Turbidity\": 0, \"Colour\": 255, \"Grade\": 1}, {\"pH\": 6.6, \"Temperature\": 37, \"Taste\": 1, \"Odor\": 1, \"Fat \": 1, \"Turbidity\": 1, \"Colour\": 255, \"Grade\": 2}, {\"pH\": 5.5, \"Temperature\": 45, \"Taste\": 1, \"Odor\": 0, \"Fat \": 1, \"Turbidity\": 1, \"Colour\": 250, \"Grade\": 0}, {\"pH\": 4.5, \"Temperature\": 60, \"Taste\": 0, \"Odor\": 1, \"Fat \": 1, \"Turbidity\": 1, \"Colour\": 250, \"Grade\": 0}, {\"pH\": 8.1, \"Temperature\": 66, \"Taste\": 1, \"Odor\": 0, \"Fat \": 1, \"Turbidity\": 1, \"Colour\": 255, \"Grade\": 0}, {\"pH\": 6.7, \"Temperature\": 45, \"Taste\": 1, \"Odor\": 1, \"Fat \": 0, \"Turbidity\": 0, \"Colour\": 247, \"Grade\": 1}, {\"pH\": 6.7, \"Temperature\": 45, \"Taste\": 1, \"Odor\": 1, \"Fat \": 1, \"Turbidity\": 0, \"Colour\": 245, \"Grade\": 1}, {\"pH\": 5.6, \"Temperature\": 50, \"Taste\": 0, \"Odor\": 1, \"Fat \": 1, \"Turbidity\": 1, \"Colour\": 255, \"Grade\": 0}, {\"pH\": 6.6, \"Temperature\": 35, \"Taste\": 0, \"Odor\": 1, \"Fat \": 1, \"Turbidity\": 1, \"Colour\": 255, \"Grade\": 2}, {\"pH\": 7.4, \"Temperature\": 90, \"Taste\": 1, \"Odor\": 0, \"Fat \": 1, \"Turbidity\": 1, \"Colour\": 255, \"Grade\": 0}, {\"pH\": 6.8, \"Temperature\": 50, \"Taste\": 0, \"Odor\": 0, \"Fat \": 1, \"Turbidity\": 0, \"Colour\": 255, \"Grade\": 0}, {\"pH\": 6.5, \"Temperature\": 38, \"Taste\": 1, \"Odor\": 0, \"Fat \": 1, \"Turbidity\": 0, \"Colour\": 255, \"Grade\": 1}, {\"pH\": 6.7, \"Temperature\": 41, \"Taste\": 1, \"Odor\": 0, \"Fat \": 0, \"Turbidity\": 0, \"Colour\": 247, \"Grade\": 1}, {\"pH\": 6.7, \"Temperature\": 50, \"Taste\": 1, \"Odor\": 1, \"Fat \": 1, \"Turbidity\": 0, \"Colour\": 245, \"Grade\": 0}, {\"pH\": 6.8, \"Temperature\": 45, \"Taste\": 0, \"Odor\": 1, \"Fat \": 1, \"Turbidity\": 1, \"Colour\": 255, \"Grade\": 2}, {\"pH\": 8.6, \"Temperature\": 55, \"Taste\": 0, \"Odor\": 1, \"Fat \": 0, \"Turbidity\": 0, \"Colour\": 255, \"Grade\": 0}, {\"pH\": 7.4, \"Temperature\": 65, \"Taste\": 0, \"Odor\": 0, \"Fat \": 0, \"Turbidity\": 0, \"Colour\": 255, \"Grade\": 0}, {\"pH\": 6.8, \"Temperature\": 41, \"Taste\": 0, \"Odor\": 0, \"Fat \": 0, \"Turbidity\": 0, \"Colour\": 255, \"Grade\": 1}, {\"pH\": 6.5, \"Temperature\": 38, \"Taste\": 1, \"Odor\": 1, \"Fat \": 1, \"Turbidity\": 1, \"Colour\": 255, \"Grade\": 2}, {\"pH\": 6.8, \"Temperature\": 38, \"Taste\": 0, \"Odor\": 0, \"Fat \": 0, \"Turbidity\": 0, \"Colour\": 255, \"Grade\": 1}, {\"pH\": 3.0, \"Temperature\": 40, \"Taste\": 1, \"Odor\": 0, \"Fat \": 0, \"Turbidity\": 0, \"Colour\": 255, \"Grade\": 0}, {\"pH\": 9.0, \"Temperature\": 43, \"Taste\": 1, \"Odor\": 1, \"Fat \": 1, \"Turbidity\": 1, \"Colour\": 248, \"Grade\": 0}, {\"pH\": 6.8, \"Temperature\": 40, \"Taste\": 1, \"Odor\": 1, \"Fat \": 1, \"Turbidity\": 1, \"Colour\": 255, \"Grade\": 2}, {\"pH\": 6.6, \"Temperature\": 45, \"Taste\": 0, \"Odor\": 0, \"Fat \": 0, \"Turbidity\": 1, \"Colour\": 250, \"Grade\": 1}, {\"pH\": 6.5, \"Temperature\": 36, \"Taste\": 0, \"Odor\": 0, \"Fat \": 0, \"Turbidity\": 0, \"Colour\": 247, \"Grade\": 1}, {\"pH\": 6.6, \"Temperature\": 38, \"Taste\": 0, \"Odor\": 0, \"Fat \": 0, \"Turbidity\": 0, \"Colour\": 255, \"Grade\": 1}, {\"pH\": 6.8, \"Temperature\": 45, \"Taste\": 1, \"Odor\": 1, \"Fat \": 1, \"Turbidity\": 0, \"Colour\": 245, \"Grade\": 2}, {\"pH\": 9.5, \"Temperature\": 34, \"Taste\": 1, \"Odor\": 1, \"Fat \": 0, \"Turbidity\": 1, \"Colour\": 255, \"Grade\": 0}, {\"pH\": 6.5, \"Temperature\": 37, \"Taste\": 0, \"Odor\": 0, \"Fat \": 0, \"Turbidity\": 0, \"Colour\": 255, \"Grade\": 1}, {\"pH\": 6.6, \"Temperature\": 37, \"Taste\": 1, \"Odor\": 1, \"Fat \": 1, \"Turbidity\": 1, \"Colour\": 255, \"Grade\": 2}, {\"pH\": 5.5, \"Temperature\": 45, \"Taste\": 1, \"Odor\": 0, \"Fat \": 1, \"Turbidity\": 1, \"Colour\": 250, \"Grade\": 0}, {\"pH\": 4.5, \"Temperature\": 60, \"Taste\": 0, \"Odor\": 1, \"Fat \": 1, \"Turbidity\": 1, \"Colour\": 250, \"Grade\": 0}, {\"pH\": 8.1, \"Temperature\": 66, \"Taste\": 1, \"Odor\": 0, \"Fat \": 1, \"Turbidity\": 1, \"Colour\": 255, \"Grade\": 0}, {\"pH\": 6.7, \"Temperature\": 45, \"Taste\": 1, \"Odor\": 1, \"Fat \": 0, \"Turbidity\": 0, \"Colour\": 247, \"Grade\": 1}, {\"pH\": 6.7, \"Temperature\": 45, \"Taste\": 1, \"Odor\": 1, \"Fat \": 1, \"Turbidity\": 0, \"Colour\": 245, \"Grade\": 1}, {\"pH\": 5.6, \"Temperature\": 50, \"Taste\": 0, \"Odor\": 1, \"Fat \": 1, \"Turbidity\": 1, \"Colour\": 255, \"Grade\": 0}, {\"pH\": 8.6, \"Temperature\": 55, \"Taste\": 0, \"Odor\": 1, \"Fat \": 1, \"Turbidity\": 1, \"Colour\": 255, \"Grade\": 0}, {\"pH\": 7.4, \"Temperature\": 90, \"Taste\": 1, \"Odor\": 0, \"Fat \": 1, \"Turbidity\": 1, \"Colour\": 255, \"Grade\": 0}, {\"pH\": 6.8, \"Temperature\": 45, \"Taste\": 0, \"Odor\": 0, \"Fat \": 1, \"Turbidity\": 0, \"Colour\": 255, \"Grade\": 1}, {\"pH\": 6.5, \"Temperature\": 38, \"Taste\": 1, \"Odor\": 0, \"Fat \": 1, \"Turbidity\": 0, \"Colour\": 255, \"Grade\": 1}, {\"pH\": 6.7, \"Temperature\": 38, \"Taste\": 1, \"Odor\": 0, \"Fat \": 1, \"Turbidity\": 0, \"Colour\": 255, \"Grade\": 2}, {\"pH\": 3.0, \"Temperature\": 40, \"Taste\": 1, \"Odor\": 1, \"Fat \": 1, \"Turbidity\": 1, \"Colour\": 255, \"Grade\": 0}, {\"pH\": 9.0, \"Temperature\": 43, \"Taste\": 1, \"Odor\": 0, \"Fat \": 1, \"Turbidity\": 1, \"Colour\": 250, \"Grade\": 0}, {\"pH\": 8.6, \"Temperature\": 55, \"Taste\": 0, \"Odor\": 1, \"Fat \": 1, \"Turbidity\": 1, \"Colour\": 255, \"Grade\": 0}, {\"pH\": 6.8, \"Temperature\": 45, \"Taste\": 0, \"Odor\": 0, \"Fat \": 0, \"Turbidity\": 1, \"Colour\": 255, \"Grade\": 1}, {\"pH\": 6.8, \"Temperature\": 45, \"Taste\": 0, \"Odor\": 1, \"Fat \": 1, \"Turbidity\": 1, \"Colour\": 255, \"Grade\": 2}, {\"pH\": 6.5, \"Temperature\": 38, \"Taste\": 1, \"Odor\": 0, \"Fat \": 0, \"Turbidity\": 0, \"Colour\": 255, \"Grade\": 1}, {\"pH\": 4.7, \"Temperature\": 38, \"Taste\": 1, \"Odor\": 0, \"Fat \": 1, \"Turbidity\": 0, \"Colour\": 255, \"Grade\": 0}, {\"pH\": 3.0, \"Temperature\": 40, \"Taste\": 1, \"Odor\": 1, \"Fat \": 1, \"Turbidity\": 1, \"Colour\": 255, \"Grade\": 0}, {\"pH\": 9.0, \"Temperature\": 43, \"Taste\": 1, \"Odor\": 0, \"Fat \": 1, \"Turbidity\": 1, \"Colour\": 250, \"Grade\": 0}, {\"pH\": 6.8, \"Temperature\": 40, \"Taste\": 1, \"Odor\": 0, \"Fat \": 1, \"Turbidity\": 0, \"Colour\": 245, \"Grade\": 1}, {\"pH\": 6.5, \"Temperature\": 37, \"Taste\": 0, \"Odor\": 0, \"Fat \": 0, \"Turbidity\": 0, \"Colour\": 255, \"Grade\": 1}, {\"pH\": 6.6, \"Temperature\": 37, \"Taste\": 1, \"Odor\": 1, \"Fat \": 1, \"Turbidity\": 1, \"Colour\": 255, \"Grade\": 2}, {\"pH\": 5.5, \"Temperature\": 45, \"Taste\": 1, \"Odor\": 0, \"Fat \": 1, \"Turbidity\": 1, \"Colour\": 250, \"Grade\": 0}, {\"pH\": 4.5, \"Temperature\": 60, \"Taste\": 0, \"Odor\": 1, \"Fat \": 1, \"Turbidity\": 1, \"Colour\": 250, \"Grade\": 0}, {\"pH\": 8.1, \"Temperature\": 66, \"Taste\": 1, \"Odor\": 0, \"Fat \": 1, \"Turbidity\": 1, \"Colour\": 255, \"Grade\": 0}, {\"pH\": 6.7, \"Temperature\": 45, \"Taste\": 1, \"Odor\": 1, \"Fat \": 0, \"Turbidity\": 0, \"Colour\": 247, \"Grade\": 1}, {\"pH\": 6.7, \"Temperature\": 45, \"Taste\": 1, \"Odor\": 1, \"Fat \": 1, \"Turbidity\": 0, \"Colour\": 245, \"Grade\": 1}, {\"pH\": 5.6, \"Temperature\": 50, \"Taste\": 0, \"Odor\": 1, \"Fat \": 1, \"Turbidity\": 1, \"Colour\": 255, \"Grade\": 0}, {\"pH\": 8.6, \"Temperature\": 55, \"Taste\": 0, \"Odor\": 1, \"Fat \": 1, \"Turbidity\": 1, \"Colour\": 255, \"Grade\": 0}, {\"pH\": 7.4, \"Temperature\": 90, \"Taste\": 1, \"Odor\": 0, \"Fat \": 1, \"Turbidity\": 1, \"Colour\": 255, \"Grade\": 0}, {\"pH\": 6.8, \"Temperature\": 45, \"Taste\": 0, \"Odor\": 0, \"Fat \": 1, \"Turbidity\": 0, \"Colour\": 255, \"Grade\": 1}, {\"pH\": 6.5, \"Temperature\": 38, \"Taste\": 1, \"Odor\": 0, \"Fat \": 1, \"Turbidity\": 0, \"Colour\": 255, \"Grade\": 1}, {\"pH\": 6.7, \"Temperature\": 38, \"Taste\": 1, \"Odor\": 0, \"Fat \": 1, \"Turbidity\": 0, \"Colour\": 255, \"Grade\": 2}, {\"pH\": 3.0, \"Temperature\": 40, \"Taste\": 1, \"Odor\": 1, \"Fat \": 1, \"Turbidity\": 1, \"Colour\": 255, \"Grade\": 0}, {\"pH\": 9.0, \"Temperature\": 43, \"Taste\": 1, \"Odor\": 0, \"Fat \": 1, \"Turbidity\": 1, \"Colour\": 250, \"Grade\": 0}, {\"pH\": 8.6, \"Temperature\": 55, \"Taste\": 0, \"Odor\": 1, \"Fat \": 1, \"Turbidity\": 1, \"Colour\": 255, \"Grade\": 0}, {\"pH\": 6.8, \"Temperature\": 45, \"Taste\": 0, \"Odor\": 0, \"Fat \": 0, \"Turbidity\": 1, \"Colour\": 255, \"Grade\": 1}, {\"pH\": 6.8, \"Temperature\": 45, \"Taste\": 0, \"Odor\": 1, \"Fat \": 1, \"Turbidity\": 1, \"Colour\": 255, \"Grade\": 2}, {\"pH\": 6.5, \"Temperature\": 38, \"Taste\": 1, \"Odor\": 0, \"Fat \": 0, \"Turbidity\": 0, \"Colour\": 255, \"Grade\": 1}, {\"pH\": 4.7, \"Temperature\": 38, \"Taste\": 1, \"Odor\": 0, \"Fat \": 1, \"Turbidity\": 0, \"Colour\": 255, \"Grade\": 0}, {\"pH\": 3.0, \"Temperature\": 40, \"Taste\": 1, \"Odor\": 1, \"Fat \": 1, \"Turbidity\": 1, \"Colour\": 255, \"Grade\": 0}, {\"pH\": 9.0, \"Temperature\": 43, \"Taste\": 1, \"Odor\": 0, \"Fat \": 1, \"Turbidity\": 1, \"Colour\": 250, \"Grade\": 0}, {\"pH\": 6.8, \"Temperature\": 40, \"Taste\": 1, \"Odor\": 0, \"Fat \": 1, \"Turbidity\": 0, \"Colour\": 245, \"Grade\": 1}, {\"pH\": 6.6, \"Temperature\": 45, \"Taste\": 0, \"Odor\": 1, \"Fat \": 1, \"Turbidity\": 1, \"Colour\": 250, \"Grade\": 2}, {\"pH\": 6.5, \"Temperature\": 36, \"Taste\": 0, \"Odor\": 0, \"Fat \": 1, \"Turbidity\": 0, \"Colour\": 255, \"Grade\": 1}, {\"pH\": 4.5, \"Temperature\": 38, \"Taste\": 0, \"Odor\": 1, \"Fat \": 1, \"Turbidity\": 1, \"Colour\": 255, \"Grade\": 0}, {\"pH\": 6.8, \"Temperature\": 45, \"Taste\": 1, \"Odor\": 1, \"Fat \": 1, \"Turbidity\": 1, \"Colour\": 245, \"Grade\": 2}, {\"pH\": 6.5, \"Temperature\": 35, \"Taste\": 1, \"Odor\": 0, \"Fat \": 1, \"Turbidity\": 0, \"Colour\": 246, \"Grade\": 1}, {\"pH\": 6.8, \"Temperature\": 36, \"Taste\": 0, \"Odor\": 1, \"Fat \": 1, \"Turbidity\": 0, \"Colour\": 253, \"Grade\": 2}, {\"pH\": 8.5, \"Temperature\": 70, \"Taste\": 0, \"Odor\": 0, \"Fat \": 0, \"Turbidity\": 0, \"Colour\": 246, \"Grade\": 0}, {\"pH\": 6.8, \"Temperature\": 34, \"Taste\": 0, \"Odor\": 0, \"Fat \": 0, \"Turbidity\": 1, \"Colour\": 240, \"Grade\": 1}, {\"pH\": 6.5, \"Temperature\": 37, \"Taste\": 0, \"Odor\": 0, \"Fat \": 0, \"Turbidity\": 0, \"Colour\": 245, \"Grade\": 1}, {\"pH\": 6.6, \"Temperature\": 37, \"Taste\": 1, \"Odor\": 0, \"Fat \": 1, \"Turbidity\": 0, \"Colour\": 255, \"Grade\": 2}, {\"pH\": 6.8, \"Temperature\": 45, \"Taste\": 0, \"Odor\": 1, \"Fat \": 0, \"Turbidity\": 0, \"Colour\": 240, \"Grade\": 1}, {\"pH\": 7.4, \"Temperature\": 65, \"Taste\": 0, \"Odor\": 0, \"Fat \": 0, \"Turbidity\": 0, \"Colour\": 255, \"Grade\": 0}, {\"pH\": 6.8, \"Temperature\": 41, \"Taste\": 0, \"Odor\": 0, \"Fat \": 1, \"Turbidity\": 0, \"Colour\": 255, \"Grade\": 1}, {\"pH\": 6.5, \"Temperature\": 38, \"Taste\": 1, \"Odor\": 1, \"Fat \": 1, \"Turbidity\": 1, \"Colour\": 255, \"Grade\": 2}, {\"pH\": 6.6, \"Temperature\": 38, \"Taste\": 0, \"Odor\": 0, \"Fat \": 0, \"Turbidity\": 0, \"Colour\": 255, \"Grade\": 1}, {\"pH\": 3.0, \"Temperature\": 40, \"Taste\": 1, \"Odor\": 0, \"Fat \": 0, \"Turbidity\": 0, \"Colour\": 255, \"Grade\": 0}, {\"pH\": 9.0, \"Temperature\": 43, \"Taste\": 1, \"Odor\": 1, \"Fat \": 1, \"Turbidity\": 1, \"Colour\": 248, \"Grade\": 0}, {\"pH\": 6.5, \"Temperature\": 38, \"Taste\": 1, \"Odor\": 0, \"Fat \": 1, \"Turbidity\": 0, \"Colour\": 255, \"Grade\": 1}, {\"pH\": 6.7, \"Temperature\": 38, \"Taste\": 1, \"Odor\": 0, \"Fat \": 1, \"Turbidity\": 0, \"Colour\": 255, \"Grade\": 2}, {\"pH\": 3.0, \"Temperature\": 40, \"Taste\": 1, \"Odor\": 1, \"Fat \": 1, \"Turbidity\": 1, \"Colour\": 255, \"Grade\": 0}, {\"pH\": 6.6, \"Temperature\": 43, \"Taste\": 1, \"Odor\": 0, \"Fat \": 1, \"Turbidity\": 1, \"Colour\": 250, \"Grade\": 2}, {\"pH\": 8.6, \"Temperature\": 55, \"Taste\": 0, \"Odor\": 1, \"Fat \": 1, \"Turbidity\": 1, \"Colour\": 255, \"Grade\": 0}, {\"pH\": 6.8, \"Temperature\": 45, \"Taste\": 0, \"Odor\": 0, \"Fat \": 0, \"Turbidity\": 1, \"Colour\": 255, \"Grade\": 1}, {\"pH\": 6.8, \"Temperature\": 45, \"Taste\": 0, \"Odor\": 1, \"Fat \": 1, \"Turbidity\": 1, \"Colour\": 255, \"Grade\": 2}, {\"pH\": 6.5, \"Temperature\": 38, \"Taste\": 1, \"Odor\": 0, \"Fat \": 0, \"Turbidity\": 0, \"Colour\": 255, \"Grade\": 1}, {\"pH\": 6.6, \"Temperature\": 38, \"Taste\": 1, \"Odor\": 0, \"Fat \": 1, \"Turbidity\": 0, \"Colour\": 255, \"Grade\": 2}, {\"pH\": 3.0, \"Temperature\": 40, \"Taste\": 1, \"Odor\": 1, \"Fat \": 1, \"Turbidity\": 1, \"Colour\": 255, \"Grade\": 0}, {\"pH\": 9.0, \"Temperature\": 43, \"Taste\": 1, \"Odor\": 0, \"Fat \": 1, \"Turbidity\": 1, \"Colour\": 250, \"Grade\": 0}, {\"pH\": 6.8, \"Temperature\": 40, \"Taste\": 1, \"Odor\": 0, \"Fat \": 1, \"Turbidity\": 0, \"Colour\": 245, \"Grade\": 1}, {\"pH\": 6.6, \"Temperature\": 45, \"Taste\": 0, \"Odor\": 0, \"Fat \": 0, \"Turbidity\": 1, \"Colour\": 250, \"Grade\": 1}, {\"pH\": 6.5, \"Temperature\": 36, \"Taste\": 0, \"Odor\": 0, \"Fat \": 1, \"Turbidity\": 0, \"Colour\": 255, \"Grade\": 1}, {\"pH\": 6.8, \"Temperature\": 45, \"Taste\": 0, \"Odor\": 1, \"Fat \": 1, \"Turbidity\": 1, \"Colour\": 255, \"Grade\": 2}, {\"pH\": 6.5, \"Temperature\": 38, \"Taste\": 1, \"Odor\": 0, \"Fat \": 0, \"Turbidity\": 0, \"Colour\": 255, \"Grade\": 1}, {\"pH\": 4.7, \"Temperature\": 38, \"Taste\": 1, \"Odor\": 0, \"Fat \": 1, \"Turbidity\": 0, \"Colour\": 255, \"Grade\": 0}, {\"pH\": 3.0, \"Temperature\": 40, \"Taste\": 1, \"Odor\": 1, \"Fat \": 1, \"Turbidity\": 1, \"Colour\": 255, \"Grade\": 0}, {\"pH\": 9.0, \"Temperature\": 43, \"Taste\": 1, \"Odor\": 0, \"Fat \": 1, \"Turbidity\": 1, \"Colour\": 250, \"Grade\": 0}, {\"pH\": 6.8, \"Temperature\": 40, \"Taste\": 1, \"Odor\": 0, \"Fat \": 1, \"Turbidity\": 0, \"Colour\": 245, \"Grade\": 1}, {\"pH\": 6.6, \"Temperature\": 45, \"Taste\": 0, \"Odor\": 1, \"Fat \": 1, \"Turbidity\": 1, \"Colour\": 250, \"Grade\": 2}, {\"pH\": 6.5, \"Temperature\": 36, \"Taste\": 0, \"Odor\": 0, \"Fat \": 1, \"Turbidity\": 0, \"Colour\": 255, \"Grade\": 1}, {\"pH\": 4.5, \"Temperature\": 38, \"Taste\": 0, \"Odor\": 1, \"Fat \": 1, \"Turbidity\": 1, \"Colour\": 255, \"Grade\": 0}, {\"pH\": 6.8, \"Temperature\": 45, \"Taste\": 1, \"Odor\": 1, \"Fat \": 1, \"Turbidity\": 1, \"Colour\": 245, \"Grade\": 2}, {\"pH\": 6.5, \"Temperature\": 35, \"Taste\": 1, \"Odor\": 0, \"Fat \": 1, \"Turbidity\": 0, \"Colour\": 246, \"Grade\": 1}, {\"pH\": 6.8, \"Temperature\": 36, \"Taste\": 0, \"Odor\": 1, \"Fat \": 1, \"Turbidity\": 0, \"Colour\": 253, \"Grade\": 2}, {\"pH\": 8.5, \"Temperature\": 70, \"Taste\": 0, \"Odor\": 0, \"Fat \": 0, \"Turbidity\": 0, \"Colour\": 246, \"Grade\": 0}, {\"pH\": 6.8, \"Temperature\": 34, \"Taste\": 0, \"Odor\": 0, \"Fat \": 0, \"Turbidity\": 1, \"Colour\": 240, \"Grade\": 1}, {\"pH\": 6.5, \"Temperature\": 37, \"Taste\": 0, \"Odor\": 0, \"Fat \": 0, \"Turbidity\": 0, \"Colour\": 245, \"Grade\": 1}, {\"pH\": 6.6, \"Temperature\": 37, \"Taste\": 1, \"Odor\": 0, \"Fat \": 1, \"Turbidity\": 0, \"Colour\": 255, \"Grade\": 2}, {\"pH\": 6.8, \"Temperature\": 45, \"Taste\": 0, \"Odor\": 1, \"Fat \": 0, \"Turbidity\": 0, \"Colour\": 240, \"Grade\": 1}, {\"pH\": 7.4, \"Temperature\": 65, \"Taste\": 0, \"Odor\": 0, \"Fat \": 0, \"Turbidity\": 0, \"Colour\": 255, \"Grade\": 0}, {\"pH\": 6.8, \"Temperature\": 41, \"Taste\": 0, \"Odor\": 0, \"Fat \": 1, \"Turbidity\": 0, \"Colour\": 255, \"Grade\": 1}, {\"pH\": 6.5, \"Temperature\": 38, \"Taste\": 1, \"Odor\": 1, \"Fat \": 1, \"Turbidity\": 1, \"Colour\": 255, \"Grade\": 2}, {\"pH\": 6.6, \"Temperature\": 38, \"Taste\": 0, \"Odor\": 0, \"Fat \": 0, \"Turbidity\": 0, \"Colour\": 255, \"Grade\": 1}, {\"pH\": 3.0, \"Temperature\": 40, \"Taste\": 1, \"Odor\": 0, \"Fat \": 0, \"Turbidity\": 0, \"Colour\": 255, \"Grade\": 0}, {\"pH\": 9.0, \"Temperature\": 43, \"Taste\": 1, \"Odor\": 1, \"Fat \": 1, \"Turbidity\": 1, \"Colour\": 248, \"Grade\": 0}, {\"pH\": 6.8, \"Temperature\": 40, \"Taste\": 1, \"Odor\": 1, \"Fat \": 1, \"Turbidity\": 1, \"Colour\": 255, \"Grade\": 2}, {\"pH\": 6.6, \"Temperature\": 50, \"Taste\": 0, \"Odor\": 0, \"Fat \": 0, \"Turbidity\": 1, \"Colour\": 250, \"Grade\": 0}, {\"pH\": 6.5, \"Temperature\": 36, \"Taste\": 0, \"Odor\": 0, \"Fat \": 0, \"Turbidity\": 0, \"Colour\": 247, \"Grade\": 1}, {\"pH\": 6.6, \"Temperature\": 50, \"Taste\": 0, \"Odor\": 0, \"Fat \": 0, \"Turbidity\": 0, \"Colour\": 255, \"Grade\": 0}, {\"pH\": 6.8, \"Temperature\": 45, \"Taste\": 1, \"Odor\": 1, \"Fat \": 1, \"Turbidity\": 0, \"Colour\": 245, \"Grade\": 2}, {\"pH\": 9.5, \"Temperature\": 34, \"Taste\": 1, \"Odor\": 1, \"Fat \": 0, \"Turbidity\": 1, \"Colour\": 255, \"Grade\": 0}, {\"pH\": 6.5, \"Temperature\": 37, \"Taste\": 0, \"Odor\": 0, \"Fat \": 0, \"Turbidity\": 0, \"Colour\": 255, \"Grade\": 1}, {\"pH\": 9.5, \"Temperature\": 34, \"Taste\": 1, \"Odor\": 1, \"Fat \": 0, \"Turbidity\": 1, \"Colour\": 255, \"Grade\": 0}, {\"pH\": 6.5, \"Temperature\": 37, \"Taste\": 0, \"Odor\": 0, \"Fat \": 0, \"Turbidity\": 0, \"Colour\": 255, \"Grade\": 1}, {\"pH\": 6.6, \"Temperature\": 37, \"Taste\": 1, \"Odor\": 1, \"Fat \": 1, \"Turbidity\": 1, \"Colour\": 255, \"Grade\": 2}, {\"pH\": 5.5, \"Temperature\": 45, \"Taste\": 1, \"Odor\": 0, \"Fat \": 1, \"Turbidity\": 1, \"Colour\": 250, \"Grade\": 0}, {\"pH\": 4.5, \"Temperature\": 60, \"Taste\": 0, \"Odor\": 1, \"Fat \": 1, \"Turbidity\": 1, \"Colour\": 250, \"Grade\": 0}, {\"pH\": 8.1, \"Temperature\": 66, \"Taste\": 1, \"Odor\": 0, \"Fat \": 1, \"Turbidity\": 1, \"Colour\": 255, \"Grade\": 0}, {\"pH\": 6.7, \"Temperature\": 45, \"Taste\": 1, \"Odor\": 1, \"Fat \": 0, \"Turbidity\": 0, \"Colour\": 247, \"Grade\": 1}, {\"pH\": 6.7, \"Temperature\": 45, \"Taste\": 1, \"Odor\": 1, \"Fat \": 1, \"Turbidity\": 0, \"Colour\": 245, \"Grade\": 1}, {\"pH\": 5.6, \"Temperature\": 50, \"Taste\": 0, \"Odor\": 1, \"Fat \": 1, \"Turbidity\": 1, \"Colour\": 255, \"Grade\": 0}, {\"pH\": 6.6, \"Temperature\": 35, \"Taste\": 0, \"Odor\": 1, \"Fat \": 1, \"Turbidity\": 1, \"Colour\": 255, \"Grade\": 2}, {\"pH\": 7.4, \"Temperature\": 90, \"Taste\": 1, \"Odor\": 0, \"Fat \": 1, \"Turbidity\": 1, \"Colour\": 255, \"Grade\": 0}, {\"pH\": 6.8, \"Temperature\": 50, \"Taste\": 0, \"Odor\": 0, \"Fat \": 1, \"Turbidity\": 0, \"Colour\": 255, \"Grade\": 0}, {\"pH\": 6.5, \"Temperature\": 38, \"Taste\": 1, \"Odor\": 0, \"Fat \": 1, \"Turbidity\": 0, \"Colour\": 255, \"Grade\": 1}, {\"pH\": 6.7, \"Temperature\": 38, \"Taste\": 1, \"Odor\": 0, \"Fat \": 1, \"Turbidity\": 0, \"Colour\": 255, \"Grade\": 2}, {\"pH\": 3.0, \"Temperature\": 40, \"Taste\": 1, \"Odor\": 1, \"Fat \": 1, \"Turbidity\": 1, \"Colour\": 255, \"Grade\": 0}, {\"pH\": 6.6, \"Temperature\": 43, \"Taste\": 1, \"Odor\": 0, \"Fat \": 1, \"Turbidity\": 1, \"Colour\": 250, \"Grade\": 2}, {\"pH\": 8.6, \"Temperature\": 55, \"Taste\": 0, \"Odor\": 1, \"Fat \": 1, \"Turbidity\": 1, \"Colour\": 255, \"Grade\": 0}, {\"pH\": 6.8, \"Temperature\": 45, \"Taste\": 0, \"Odor\": 0, \"Fat \": 0, \"Turbidity\": 1, \"Colour\": 255, \"Grade\": 1}, {\"pH\": 6.8, \"Temperature\": 45, \"Taste\": 0, \"Odor\": 1, \"Fat \": 1, \"Turbidity\": 1, \"Colour\": 255, \"Grade\": 2}, {\"pH\": 6.5, \"Temperature\": 38, \"Taste\": 1, \"Odor\": 0, \"Fat \": 0, \"Turbidity\": 0, \"Colour\": 255, \"Grade\": 1}, {\"pH\": 6.6, \"Temperature\": 38, \"Taste\": 1, \"Odor\": 0, \"Fat \": 1, \"Turbidity\": 0, \"Colour\": 255, \"Grade\": 2}, {\"pH\": 3.0, \"Temperature\": 40, \"Taste\": 1, \"Odor\": 1, \"Fat \": 1, \"Turbidity\": 1, \"Colour\": 255, \"Grade\": 0}, {\"pH\": 9.0, \"Temperature\": 43, \"Taste\": 1, \"Odor\": 0, \"Fat \": 1, \"Turbidity\": 1, \"Colour\": 250, \"Grade\": 0}, {\"pH\": 6.8, \"Temperature\": 40, \"Taste\": 1, \"Odor\": 0, \"Fat \": 1, \"Turbidity\": 0, \"Colour\": 245, \"Grade\": 1}, {\"pH\": 6.6, \"Temperature\": 45, \"Taste\": 0, \"Odor\": 0, \"Fat \": 0, \"Turbidity\": 1, \"Colour\": 250, \"Grade\": 1}, {\"pH\": 6.5, \"Temperature\": 36, \"Taste\": 0, \"Odor\": 0, \"Fat \": 1, \"Turbidity\": 0, \"Colour\": 255, \"Grade\": 1}, {\"pH\": 6.6, \"Temperature\": 38, \"Taste\": 0, \"Odor\": 0, \"Fat \": 1, \"Turbidity\": 0, \"Colour\": 255, \"Grade\": 1}, {\"pH\": 6.8, \"Temperature\": 45, \"Taste\": 1, \"Odor\": 1, \"Fat \": 1, \"Turbidity\": 1, \"Colour\": 245, \"Grade\": 2}, {\"pH\": 6.5, \"Temperature\": 55, \"Taste\": 1, \"Odor\": 0, \"Fat \": 1, \"Turbidity\": 0, \"Colour\": 246, \"Grade\": 0}, {\"pH\": 6.8, \"Temperature\": 36, \"Taste\": 0, \"Odor\": 1, \"Fat \": 1, \"Turbidity\": 0, \"Colour\": 253, \"Grade\": 2}, {\"pH\": 8.5, \"Temperature\": 70, \"Taste\": 0, \"Odor\": 0, \"Fat \": 0, \"Turbidity\": 0, \"Colour\": 246, \"Grade\": 0}, {\"pH\": 6.8, \"Temperature\": 40, \"Taste\": 1, \"Odor\": 0, \"Fat \": 1, \"Turbidity\": 0, \"Colour\": 245, \"Grade\": 1}, {\"pH\": 6.6, \"Temperature\": 45, \"Taste\": 0, \"Odor\": 1, \"Fat \": 1, \"Turbidity\": 1, \"Colour\": 250, \"Grade\": 2}, {\"pH\": 6.5, \"Temperature\": 36, \"Taste\": 0, \"Odor\": 0, \"Fat \": 1, \"Turbidity\": 0, \"Colour\": 255, \"Grade\": 1}, {\"pH\": 4.5, \"Temperature\": 38, \"Taste\": 0, \"Odor\": 1, \"Fat \": 1, \"Turbidity\": 1, \"Colour\": 255, \"Grade\": 0}, {\"pH\": 6.8, \"Temperature\": 45, \"Taste\": 1, \"Odor\": 1, \"Fat \": 1, \"Turbidity\": 1, \"Colour\": 245, \"Grade\": 2}, {\"pH\": 6.5, \"Temperature\": 35, \"Taste\": 1, \"Odor\": 0, \"Fat \": 1, \"Turbidity\": 0, \"Colour\": 246, \"Grade\": 1}, {\"pH\": 6.8, \"Temperature\": 36, \"Taste\": 0, \"Odor\": 1, \"Fat \": 1, \"Turbidity\": 0, \"Colour\": 253, \"Grade\": 2}, {\"pH\": 8.5, \"Temperature\": 70, \"Taste\": 0, \"Odor\": 0, \"Fat \": 0, \"Turbidity\": 0, \"Colour\": 246, \"Grade\": 0}, {\"pH\": 6.6, \"Temperature\": 50, \"Taste\": 0, \"Odor\": 0, \"Fat \": 0, \"Turbidity\": 0, \"Colour\": 255, \"Grade\": 0}, {\"pH\": 6.8, \"Temperature\": 45, \"Taste\": 1, \"Odor\": 1, \"Fat \": 1, \"Turbidity\": 0, \"Colour\": 245, \"Grade\": 2}, {\"pH\": 9.5, \"Temperature\": 34, \"Taste\": 1, \"Odor\": 1, \"Fat \": 0, \"Turbidity\": 1, \"Colour\": 255, \"Grade\": 0}, {\"pH\": 6.5, \"Temperature\": 37, \"Taste\": 0, \"Odor\": 0, \"Fat \": 0, \"Turbidity\": 0, \"Colour\": 255, \"Grade\": 1}, {\"pH\": 9.5, \"Temperature\": 34, \"Taste\": 1, \"Odor\": 1, \"Fat \": 0, \"Turbidity\": 1, \"Colour\": 255, \"Grade\": 0}, {\"pH\": 6.5, \"Temperature\": 37, \"Taste\": 0, \"Odor\": 0, \"Fat \": 0, \"Turbidity\": 0, \"Colour\": 255, \"Grade\": 1}, {\"pH\": 6.6, \"Temperature\": 37, \"Taste\": 1, \"Odor\": 1, \"Fat \": 1, \"Turbidity\": 1, \"Colour\": 255, \"Grade\": 2}, {\"pH\": 5.5, \"Temperature\": 45, \"Taste\": 1, \"Odor\": 0, \"Fat \": 1, \"Turbidity\": 1, \"Colour\": 250, \"Grade\": 0}, {\"pH\": 4.5, \"Temperature\": 60, \"Taste\": 0, \"Odor\": 1, \"Fat \": 1, \"Turbidity\": 1, \"Colour\": 250, \"Grade\": 0}, {\"pH\": 8.1, \"Temperature\": 66, \"Taste\": 1, \"Odor\": 0, \"Fat \": 1, \"Turbidity\": 1, \"Colour\": 255, \"Grade\": 0}, {\"pH\": 6.7, \"Temperature\": 45, \"Taste\": 1, \"Odor\": 1, \"Fat \": 0, \"Turbidity\": 0, \"Colour\": 247, \"Grade\": 1}, {\"pH\": 6.7, \"Temperature\": 45, \"Taste\": 1, \"Odor\": 1, \"Fat \": 1, \"Turbidity\": 0, \"Colour\": 245, \"Grade\": 1}, {\"pH\": 5.6, \"Temperature\": 50, \"Taste\": 0, \"Odor\": 1, \"Fat \": 1, \"Turbidity\": 1, \"Colour\": 255, \"Grade\": 0}, {\"pH\": 6.6, \"Temperature\": 35, \"Taste\": 0, \"Odor\": 1, \"Fat \": 1, \"Turbidity\": 1, \"Colour\": 255, \"Grade\": 2}, {\"pH\": 7.4, \"Temperature\": 90, \"Taste\": 1, \"Odor\": 0, \"Fat \": 1, \"Turbidity\": 1, \"Colour\": 255, \"Grade\": 0}, {\"pH\": 6.8, \"Temperature\": 50, \"Taste\": 0, \"Odor\": 0, \"Fat \": 1, \"Turbidity\": 0, \"Colour\": 255, \"Grade\": 0}, {\"pH\": 6.5, \"Temperature\": 38, \"Taste\": 1, \"Odor\": 0, \"Fat \": 1, \"Turbidity\": 0, \"Colour\": 255, \"Grade\": 1}, {\"pH\": 6.7, \"Temperature\": 38, \"Taste\": 1, \"Odor\": 0, \"Fat \": 1, \"Turbidity\": 0, \"Colour\": 255, \"Grade\": 2}, {\"pH\": 3.0, \"Temperature\": 40, \"Taste\": 1, \"Odor\": 1, \"Fat \": 1, \"Turbidity\": 1, \"Colour\": 255, \"Grade\": 0}, {\"pH\": 6.6, \"Temperature\": 43, \"Taste\": 1, \"Odor\": 0, \"Fat \": 1, \"Turbidity\": 1, \"Colour\": 250, \"Grade\": 2}, {\"pH\": 8.6, \"Temperature\": 55, \"Taste\": 0, \"Odor\": 1, \"Fat \": 1, \"Turbidity\": 1, \"Colour\": 255, \"Grade\": 0}, {\"pH\": 6.8, \"Temperature\": 45, \"Taste\": 0, \"Odor\": 0, \"Fat \": 0, \"Turbidity\": 1, \"Colour\": 255, \"Grade\": 1}, {\"pH\": 6.8, \"Temperature\": 45, \"Taste\": 0, \"Odor\": 1, \"Fat \": 1, \"Turbidity\": 1, \"Colour\": 255, \"Grade\": 2}, {\"pH\": 6.5, \"Temperature\": 38, \"Taste\": 1, \"Odor\": 0, \"Fat \": 0, \"Turbidity\": 0, \"Colour\": 255, \"Grade\": 1}, {\"pH\": 6.6, \"Temperature\": 38, \"Taste\": 1, \"Odor\": 0, \"Fat \": 1, \"Turbidity\": 0, \"Colour\": 255, \"Grade\": 2}, {\"pH\": 3.0, \"Temperature\": 40, \"Taste\": 1, \"Odor\": 1, \"Fat \": 1, \"Turbidity\": 1, \"Colour\": 255, \"Grade\": 0}, {\"pH\": 9.0, \"Temperature\": 43, \"Taste\": 1, \"Odor\": 0, \"Fat \": 1, \"Turbidity\": 1, \"Colour\": 250, \"Grade\": 0}, {\"pH\": 6.8, \"Temperature\": 40, \"Taste\": 1, \"Odor\": 0, \"Fat \": 1, \"Turbidity\": 0, \"Colour\": 245, \"Grade\": 1}, {\"pH\": 6.6, \"Temperature\": 45, \"Taste\": 0, \"Odor\": 0, \"Fat \": 0, \"Turbidity\": 1, \"Colour\": 250, \"Grade\": 1}, {\"pH\": 6.5, \"Temperature\": 36, \"Taste\": 0, \"Odor\": 0, \"Fat \": 1, \"Turbidity\": 0, \"Colour\": 255, \"Grade\": 1}, {\"pH\": 6.6, \"Temperature\": 38, \"Taste\": 0, \"Odor\": 0, \"Fat \": 1, \"Turbidity\": 0, \"Colour\": 255, \"Grade\": 1}, {\"pH\": 6.8, \"Temperature\": 45, \"Taste\": 1, \"Odor\": 1, \"Fat \": 1, \"Turbidity\": 1, \"Colour\": 245, \"Grade\": 2}, {\"pH\": 6.5, \"Temperature\": 55, \"Taste\": 1, \"Odor\": 0, \"Fat \": 1, \"Turbidity\": 0, \"Colour\": 246, \"Grade\": 0}, {\"pH\": 6.8, \"Temperature\": 36, \"Taste\": 0, \"Odor\": 1, \"Fat \": 1, \"Turbidity\": 0, \"Colour\": 253, \"Grade\": 2}, {\"pH\": 8.5, \"Temperature\": 70, \"Taste\": 0, \"Odor\": 0, \"Fat \": 0, \"Turbidity\": 0, \"Colour\": 246, \"Grade\": 0}, {\"pH\": 6.8, \"Temperature\": 40, \"Taste\": 1, \"Odor\": 0, \"Fat \": 1, \"Turbidity\": 0, \"Colour\": 245, \"Grade\": 1}, {\"pH\": 6.6, \"Temperature\": 45, \"Taste\": 0, \"Odor\": 1, \"Fat \": 1, \"Turbidity\": 1, \"Colour\": 250, \"Grade\": 2}, {\"pH\": 6.5, \"Temperature\": 36, \"Taste\": 0, \"Odor\": 0, \"Fat \": 1, \"Turbidity\": 0, \"Colour\": 255, \"Grade\": 1}, {\"pH\": 4.5, \"Temperature\": 38, \"Taste\": 0, \"Odor\": 1, \"Fat \": 1, \"Turbidity\": 1, \"Colour\": 255, \"Grade\": 0}, {\"pH\": 6.8, \"Temperature\": 45, \"Taste\": 1, \"Odor\": 1, \"Fat \": 1, \"Turbidity\": 1, \"Colour\": 245, \"Grade\": 2}, {\"pH\": 6.5, \"Temperature\": 35, \"Taste\": 1, \"Odor\": 0, \"Fat \": 1, \"Turbidity\": 0, \"Colour\": 246, \"Grade\": 1}, {\"pH\": 6.8, \"Temperature\": 36, \"Taste\": 0, \"Odor\": 1, \"Fat \": 1, \"Turbidity\": 0, \"Colour\": 253, \"Grade\": 2}, {\"pH\": 8.5, \"Temperature\": 70, \"Taste\": 0, \"Odor\": 0, \"Fat \": 0, \"Turbidity\": 0, \"Colour\": 246, \"Grade\": 0}, {\"pH\": 6.8, \"Temperature\": 34, \"Taste\": 0, \"Odor\": 0, \"Fat \": 0, \"Turbidity\": 1, \"Colour\": 240, \"Grade\": 1}, {\"pH\": 6.5, \"Temperature\": 37, \"Taste\": 0, \"Odor\": 0, \"Fat \": 0, \"Turbidity\": 0, \"Colour\": 245, \"Grade\": 1}, {\"pH\": 6.6, \"Temperature\": 37, \"Taste\": 1, \"Odor\": 0, \"Fat \": 1, \"Turbidity\": 0, \"Colour\": 255, \"Grade\": 2}, {\"pH\": 6.8, \"Temperature\": 45, \"Taste\": 0, \"Odor\": 1, \"Fat \": 0, \"Turbidity\": 0, \"Colour\": 240, \"Grade\": 1}, {\"pH\": 7.4, \"Temperature\": 65, \"Taste\": 0, \"Odor\": 0, \"Fat \": 0, \"Turbidity\": 0, \"Colour\": 255, \"Grade\": 0}, {\"pH\": 6.8, \"Temperature\": 41, \"Taste\": 0, \"Odor\": 0, \"Fat \": 1, \"Turbidity\": 0, \"Colour\": 255, \"Grade\": 1}, {\"pH\": 6.5, \"Temperature\": 38, \"Taste\": 1, \"Odor\": 1, \"Fat \": 1, \"Turbidity\": 1, \"Colour\": 255, \"Grade\": 2}, {\"pH\": 6.6, \"Temperature\": 38, \"Taste\": 0, \"Odor\": 0, \"Fat \": 0, \"Turbidity\": 0, \"Colour\": 255, \"Grade\": 1}, {\"pH\": 3.0, \"Temperature\": 40, \"Taste\": 1, \"Odor\": 0, \"Fat \": 0, \"Turbidity\": 0, \"Colour\": 255, \"Grade\": 0}, {\"pH\": 9.0, \"Temperature\": 43, \"Taste\": 1, \"Odor\": 1, \"Fat \": 1, \"Turbidity\": 1, \"Colour\": 248, \"Grade\": 0}, {\"pH\": 6.8, \"Temperature\": 40, \"Taste\": 1, \"Odor\": 1, \"Fat \": 1, \"Turbidity\": 1, \"Colour\": 255, \"Grade\": 2}, {\"pH\": 6.6, \"Temperature\": 50, \"Taste\": 0, \"Odor\": 0, \"Fat \": 0, \"Turbidity\": 1, \"Colour\": 250, \"Grade\": 0}, {\"pH\": 6.5, \"Temperature\": 36, \"Taste\": 0, \"Odor\": 0, \"Fat \": 0, \"Turbidity\": 0, \"Colour\": 247, \"Grade\": 1}, {\"pH\": 6.6, \"Temperature\": 50, \"Taste\": 0, \"Odor\": 0, \"Fat \": 0, \"Turbidity\": 0, \"Colour\": 255, \"Grade\": 0}, {\"pH\": 6.8, \"Temperature\": 45, \"Taste\": 1, \"Odor\": 1, \"Fat \": 1, \"Turbidity\": 0, \"Colour\": 245, \"Grade\": 2}, {\"pH\": 9.5, \"Temperature\": 34, \"Taste\": 1, \"Odor\": 1, \"Fat \": 0, \"Turbidity\": 1, \"Colour\": 255, \"Grade\": 0}, {\"pH\": 6.5, \"Temperature\": 37, \"Taste\": 0, \"Odor\": 0, \"Fat \": 0, \"Turbidity\": 0, \"Colour\": 255, \"Grade\": 1}, {\"pH\": 9.5, \"Temperature\": 34, \"Taste\": 1, \"Odor\": 1, \"Fat \": 0, \"Turbidity\": 1, \"Colour\": 255, \"Grade\": 0}, {\"pH\": 6.5, \"Temperature\": 37, \"Taste\": 0, \"Odor\": 0, \"Fat \": 0, \"Turbidity\": 0, \"Colour\": 255, \"Grade\": 1}, {\"pH\": 6.6, \"Temperature\": 37, \"Taste\": 1, \"Odor\": 1, \"Fat \": 1, \"Turbidity\": 1, \"Colour\": 255, \"Grade\": 2}, {\"pH\": 5.5, \"Temperature\": 45, \"Taste\": 1, \"Odor\": 0, \"Fat \": 1, \"Turbidity\": 1, \"Colour\": 250, \"Grade\": 0}, {\"pH\": 4.5, \"Temperature\": 60, \"Taste\": 0, \"Odor\": 1, \"Fat \": 1, \"Turbidity\": 1, \"Colour\": 250, \"Grade\": 0}, {\"pH\": 8.1, \"Temperature\": 66, \"Taste\": 1, \"Odor\": 0, \"Fat \": 1, \"Turbidity\": 1, \"Colour\": 255, \"Grade\": 0}, {\"pH\": 6.7, \"Temperature\": 45, \"Taste\": 1, \"Odor\": 1, \"Fat \": 0, \"Turbidity\": 0, \"Colour\": 247, \"Grade\": 1}, {\"pH\": 6.7, \"Temperature\": 45, \"Taste\": 1, \"Odor\": 1, \"Fat \": 1, \"Turbidity\": 0, \"Colour\": 245, \"Grade\": 1}, {\"pH\": 5.6, \"Temperature\": 50, \"Taste\": 0, \"Odor\": 1, \"Fat \": 1, \"Turbidity\": 1, \"Colour\": 255, \"Grade\": 0}, {\"pH\": 6.6, \"Temperature\": 35, \"Taste\": 0, \"Odor\": 1, \"Fat \": 1, \"Turbidity\": 1, \"Colour\": 255, \"Grade\": 2}, {\"pH\": 7.4, \"Temperature\": 90, \"Taste\": 1, \"Odor\": 0, \"Fat \": 1, \"Turbidity\": 1, \"Colour\": 255, \"Grade\": 0}, {\"pH\": 6.8, \"Temperature\": 50, \"Taste\": 0, \"Odor\": 0, \"Fat \": 1, \"Turbidity\": 0, \"Colour\": 255, \"Grade\": 0}, {\"pH\": 6.5, \"Temperature\": 38, \"Taste\": 1, \"Odor\": 0, \"Fat \": 1, \"Turbidity\": 0, \"Colour\": 255, \"Grade\": 1}, {\"pH\": 6.7, \"Temperature\": 41, \"Taste\": 1, \"Odor\": 0, \"Fat \": 0, \"Turbidity\": 0, \"Colour\": 247, \"Grade\": 1}, {\"pH\": 6.7, \"Temperature\": 50, \"Taste\": 1, \"Odor\": 1, \"Fat \": 1, \"Turbidity\": 0, \"Colour\": 245, \"Grade\": 0}, {\"pH\": 6.8, \"Temperature\": 45, \"Taste\": 0, \"Odor\": 1, \"Fat \": 1, \"Turbidity\": 1, \"Colour\": 255, \"Grade\": 2}, {\"pH\": 6.6, \"Temperature\": 45, \"Taste\": 0, \"Odor\": 1, \"Fat \": 0, \"Turbidity\": 0, \"Colour\": 255, \"Grade\": 1}, {\"pH\": 7.4, \"Temperature\": 65, \"Taste\": 0, \"Odor\": 0, \"Fat \": 0, \"Turbidity\": 0, \"Colour\": 255, \"Grade\": 0}, {\"pH\": 6.8, \"Temperature\": 41, \"Taste\": 0, \"Odor\": 0, \"Fat \": 0, \"Turbidity\": 0, \"Colour\": 255, \"Grade\": 1}, {\"pH\": 6.5, \"Temperature\": 38, \"Taste\": 1, \"Odor\": 1, \"Fat \": 1, \"Turbidity\": 1, \"Colour\": 255, \"Grade\": 2}, {\"pH\": 6.8, \"Temperature\": 38, \"Taste\": 0, \"Odor\": 0, \"Fat \": 0, \"Turbidity\": 0, \"Colour\": 255, \"Grade\": 1}, {\"pH\": 3.0, \"Temperature\": 40, \"Taste\": 1, \"Odor\": 0, \"Fat \": 0, \"Turbidity\": 0, \"Colour\": 255, \"Grade\": 0}, {\"pH\": 9.0, \"Temperature\": 43, \"Taste\": 1, \"Odor\": 1, \"Fat \": 1, \"Turbidity\": 1, \"Colour\": 248, \"Grade\": 0}, {\"pH\": 6.8, \"Temperature\": 40, \"Taste\": 1, \"Odor\": 1, \"Fat \": 1, \"Turbidity\": 1, \"Colour\": 255, \"Grade\": 2}, {\"pH\": 6.6, \"Temperature\": 50, \"Taste\": 0, \"Odor\": 0, \"Fat \": 0, \"Turbidity\": 1, \"Colour\": 250, \"Grade\": 0}, {\"pH\": 6.5, \"Temperature\": 36, \"Taste\": 0, \"Odor\": 0, \"Fat \": 0, \"Turbidity\": 0, \"Colour\": 247, \"Grade\": 1}, {\"pH\": 6.6, \"Temperature\": 38, \"Taste\": 0, \"Odor\": 0, \"Fat \": 0, \"Turbidity\": 0, \"Colour\": 255, \"Grade\": 1}, {\"pH\": 6.8, \"Temperature\": 45, \"Taste\": 1, \"Odor\": 1, \"Fat \": 1, \"Turbidity\": 0, \"Colour\": 245, \"Grade\": 2}, {\"pH\": 9.5, \"Temperature\": 34, \"Taste\": 1, \"Odor\": 1, \"Fat \": 0, \"Turbidity\": 1, \"Colour\": 255, \"Grade\": 0}, {\"pH\": 6.5, \"Temperature\": 37, \"Taste\": 0, \"Odor\": 0, \"Fat \": 0, \"Turbidity\": 0, \"Colour\": 255, \"Grade\": 1}, {\"pH\": 6.6, \"Temperature\": 37, \"Taste\": 1, \"Odor\": 1, \"Fat \": 1, \"Turbidity\": 1, \"Colour\": 255, \"Grade\": 2}, {\"pH\": 5.5, \"Temperature\": 45, \"Taste\": 1, \"Odor\": 0, \"Fat \": 1, \"Turbidity\": 1, \"Colour\": 250, \"Grade\": 0}, {\"pH\": 6.5, \"Temperature\": 40, \"Taste\": 1, \"Odor\": 0, \"Fat \": 0, \"Turbidity\": 0, \"Colour\": 250, \"Grade\": 1}, {\"pH\": 8.1, \"Temperature\": 66, \"Taste\": 1, \"Odor\": 0, \"Fat \": 1, \"Turbidity\": 1, \"Colour\": 255, \"Grade\": 0}, {\"pH\": 6.7, \"Temperature\": 45, \"Taste\": 1, \"Odor\": 1, \"Fat \": 0, \"Turbidity\": 0, \"Colour\": 247, \"Grade\": 1}, {\"pH\": 6.7, \"Temperature\": 38, \"Taste\": 1, \"Odor\": 0, \"Fat \": 1, \"Turbidity\": 0, \"Colour\": 255, \"Grade\": 2}, {\"pH\": 3.0, \"Temperature\": 40, \"Taste\": 1, \"Odor\": 1, \"Fat \": 1, \"Turbidity\": 1, \"Colour\": 255, \"Grade\": 0}, {\"pH\": 6.8, \"Temperature\": 43, \"Taste\": 1, \"Odor\": 0, \"Fat \": 1, \"Turbidity\": 0, \"Colour\": 250, \"Grade\": 2}, {\"pH\": 8.6, \"Temperature\": 55, \"Taste\": 0, \"Odor\": 1, \"Fat \": 1, \"Turbidity\": 1, \"Colour\": 255, \"Grade\": 0}, {\"pH\": 6.8, \"Temperature\": 55, \"Taste\": 0, \"Odor\": 0, \"Fat \": 0, \"Turbidity\": 1, \"Colour\": 255, \"Grade\": 0}, {\"pH\": 6.8, \"Temperature\": 45, \"Taste\": 0, \"Odor\": 1, \"Fat \": 1, \"Turbidity\": 1, \"Colour\": 255, \"Grade\": 2}, {\"pH\": 6.5, \"Temperature\": 38, \"Taste\": 1, \"Odor\": 0, \"Fat \": 0, \"Turbidity\": 0, \"Colour\": 255, \"Grade\": 1}, {\"pH\": 4.7, \"Temperature\": 38, \"Taste\": 1, \"Odor\": 0, \"Fat \": 1, \"Turbidity\": 0, \"Colour\": 255, \"Grade\": 0}, {\"pH\": 3.0, \"Temperature\": 40, \"Taste\": 1, \"Odor\": 1, \"Fat \": 1, \"Turbidity\": 1, \"Colour\": 255, \"Grade\": 0}, {\"pH\": 9.0, \"Temperature\": 43, \"Taste\": 1, \"Odor\": 0, \"Fat \": 1, \"Turbidity\": 1, \"Colour\": 250, \"Grade\": 0}, {\"pH\": 6.8, \"Temperature\": 40, \"Taste\": 1, \"Odor\": 0, \"Fat \": 1, \"Turbidity\": 0, \"Colour\": 245, \"Grade\": 1}, {\"pH\": 6.6, \"Temperature\": 45, \"Taste\": 0, \"Odor\": 1, \"Fat \": 1, \"Turbidity\": 1, \"Colour\": 250, \"Grade\": 2}, {\"pH\": 6.5, \"Temperature\": 36, \"Taste\": 0, \"Odor\": 0, \"Fat \": 1, \"Turbidity\": 0, \"Colour\": 255, \"Grade\": 1}, {\"pH\": 4.5, \"Temperature\": 38, \"Taste\": 0, \"Odor\": 1, \"Fat \": 1, \"Turbidity\": 1, \"Colour\": 255, \"Grade\": 0}, {\"pH\": 6.8, \"Temperature\": 45, \"Taste\": 1, \"Odor\": 1, \"Fat \": 1, \"Turbidity\": 1, \"Colour\": 245, \"Grade\": 2}, {\"pH\": 6.5, \"Temperature\": 50, \"Taste\": 1, \"Odor\": 0, \"Fat \": 1, \"Turbidity\": 0, \"Colour\": 246, \"Grade\": 0}, {\"pH\": 6.8, \"Temperature\": 36, \"Taste\": 0, \"Odor\": 1, \"Fat \": 1, \"Turbidity\": 0, \"Colour\": 253, \"Grade\": 2}, {\"pH\": 8.5, \"Temperature\": 70, \"Taste\": 0, \"Odor\": 0, \"Fat \": 0, \"Turbidity\": 0, \"Colour\": 246, \"Grade\": 0}, {\"pH\": 6.8, \"Temperature\": 34, \"Taste\": 0, \"Odor\": 0, \"Fat \": 0, \"Turbidity\": 1, \"Colour\": 240, \"Grade\": 1}, {\"pH\": 6.5, \"Temperature\": 37, \"Taste\": 0, \"Odor\": 0, \"Fat \": 0, \"Turbidity\": 0, \"Colour\": 245, \"Grade\": 1}, {\"pH\": 6.6, \"Temperature\": 37, \"Taste\": 1, \"Odor\": 0, \"Fat \": 1, \"Turbidity\": 0, \"Colour\": 255, \"Grade\": 2}, {\"pH\": 6.8, \"Temperature\": 45, \"Taste\": 0, \"Odor\": 1, \"Fat \": 0, \"Turbidity\": 0, \"Colour\": 240, \"Grade\": 1}, {\"pH\": 7.4, \"Temperature\": 65, \"Taste\": 0, \"Odor\": 0, \"Fat \": 0, \"Turbidity\": 0, \"Colour\": 255, \"Grade\": 0}, {\"pH\": 6.8, \"Temperature\": 41, \"Taste\": 0, \"Odor\": 0, \"Fat \": 1, \"Turbidity\": 0, \"Colour\": 255, \"Grade\": 1}, {\"pH\": 6.5, \"Temperature\": 38, \"Taste\": 1, \"Odor\": 1, \"Fat \": 1, \"Turbidity\": 1, \"Colour\": 255, \"Grade\": 2}, {\"pH\": 6.6, \"Temperature\": 38, \"Taste\": 0, \"Odor\": 0, \"Fat \": 0, \"Turbidity\": 0, \"Colour\": 255, \"Grade\": 1}, {\"pH\": 6.6, \"Temperature\": 40, \"Taste\": 1, \"Odor\": 0, \"Fat \": 1, \"Turbidity\": 1, \"Colour\": 255, \"Grade\": 2}, {\"pH\": 9.0, \"Temperature\": 43, \"Taste\": 1, \"Odor\": 1, \"Fat \": 1, \"Turbidity\": 1, \"Colour\": 248, \"Grade\": 0}, {\"pH\": 6.5, \"Temperature\": 38, \"Taste\": 1, \"Odor\": 0, \"Fat \": 1, \"Turbidity\": 0, \"Colour\": 255, \"Grade\": 1}, {\"pH\": 6.7, \"Temperature\": 38, \"Taste\": 1, \"Odor\": 0, \"Fat \": 1, \"Turbidity\": 0, \"Colour\": 255, \"Grade\": 2}, {\"pH\": 3.0, \"Temperature\": 40, \"Taste\": 1, \"Odor\": 1, \"Fat \": 1, \"Turbidity\": 1, \"Colour\": 255, \"Grade\": 0}, {\"pH\": 6.6, \"Temperature\": 43, \"Taste\": 1, \"Odor\": 0, \"Fat \": 1, \"Turbidity\": 1, \"Colour\": 250, \"Grade\": 2}, {\"pH\": 6.8, \"Temperature\": 41, \"Taste\": 0, \"Odor\": 0, \"Fat \": 1, \"Turbidity\": 0, \"Colour\": 255, \"Grade\": 1}, {\"pH\": 6.5, \"Temperature\": 38, \"Taste\": 1, \"Odor\": 1, \"Fat \": 1, \"Turbidity\": 1, \"Colour\": 255, \"Grade\": 2}, {\"pH\": 6.6, \"Temperature\": 38, \"Taste\": 0, \"Odor\": 0, \"Fat \": 0, \"Turbidity\": 0, \"Colour\": 255, \"Grade\": 1}, {\"pH\": 3.0, \"Temperature\": 40, \"Taste\": 1, \"Odor\": 0, \"Fat \": 0, \"Turbidity\": 0, \"Colour\": 255, \"Grade\": 0}, {\"pH\": 9.0, \"Temperature\": 43, \"Taste\": 1, \"Odor\": 1, \"Fat \": 1, \"Turbidity\": 1, \"Colour\": 248, \"Grade\": 0}, {\"pH\": 6.8, \"Temperature\": 40, \"Taste\": 1, \"Odor\": 1, \"Fat \": 1, \"Turbidity\": 1, \"Colour\": 255, \"Grade\": 2}, {\"pH\": 6.6, \"Temperature\": 50, \"Taste\": 0, \"Odor\": 0, \"Fat \": 0, \"Turbidity\": 1, \"Colour\": 250, \"Grade\": 0}, {\"pH\": 6.5, \"Temperature\": 36, \"Taste\": 0, \"Odor\": 0, \"Fat \": 0, \"Turbidity\": 0, \"Colour\": 247, \"Grade\": 1}, {\"pH\": 6.6, \"Temperature\": 50, \"Taste\": 0, \"Odor\": 0, \"Fat \": 0, \"Turbidity\": 0, \"Colour\": 255, \"Grade\": 0}, {\"pH\": 6.8, \"Temperature\": 45, \"Taste\": 1, \"Odor\": 1, \"Fat \": 1, \"Turbidity\": 0, \"Colour\": 245, \"Grade\": 2}, {\"pH\": 9.5, \"Temperature\": 34, \"Taste\": 1, \"Odor\": 1, \"Fat \": 0, \"Turbidity\": 1, \"Colour\": 255, \"Grade\": 0}, {\"pH\": 6.5, \"Temperature\": 37, \"Taste\": 0, \"Odor\": 0, \"Fat \": 0, \"Turbidity\": 0, \"Colour\": 255, \"Grade\": 1}, {\"pH\": 9.5, \"Temperature\": 34, \"Taste\": 1, \"Odor\": 1, \"Fat \": 0, \"Turbidity\": 1, \"Colour\": 255, \"Grade\": 0}, {\"pH\": 6.5, \"Temperature\": 37, \"Taste\": 0, \"Odor\": 0, \"Fat \": 0, \"Turbidity\": 0, \"Colour\": 255, \"Grade\": 1}, {\"pH\": 6.6, \"Temperature\": 37, \"Taste\": 1, \"Odor\": 1, \"Fat \": 1, \"Turbidity\": 1, \"Colour\": 255, \"Grade\": 2}, {\"pH\": 5.5, \"Temperature\": 45, \"Taste\": 1, \"Odor\": 0, \"Fat \": 1, \"Turbidity\": 1, \"Colour\": 250, \"Grade\": 0}, {\"pH\": 4.5, \"Temperature\": 60, \"Taste\": 0, \"Odor\": 1, \"Fat \": 1, \"Turbidity\": 1, \"Colour\": 250, \"Grade\": 0}, {\"pH\": 8.1, \"Temperature\": 66, \"Taste\": 1, \"Odor\": 0, \"Fat \": 1, \"Turbidity\": 1, \"Colour\": 255, \"Grade\": 0}, {\"pH\": 6.7, \"Temperature\": 45, \"Taste\": 1, \"Odor\": 1, \"Fat \": 0, \"Turbidity\": 0, \"Colour\": 247, \"Grade\": 1}, {\"pH\": 6.7, \"Temperature\": 45, \"Taste\": 1, \"Odor\": 1, \"Fat \": 1, \"Turbidity\": 0, \"Colour\": 245, \"Grade\": 1}, {\"pH\": 5.6, \"Temperature\": 50, \"Taste\": 0, \"Odor\": 1, \"Fat \": 1, \"Turbidity\": 1, \"Colour\": 255, \"Grade\": 0}, {\"pH\": 6.6, \"Temperature\": 35, \"Taste\": 0, \"Odor\": 1, \"Fat \": 1, \"Turbidity\": 1, \"Colour\": 255, \"Grade\": 2}, {\"pH\": 7.4, \"Temperature\": 90, \"Taste\": 1, \"Odor\": 0, \"Fat \": 1, \"Turbidity\": 1, \"Colour\": 255, \"Grade\": 0}, {\"pH\": 6.8, \"Temperature\": 50, \"Taste\": 0, \"Odor\": 0, \"Fat \": 1, \"Turbidity\": 0, \"Colour\": 255, \"Grade\": 0}, {\"pH\": 6.5, \"Temperature\": 38, \"Taste\": 1, \"Odor\": 0, \"Fat \": 1, \"Turbidity\": 0, \"Colour\": 255, \"Grade\": 1}, {\"pH\": 6.7, \"Temperature\": 41, \"Taste\": 1, \"Odor\": 0, \"Fat \": 0, \"Turbidity\": 0, \"Colour\": 247, \"Grade\": 1}, {\"pH\": 6.7, \"Temperature\": 50, \"Taste\": 1, \"Odor\": 1, \"Fat \": 1, \"Turbidity\": 0, \"Colour\": 245, \"Grade\": 0}, {\"pH\": 6.8, \"Temperature\": 45, \"Taste\": 0, \"Odor\": 1, \"Fat \": 1, \"Turbidity\": 1, \"Colour\": 255, \"Grade\": 2}, {\"pH\": 6.6, \"Temperature\": 45, \"Taste\": 0, \"Odor\": 1, \"Fat \": 0, \"Turbidity\": 0, \"Colour\": 255, \"Grade\": 1}, {\"pH\": 7.4, \"Temperature\": 65, \"Taste\": 0, \"Odor\": 0, \"Fat \": 0, \"Turbidity\": 0, \"Colour\": 255, \"Grade\": 0}, {\"pH\": 6.8, \"Temperature\": 41, \"Taste\": 0, \"Odor\": 0, \"Fat \": 0, \"Turbidity\": 0, \"Colour\": 255, \"Grade\": 1}, {\"pH\": 6.5, \"Temperature\": 38, \"Taste\": 1, \"Odor\": 1, \"Fat \": 1, \"Turbidity\": 1, \"Colour\": 255, \"Grade\": 2}, {\"pH\": 6.8, \"Temperature\": 38, \"Taste\": 0, \"Odor\": 0, \"Fat \": 0, \"Turbidity\": 0, \"Colour\": 255, \"Grade\": 1}, {\"pH\": 3.0, \"Temperature\": 40, \"Taste\": 1, \"Odor\": 0, \"Fat \": 0, \"Turbidity\": 0, \"Colour\": 255, \"Grade\": 0}, {\"pH\": 9.0, \"Temperature\": 43, \"Taste\": 1, \"Odor\": 1, \"Fat \": 1, \"Turbidity\": 1, \"Colour\": 248, \"Grade\": 0}, {\"pH\": 6.8, \"Temperature\": 40, \"Taste\": 1, \"Odor\": 1, \"Fat \": 1, \"Turbidity\": 1, \"Colour\": 255, \"Grade\": 2}, {\"pH\": 6.6, \"Temperature\": 50, \"Taste\": 0, \"Odor\": 0, \"Fat \": 0, \"Turbidity\": 1, \"Colour\": 250, \"Grade\": 0}, {\"pH\": 6.5, \"Temperature\": 36, \"Taste\": 0, \"Odor\": 0, \"Fat \": 0, \"Turbidity\": 0, \"Colour\": 247, \"Grade\": 1}, {\"pH\": 6.6, \"Temperature\": 38, \"Taste\": 0, \"Odor\": 0, \"Fat \": 0, \"Turbidity\": 0, \"Colour\": 255, \"Grade\": 1}, {\"pH\": 6.8, \"Temperature\": 45, \"Taste\": 1, \"Odor\": 1, \"Fat \": 1, \"Turbidity\": 0, \"Colour\": 245, \"Grade\": 2}, {\"pH\": 9.5, \"Temperature\": 34, \"Taste\": 1, \"Odor\": 1, \"Fat \": 0, \"Turbidity\": 1, \"Colour\": 255, \"Grade\": 0}, {\"pH\": 6.5, \"Temperature\": 37, \"Taste\": 0, \"Odor\": 0, \"Fat \": 0, \"Turbidity\": 0, \"Colour\": 255, \"Grade\": 1}, {\"pH\": 6.6, \"Temperature\": 37, \"Taste\": 1, \"Odor\": 1, \"Fat \": 1, \"Turbidity\": 1, \"Colour\": 255, \"Grade\": 2}, {\"pH\": 5.5, \"Temperature\": 45, \"Taste\": 1, \"Odor\": 0, \"Fat \": 1, \"Turbidity\": 1, \"Colour\": 250, \"Grade\": 0}, {\"pH\": 6.5, \"Temperature\": 40, \"Taste\": 1, \"Odor\": 0, \"Fat \": 0, \"Turbidity\": 0, \"Colour\": 250, \"Grade\": 1}, {\"pH\": 8.1, \"Temperature\": 66, \"Taste\": 1, \"Odor\": 0, \"Fat \": 1, \"Turbidity\": 1, \"Colour\": 255, \"Grade\": 0}, {\"pH\": 6.7, \"Temperature\": 45, \"Taste\": 1, \"Odor\": 1, \"Fat \": 0, \"Turbidity\": 0, \"Colour\": 247, \"Grade\": 1}, {\"pH\": 6.7, \"Temperature\": 38, \"Taste\": 1, \"Odor\": 0, \"Fat \": 1, \"Turbidity\": 0, \"Colour\": 255, \"Grade\": 2}, {\"pH\": 3.0, \"Temperature\": 40, \"Taste\": 1, \"Odor\": 1, \"Fat \": 1, \"Turbidity\": 1, \"Colour\": 255, \"Grade\": 0}, {\"pH\": 6.8, \"Temperature\": 43, \"Taste\": 1, \"Odor\": 0, \"Fat \": 1, \"Turbidity\": 0, \"Colour\": 250, \"Grade\": 2}, {\"pH\": 8.6, \"Temperature\": 55, \"Taste\": 0, \"Odor\": 1, \"Fat \": 1, \"Turbidity\": 1, \"Colour\": 255, \"Grade\": 0}, {\"pH\": 6.8, \"Temperature\": 55, \"Taste\": 0, \"Odor\": 0, \"Fat \": 0, \"Turbidity\": 1, \"Colour\": 255, \"Grade\": 0}, {\"pH\": 6.8, \"Temperature\": 45, \"Taste\": 0, \"Odor\": 1, \"Fat \": 1, \"Turbidity\": 1, \"Colour\": 255, \"Grade\": 2}, {\"pH\": 6.5, \"Temperature\": 38, \"Taste\": 1, \"Odor\": 0, \"Fat \": 0, \"Turbidity\": 0, \"Colour\": 255, \"Grade\": 1}, {\"pH\": 4.7, \"Temperature\": 38, \"Taste\": 1, \"Odor\": 0, \"Fat \": 1, \"Turbidity\": 0, \"Colour\": 255, \"Grade\": 0}, {\"pH\": 3.0, \"Temperature\": 40, \"Taste\": 1, \"Odor\": 1, \"Fat \": 1, \"Turbidity\": 1, \"Colour\": 255, \"Grade\": 0}, {\"pH\": 9.0, \"Temperature\": 43, \"Taste\": 1, \"Odor\": 0, \"Fat \": 1, \"Turbidity\": 1, \"Colour\": 250, \"Grade\": 0}, {\"pH\": 6.8, \"Temperature\": 40, \"Taste\": 1, \"Odor\": 0, \"Fat \": 1, \"Turbidity\": 0, \"Colour\": 245, \"Grade\": 1}, {\"pH\": 6.6, \"Temperature\": 45, \"Taste\": 0, \"Odor\": 1, \"Fat \": 1, \"Turbidity\": 1, \"Colour\": 250, \"Grade\": 2}, {\"pH\": 6.5, \"Temperature\": 36, \"Taste\": 0, \"Odor\": 0, \"Fat \": 1, \"Turbidity\": 0, \"Colour\": 255, \"Grade\": 1}, {\"pH\": 4.5, \"Temperature\": 38, \"Taste\": 0, \"Odor\": 1, \"Fat \": 1, \"Turbidity\": 1, \"Colour\": 255, \"Grade\": 0}, {\"pH\": 6.8, \"Temperature\": 45, \"Taste\": 1, \"Odor\": 1, \"Fat \": 1, \"Turbidity\": 1, \"Colour\": 245, \"Grade\": 2}, {\"pH\": 6.5, \"Temperature\": 50, \"Taste\": 1, \"Odor\": 0, \"Fat \": 1, \"Turbidity\": 0, \"Colour\": 246, \"Grade\": 0}, {\"pH\": 6.8, \"Temperature\": 36, \"Taste\": 0, \"Odor\": 1, \"Fat \": 1, \"Turbidity\": 0, \"Colour\": 253, \"Grade\": 2}, {\"pH\": 8.5, \"Temperature\": 70, \"Taste\": 0, \"Odor\": 0, \"Fat \": 0, \"Turbidity\": 0, \"Colour\": 246, \"Grade\": 0}, {\"pH\": 6.8, \"Temperature\": 34, \"Taste\": 0, \"Odor\": 0, \"Fat \": 0, \"Turbidity\": 1, \"Colour\": 240, \"Grade\": 1}, {\"pH\": 6.5, \"Temperature\": 37, \"Taste\": 0, \"Odor\": 0, \"Fat \": 0, \"Turbidity\": 0, \"Colour\": 245, \"Grade\": 1}, {\"pH\": 6.6, \"Temperature\": 37, \"Taste\": 1, \"Odor\": 0, \"Fat \": 1, \"Turbidity\": 0, \"Colour\": 255, \"Grade\": 2}, {\"pH\": 6.8, \"Temperature\": 45, \"Taste\": 0, \"Odor\": 1, \"Fat \": 0, \"Turbidity\": 0, \"Colour\": 240, \"Grade\": 1}, {\"pH\": 7.4, \"Temperature\": 65, \"Taste\": 0, \"Odor\": 0, \"Fat \": 0, \"Turbidity\": 0, \"Colour\": 255, \"Grade\": 0}, {\"pH\": 6.8, \"Temperature\": 41, \"Taste\": 0, \"Odor\": 0, \"Fat \": 1, \"Turbidity\": 0, \"Colour\": 255, \"Grade\": 1}, {\"pH\": 6.5, \"Temperature\": 38, \"Taste\": 1, \"Odor\": 1, \"Fat \": 1, \"Turbidity\": 1, \"Colour\": 255, \"Grade\": 2}, {\"pH\": 6.6, \"Temperature\": 38, \"Taste\": 0, \"Odor\": 0, \"Fat \": 0, \"Turbidity\": 0, \"Colour\": 255, \"Grade\": 1}, {\"pH\": 6.7, \"Temperature\": 38, \"Taste\": 1, \"Odor\": 0, \"Fat \": 1, \"Turbidity\": 0, \"Colour\": 255, \"Grade\": 2}, {\"pH\": 3.0, \"Temperature\": 40, \"Taste\": 1, \"Odor\": 1, \"Fat \": 1, \"Turbidity\": 1, \"Colour\": 255, \"Grade\": 0}, {\"pH\": 9.0, \"Temperature\": 43, \"Taste\": 1, \"Odor\": 0, \"Fat \": 1, \"Turbidity\": 1, \"Colour\": 250, \"Grade\": 0}, {\"pH\": 8.6, \"Temperature\": 55, \"Taste\": 0, \"Odor\": 1, \"Fat \": 1, \"Turbidity\": 1, \"Colour\": 255, \"Grade\": 0}, {\"pH\": 6.8, \"Temperature\": 45, \"Taste\": 0, \"Odor\": 0, \"Fat \": 0, \"Turbidity\": 1, \"Colour\": 255, \"Grade\": 1}, {\"pH\": 6.8, \"Temperature\": 45, \"Taste\": 0, \"Odor\": 1, \"Fat \": 1, \"Turbidity\": 1, \"Colour\": 255, \"Grade\": 2}, {\"pH\": 6.5, \"Temperature\": 38, \"Taste\": 1, \"Odor\": 0, \"Fat \": 0, \"Turbidity\": 0, \"Colour\": 255, \"Grade\": 1}, {\"pH\": 4.7, \"Temperature\": 38, \"Taste\": 1, \"Odor\": 0, \"Fat \": 1, \"Turbidity\": 0, \"Colour\": 255, \"Grade\": 0}, {\"pH\": 3.0, \"Temperature\": 40, \"Taste\": 1, \"Odor\": 1, \"Fat \": 1, \"Turbidity\": 1, \"Colour\": 255, \"Grade\": 0}, {\"pH\": 9.0, \"Temperature\": 43, \"Taste\": 1, \"Odor\": 0, \"Fat \": 1, \"Turbidity\": 1, \"Colour\": 250, \"Grade\": 0}, {\"pH\": 6.8, \"Temperature\": 40, \"Taste\": 1, \"Odor\": 0, \"Fat \": 1, \"Turbidity\": 0, \"Colour\": 245, \"Grade\": 1}, {\"pH\": 6.5, \"Temperature\": 37, \"Taste\": 0, \"Odor\": 0, \"Fat \": 0, \"Turbidity\": 0, \"Colour\": 255, \"Grade\": 1}, {\"pH\": 6.6, \"Temperature\": 37, \"Taste\": 1, \"Odor\": 1, \"Fat \": 1, \"Turbidity\": 1, \"Colour\": 255, \"Grade\": 2}, {\"pH\": 5.5, \"Temperature\": 45, \"Taste\": 1, \"Odor\": 0, \"Fat \": 1, \"Turbidity\": 1, \"Colour\": 250, \"Grade\": 0}, {\"pH\": 4.5, \"Temperature\": 60, \"Taste\": 0, \"Odor\": 1, \"Fat \": 1, \"Turbidity\": 1, \"Colour\": 250, \"Grade\": 0}, {\"pH\": 8.1, \"Temperature\": 66, \"Taste\": 1, \"Odor\": 0, \"Fat \": 1, \"Turbidity\": 1, \"Colour\": 255, \"Grade\": 0}, {\"pH\": 6.7, \"Temperature\": 45, \"Taste\": 1, \"Odor\": 1, \"Fat \": 0, \"Turbidity\": 0, \"Colour\": 247, \"Grade\": 1}, {\"pH\": 6.7, \"Temperature\": 45, \"Taste\": 1, \"Odor\": 1, \"Fat \": 1, \"Turbidity\": 0, \"Colour\": 245, \"Grade\": 1}, {\"pH\": 5.6, \"Temperature\": 50, \"Taste\": 0, \"Odor\": 1, \"Fat \": 1, \"Turbidity\": 1, \"Colour\": 255, \"Grade\": 0}, {\"pH\": 8.6, \"Temperature\": 55, \"Taste\": 0, \"Odor\": 1, \"Fat \": 1, \"Turbidity\": 1, \"Colour\": 255, \"Grade\": 0}, {\"pH\": 7.4, \"Temperature\": 90, \"Taste\": 1, \"Odor\": 0, \"Fat \": 1, \"Turbidity\": 1, \"Colour\": 255, \"Grade\": 0}, {\"pH\": 6.8, \"Temperature\": 45, \"Taste\": 0, \"Odor\": 0, \"Fat \": 1, \"Turbidity\": 0, \"Colour\": 255, \"Grade\": 1}, {\"pH\": 6.5, \"Temperature\": 38, \"Taste\": 1, \"Odor\": 0, \"Fat \": 1, \"Turbidity\": 0, \"Colour\": 255, \"Grade\": 1}, {\"pH\": 6.7, \"Temperature\": 38, \"Taste\": 1, \"Odor\": 0, \"Fat \": 1, \"Turbidity\": 0, \"Colour\": 255, \"Grade\": 2}, {\"pH\": 3.0, \"Temperature\": 40, \"Taste\": 1, \"Odor\": 1, \"Fat \": 1, \"Turbidity\": 1, \"Colour\": 255, \"Grade\": 0}, {\"pH\": 9.0, \"Temperature\": 43, \"Taste\": 1, \"Odor\": 0, \"Fat \": 1, \"Turbidity\": 1, \"Colour\": 250, \"Grade\": 0}, {\"pH\": 8.6, \"Temperature\": 55, \"Taste\": 0, \"Odor\": 1, \"Fat \": 1, \"Turbidity\": 1, \"Colour\": 255, \"Grade\": 0}, {\"pH\": 6.8, \"Temperature\": 45, \"Taste\": 0, \"Odor\": 0, \"Fat \": 0, \"Turbidity\": 1, \"Colour\": 255, \"Grade\": 1}, {\"pH\": 6.8, \"Temperature\": 45, \"Taste\": 0, \"Odor\": 1, \"Fat \": 1, \"Turbidity\": 1, \"Colour\": 255, \"Grade\": 2}, {\"pH\": 6.5, \"Temperature\": 38, \"Taste\": 1, \"Odor\": 0, \"Fat \": 0, \"Turbidity\": 0, \"Colour\": 255, \"Grade\": 1}, {\"pH\": 4.7, \"Temperature\": 38, \"Taste\": 1, \"Odor\": 0, \"Fat \": 1, \"Turbidity\": 0, \"Colour\": 255, \"Grade\": 0}, {\"pH\": 3.0, \"Temperature\": 40, \"Taste\": 1, \"Odor\": 1, \"Fat \": 1, \"Turbidity\": 1, \"Colour\": 255, \"Grade\": 0}, {\"pH\": 9.0, \"Temperature\": 43, \"Taste\": 1, \"Odor\": 0, \"Fat \": 1, \"Turbidity\": 1, \"Colour\": 250, \"Grade\": 0}, {\"pH\": 6.8, \"Temperature\": 40, \"Taste\": 1, \"Odor\": 0, \"Fat \": 1, \"Turbidity\": 0, \"Colour\": 245, \"Grade\": 1}, {\"pH\": 6.6, \"Temperature\": 45, \"Taste\": 0, \"Odor\": 1, \"Fat \": 1, \"Turbidity\": 1, \"Colour\": 250, \"Grade\": 2}, {\"pH\": 6.5, \"Temperature\": 36, \"Taste\": 0, \"Odor\": 0, \"Fat \": 1, \"Turbidity\": 0, \"Colour\": 255, \"Grade\": 1}, {\"pH\": 4.5, \"Temperature\": 38, \"Taste\": 0, \"Odor\": 1, \"Fat \": 1, \"Turbidity\": 1, \"Colour\": 255, \"Grade\": 0}, {\"pH\": 6.8, \"Temperature\": 45, \"Taste\": 1, \"Odor\": 1, \"Fat \": 1, \"Turbidity\": 1, \"Colour\": 245, \"Grade\": 2}, {\"pH\": 6.5, \"Temperature\": 35, \"Taste\": 1, \"Odor\": 0, \"Fat \": 1, \"Turbidity\": 0, \"Colour\": 246, \"Grade\": 1}, {\"pH\": 6.8, \"Temperature\": 36, \"Taste\": 0, \"Odor\": 1, \"Fat \": 1, \"Turbidity\": 0, \"Colour\": 253, \"Grade\": 2}, {\"pH\": 8.5, \"Temperature\": 70, \"Taste\": 0, \"Odor\": 0, \"Fat \": 0, \"Turbidity\": 0, \"Colour\": 246, \"Grade\": 0}, {\"pH\": 6.8, \"Temperature\": 34, \"Taste\": 0, \"Odor\": 0, \"Fat \": 0, \"Turbidity\": 1, \"Colour\": 240, \"Grade\": 1}, {\"pH\": 6.5, \"Temperature\": 37, \"Taste\": 0, \"Odor\": 0, \"Fat \": 0, \"Turbidity\": 0, \"Colour\": 245, \"Grade\": 1}, {\"pH\": 6.6, \"Temperature\": 37, \"Taste\": 1, \"Odor\": 0, \"Fat \": 1, \"Turbidity\": 0, \"Colour\": 255, \"Grade\": 2}, {\"pH\": 6.8, \"Temperature\": 45, \"Taste\": 0, \"Odor\": 1, \"Fat \": 0, \"Turbidity\": 0, \"Colour\": 240, \"Grade\": 1}, {\"pH\": 7.4, \"Temperature\": 65, \"Taste\": 0, \"Odor\": 0, \"Fat \": 0, \"Turbidity\": 0, \"Colour\": 255, \"Grade\": 0}, {\"pH\": 6.8, \"Temperature\": 41, \"Taste\": 0, \"Odor\": 0, \"Fat \": 1, \"Turbidity\": 0, \"Colour\": 255, \"Grade\": 1}, {\"pH\": 6.5, \"Temperature\": 38, \"Taste\": 1, \"Odor\": 1, \"Fat \": 1, \"Turbidity\": 1, \"Colour\": 255, \"Grade\": 2}, {\"pH\": 6.6, \"Temperature\": 38, \"Taste\": 0, \"Odor\": 0, \"Fat \": 0, \"Turbidity\": 0, \"Colour\": 255, \"Grade\": 1}, {\"pH\": 3.0, \"Temperature\": 40, \"Taste\": 1, \"Odor\": 0, \"Fat \": 0, \"Turbidity\": 0, \"Colour\": 255, \"Grade\": 0}, {\"pH\": 9.0, \"Temperature\": 43, \"Taste\": 1, \"Odor\": 1, \"Fat \": 1, \"Turbidity\": 1, \"Colour\": 248, \"Grade\": 0}, {\"pH\": 6.5, \"Temperature\": 38, \"Taste\": 1, \"Odor\": 0, \"Fat \": 1, \"Turbidity\": 0, \"Colour\": 255, \"Grade\": 1}, {\"pH\": 6.7, \"Temperature\": 38, \"Taste\": 1, \"Odor\": 0, \"Fat \": 1, \"Turbidity\": 0, \"Colour\": 255, \"Grade\": 2}, {\"pH\": 3.0, \"Temperature\": 40, \"Taste\": 1, \"Odor\": 1, \"Fat \": 1, \"Turbidity\": 1, \"Colour\": 255, \"Grade\": 0}, {\"pH\": 6.6, \"Temperature\": 43, \"Taste\": 1, \"Odor\": 0, \"Fat \": 1, \"Turbidity\": 1, \"Colour\": 250, \"Grade\": 2}, {\"pH\": 8.6, \"Temperature\": 55, \"Taste\": 0, \"Odor\": 1, \"Fat \": 1, \"Turbidity\": 1, \"Colour\": 255, \"Grade\": 0}, {\"pH\": 6.8, \"Temperature\": 45, \"Taste\": 0, \"Odor\": 0, \"Fat \": 0, \"Turbidity\": 1, \"Colour\": 255, \"Grade\": 1}, {\"pH\": 6.8, \"Temperature\": 45, \"Taste\": 0, \"Odor\": 1, \"Fat \": 1, \"Turbidity\": 1, \"Colour\": 255, \"Grade\": 2}, {\"pH\": 6.5, \"Temperature\": 38, \"Taste\": 1, \"Odor\": 0, \"Fat \": 0, \"Turbidity\": 0, \"Colour\": 255, \"Grade\": 1}, {\"pH\": 6.6, \"Temperature\": 38, \"Taste\": 1, \"Odor\": 0, \"Fat \": 1, \"Turbidity\": 0, \"Colour\": 255, \"Grade\": 2}, {\"pH\": 3.0, \"Temperature\": 40, \"Taste\": 1, \"Odor\": 1, \"Fat \": 1, \"Turbidity\": 1, \"Colour\": 255, \"Grade\": 0}, {\"pH\": 9.0, \"Temperature\": 43, \"Taste\": 1, \"Odor\": 0, \"Fat \": 1, \"Turbidity\": 1, \"Colour\": 250, \"Grade\": 0}, {\"pH\": 6.8, \"Temperature\": 40, \"Taste\": 1, \"Odor\": 0, \"Fat \": 1, \"Turbidity\": 0, \"Colour\": 245, \"Grade\": 1}, {\"pH\": 6.6, \"Temperature\": 45, \"Taste\": 0, \"Odor\": 0, \"Fat \": 0, \"Turbidity\": 1, \"Colour\": 250, \"Grade\": 1}, {\"pH\": 6.5, \"Temperature\": 36, \"Taste\": 0, \"Odor\": 0, \"Fat \": 1, \"Turbidity\": 0, \"Colour\": 255, \"Grade\": 1}, {\"pH\": 6.8, \"Temperature\": 45, \"Taste\": 0, \"Odor\": 1, \"Fat \": 1, \"Turbidity\": 1, \"Colour\": 255, \"Grade\": 2}, {\"pH\": 6.5, \"Temperature\": 38, \"Taste\": 1, \"Odor\": 0, \"Fat \": 0, \"Turbidity\": 0, \"Colour\": 255, \"Grade\": 1}, {\"pH\": 4.7, \"Temperature\": 38, \"Taste\": 1, \"Odor\": 0, \"Fat \": 1, \"Turbidity\": 0, \"Colour\": 255, \"Grade\": 0}, {\"pH\": 3.0, \"Temperature\": 40, \"Taste\": 1, \"Odor\": 1, \"Fat \": 1, \"Turbidity\": 1, \"Colour\": 255, \"Grade\": 0}, {\"pH\": 9.0, \"Temperature\": 43, \"Taste\": 1, \"Odor\": 0, \"Fat \": 1, \"Turbidity\": 1, \"Colour\": 250, \"Grade\": 0}, {\"pH\": 6.8, \"Temperature\": 40, \"Taste\": 1, \"Odor\": 0, \"Fat \": 1, \"Turbidity\": 0, \"Colour\": 245, \"Grade\": 1}, {\"pH\": 6.6, \"Temperature\": 45, \"Taste\": 0, \"Odor\": 1, \"Fat \": 1, \"Turbidity\": 1, \"Colour\": 250, \"Grade\": 2}, {\"pH\": 6.5, \"Temperature\": 36, \"Taste\": 0, \"Odor\": 0, \"Fat \": 1, \"Turbidity\": 0, \"Colour\": 255, \"Grade\": 1}, {\"pH\": 4.5, \"Temperature\": 38, \"Taste\": 0, \"Odor\": 1, \"Fat \": 1, \"Turbidity\": 1, \"Colour\": 255, \"Grade\": 0}, {\"pH\": 6.8, \"Temperature\": 45, \"Taste\": 1, \"Odor\": 1, \"Fat \": 1, \"Turbidity\": 1, \"Colour\": 245, \"Grade\": 2}, {\"pH\": 5.5, \"Temperature\": 45, \"Taste\": 1, \"Odor\": 0, \"Fat \": 1, \"Turbidity\": 1, \"Colour\": 250, \"Grade\": 0}, {\"pH\": 4.5, \"Temperature\": 60, \"Taste\": 0, \"Odor\": 1, \"Fat \": 1, \"Turbidity\": 1, \"Colour\": 250, \"Grade\": 0}, {\"pH\": 8.1, \"Temperature\": 66, \"Taste\": 1, \"Odor\": 0, \"Fat \": 1, \"Turbidity\": 1, \"Colour\": 255, \"Grade\": 0}, {\"pH\": 6.7, \"Temperature\": 45, \"Taste\": 1, \"Odor\": 1, \"Fat \": 0, \"Turbidity\": 0, \"Colour\": 247, \"Grade\": 1}, {\"pH\": 6.7, \"Temperature\": 45, \"Taste\": 1, \"Odor\": 1, \"Fat \": 1, \"Turbidity\": 0, \"Colour\": 245, \"Grade\": 1}, {\"pH\": 5.6, \"Temperature\": 50, \"Taste\": 0, \"Odor\": 1, \"Fat \": 1, \"Turbidity\": 1, \"Colour\": 255, \"Grade\": 0}, {\"pH\": 6.6, \"Temperature\": 35, \"Taste\": 0, \"Odor\": 1, \"Fat \": 1, \"Turbidity\": 1, \"Colour\": 255, \"Grade\": 2}, {\"pH\": 7.4, \"Temperature\": 90, \"Taste\": 1, \"Odor\": 0, \"Fat \": 1, \"Turbidity\": 1, \"Colour\": 255, \"Grade\": 0}, {\"pH\": 6.8, \"Temperature\": 50, \"Taste\": 0, \"Odor\": 0, \"Fat \": 1, \"Turbidity\": 0, \"Colour\": 255, \"Grade\": 0}, {\"pH\": 6.5, \"Temperature\": 38, \"Taste\": 1, \"Odor\": 0, \"Fat \": 1, \"Turbidity\": 0, \"Colour\": 255, \"Grade\": 1}, {\"pH\": 6.7, \"Temperature\": 41, \"Taste\": 1, \"Odor\": 0, \"Fat \": 0, \"Turbidity\": 0, \"Colour\": 247, \"Grade\": 1}, {\"pH\": 6.7, \"Temperature\": 50, \"Taste\": 1, \"Odor\": 1, \"Fat \": 1, \"Turbidity\": 0, \"Colour\": 245, \"Grade\": 0}, {\"pH\": 6.8, \"Temperature\": 45, \"Taste\": 0, \"Odor\": 1, \"Fat \": 1, \"Turbidity\": 1, \"Colour\": 255, \"Grade\": 2}, {\"pH\": 8.6, \"Temperature\": 55, \"Taste\": 0, \"Odor\": 1, \"Fat \": 0, \"Turbidity\": 0, \"Colour\": 255, \"Grade\": 0}, {\"pH\": 7.4, \"Temperature\": 65, \"Taste\": 0, \"Odor\": 0, \"Fat \": 0, \"Turbidity\": 0, \"Colour\": 255, \"Grade\": 0}, {\"pH\": 6.8, \"Temperature\": 41, \"Taste\": 0, \"Odor\": 0, \"Fat \": 0, \"Turbidity\": 0, \"Colour\": 255, \"Grade\": 1}, {\"pH\": 6.5, \"Temperature\": 38, \"Taste\": 1, \"Odor\": 1, \"Fat \": 1, \"Turbidity\": 1, \"Colour\": 255, \"Grade\": 2}, {\"pH\": 6.8, \"Temperature\": 38, \"Taste\": 0, \"Odor\": 0, \"Fat \": 0, \"Turbidity\": 0, \"Colour\": 255, \"Grade\": 1}, {\"pH\": 3.0, \"Temperature\": 40, \"Taste\": 1, \"Odor\": 0, \"Fat \": 0, \"Turbidity\": 0, \"Colour\": 255, \"Grade\": 0}, {\"pH\": 9.0, \"Temperature\": 43, \"Taste\": 1, \"Odor\": 1, \"Fat \": 1, \"Turbidity\": 1, \"Colour\": 248, \"Grade\": 0}, {\"pH\": 6.8, \"Temperature\": 40, \"Taste\": 1, \"Odor\": 1, \"Fat \": 1, \"Turbidity\": 1, \"Colour\": 255, \"Grade\": 2}, {\"pH\": 6.6, \"Temperature\": 45, \"Taste\": 0, \"Odor\": 0, \"Fat \": 0, \"Turbidity\": 1, \"Colour\": 250, \"Grade\": 1}, {\"pH\": 6.5, \"Temperature\": 36, \"Taste\": 0, \"Odor\": 0, \"Fat \": 0, \"Turbidity\": 0, \"Colour\": 247, \"Grade\": 1}, {\"pH\": 6.6, \"Temperature\": 38, \"Taste\": 0, \"Odor\": 0, \"Fat \": 0, \"Turbidity\": 0, \"Colour\": 255, \"Grade\": 1}, {\"pH\": 6.8, \"Temperature\": 45, \"Taste\": 1, \"Odor\": 1, \"Fat \": 1, \"Turbidity\": 0, \"Colour\": 245, \"Grade\": 2}, {\"pH\": 9.5, \"Temperature\": 34, \"Taste\": 1, \"Odor\": 1, \"Fat \": 0, \"Turbidity\": 1, \"Colour\": 255, \"Grade\": 0}, {\"pH\": 6.5, \"Temperature\": 37, \"Taste\": 0, \"Odor\": 0, \"Fat \": 0, \"Turbidity\": 0, \"Colour\": 255, \"Grade\": 1}, {\"pH\": 6.6, \"Temperature\": 37, \"Taste\": 1, \"Odor\": 1, \"Fat \": 1, \"Turbidity\": 1, \"Colour\": 255, \"Grade\": 2}, {\"pH\": 5.5, \"Temperature\": 45, \"Taste\": 1, \"Odor\": 0, \"Fat \": 1, \"Turbidity\": 1, \"Colour\": 250, \"Grade\": 0}, {\"pH\": 4.5, \"Temperature\": 60, \"Taste\": 0, \"Odor\": 1, \"Fat \": 1, \"Turbidity\": 1, \"Colour\": 250, \"Grade\": 0}, {\"pH\": 8.1, \"Temperature\": 66, \"Taste\": 1, \"Odor\": 0, \"Fat \": 1, \"Turbidity\": 1, \"Colour\": 255, \"Grade\": 0}, {\"pH\": 6.7, \"Temperature\": 45, \"Taste\": 1, \"Odor\": 1, \"Fat \": 0, \"Turbidity\": 0, \"Colour\": 247, \"Grade\": 1}, {\"pH\": 6.7, \"Temperature\": 45, \"Taste\": 1, \"Odor\": 1, \"Fat \": 1, \"Turbidity\": 0, \"Colour\": 245, \"Grade\": 1}, {\"pH\": 5.6, \"Temperature\": 50, \"Taste\": 0, \"Odor\": 1, \"Fat \": 1, \"Turbidity\": 1, \"Colour\": 255, \"Grade\": 0}, {\"pH\": 8.6, \"Temperature\": 55, \"Taste\": 0, \"Odor\": 1, \"Fat \": 1, \"Turbidity\": 1, \"Colour\": 255, \"Grade\": 0}, {\"pH\": 7.4, \"Temperature\": 90, \"Taste\": 1, \"Odor\": 0, \"Fat \": 1, \"Turbidity\": 1, \"Colour\": 255, \"Grade\": 0}, {\"pH\": 6.8, \"Temperature\": 45, \"Taste\": 0, \"Odor\": 0, \"Fat \": 1, \"Turbidity\": 0, \"Colour\": 255, \"Grade\": 1}, {\"pH\": 6.5, \"Temperature\": 38, \"Taste\": 1, \"Odor\": 0, \"Fat \": 1, \"Turbidity\": 0, \"Colour\": 255, \"Grade\": 1}, {\"pH\": 6.7, \"Temperature\": 38, \"Taste\": 1, \"Odor\": 0, \"Fat \": 1, \"Turbidity\": 0, \"Colour\": 255, \"Grade\": 2}, {\"pH\": 3.0, \"Temperature\": 40, \"Taste\": 1, \"Odor\": 1, \"Fat \": 1, \"Turbidity\": 1, \"Colour\": 255, \"Grade\": 0}, {\"pH\": 9.0, \"Temperature\": 43, \"Taste\": 1, \"Odor\": 0, \"Fat \": 1, \"Turbidity\": 1, \"Colour\": 250, \"Grade\": 0}, {\"pH\": 8.6, \"Temperature\": 55, \"Taste\": 0, \"Odor\": 1, \"Fat \": 1, \"Turbidity\": 1, \"Colour\": 255, \"Grade\": 0}, {\"pH\": 6.8, \"Temperature\": 45, \"Taste\": 0, \"Odor\": 0, \"Fat \": 0, \"Turbidity\": 1, \"Colour\": 255, \"Grade\": 1}, {\"pH\": 6.8, \"Temperature\": 45, \"Taste\": 0, \"Odor\": 1, \"Fat \": 1, \"Turbidity\": 1, \"Colour\": 255, \"Grade\": 2}, {\"pH\": 6.5, \"Temperature\": 38, \"Taste\": 1, \"Odor\": 0, \"Fat \": 0, \"Turbidity\": 0, \"Colour\": 255, \"Grade\": 1}, {\"pH\": 4.7, \"Temperature\": 38, \"Taste\": 1, \"Odor\": 0, \"Fat \": 1, \"Turbidity\": 0, \"Colour\": 255, \"Grade\": 0}, {\"pH\": 3.0, \"Temperature\": 40, \"Taste\": 1, \"Odor\": 1, \"Fat \": 1, \"Turbidity\": 1, \"Colour\": 255, \"Grade\": 0}, {\"pH\": 9.0, \"Temperature\": 43, \"Taste\": 1, \"Odor\": 0, \"Fat \": 1, \"Turbidity\": 1, \"Colour\": 250, \"Grade\": 0}, {\"pH\": 6.8, \"Temperature\": 40, \"Taste\": 1, \"Odor\": 0, \"Fat \": 1, \"Turbidity\": 0, \"Colour\": 245, \"Grade\": 1}, {\"pH\": 6.5, \"Temperature\": 37, \"Taste\": 0, \"Odor\": 0, \"Fat \": 0, \"Turbidity\": 0, \"Colour\": 255, \"Grade\": 1}, {\"pH\": 6.6, \"Temperature\": 37, \"Taste\": 1, \"Odor\": 1, \"Fat \": 1, \"Turbidity\": 1, \"Colour\": 255, \"Grade\": 2}, {\"pH\": 5.5, \"Temperature\": 45, \"Taste\": 1, \"Odor\": 0, \"Fat \": 1, \"Turbidity\": 1, \"Colour\": 250, \"Grade\": 0}, {\"pH\": 4.5, \"Temperature\": 60, \"Taste\": 0, \"Odor\": 1, \"Fat \": 1, \"Turbidity\": 1, \"Colour\": 250, \"Grade\": 0}, {\"pH\": 8.1, \"Temperature\": 66, \"Taste\": 1, \"Odor\": 0, \"Fat \": 1, \"Turbidity\": 1, \"Colour\": 255, \"Grade\": 0}, {\"pH\": 6.7, \"Temperature\": 45, \"Taste\": 1, \"Odor\": 1, \"Fat \": 0, \"Turbidity\": 0, \"Colour\": 247, \"Grade\": 1}, {\"pH\": 6.7, \"Temperature\": 45, \"Taste\": 1, \"Odor\": 1, \"Fat \": 1, \"Turbidity\": 0, \"Colour\": 245, \"Grade\": 1}, {\"pH\": 5.6, \"Temperature\": 50, \"Taste\": 0, \"Odor\": 1, \"Fat \": 1, \"Turbidity\": 1, \"Colour\": 255, \"Grade\": 0}, {\"pH\": 8.6, \"Temperature\": 55, \"Taste\": 0, \"Odor\": 1, \"Fat \": 1, \"Turbidity\": 1, \"Colour\": 255, \"Grade\": 0}, {\"pH\": 7.4, \"Temperature\": 90, \"Taste\": 1, \"Odor\": 0, \"Fat \": 1, \"Turbidity\": 1, \"Colour\": 255, \"Grade\": 0}, {\"pH\": 6.8, \"Temperature\": 45, \"Taste\": 0, \"Odor\": 0, \"Fat \": 1, \"Turbidity\": 0, \"Colour\": 255, \"Grade\": 1}, {\"pH\": 6.5, \"Temperature\": 38, \"Taste\": 1, \"Odor\": 0, \"Fat \": 1, \"Turbidity\": 0, \"Colour\": 255, \"Grade\": 1}, {\"pH\": 6.7, \"Temperature\": 38, \"Taste\": 1, \"Odor\": 0, \"Fat \": 1, \"Turbidity\": 0, \"Colour\": 255, \"Grade\": 2}, {\"pH\": 3.0, \"Temperature\": 40, \"Taste\": 1, \"Odor\": 1, \"Fat \": 1, \"Turbidity\": 1, \"Colour\": 255, \"Grade\": 0}, {\"pH\": 9.0, \"Temperature\": 43, \"Taste\": 1, \"Odor\": 0, \"Fat \": 1, \"Turbidity\": 1, \"Colour\": 250, \"Grade\": 0}, {\"pH\": 8.6, \"Temperature\": 55, \"Taste\": 0, \"Odor\": 1, \"Fat \": 1, \"Turbidity\": 1, \"Colour\": 255, \"Grade\": 0}, {\"pH\": 6.8, \"Temperature\": 45, \"Taste\": 0, \"Odor\": 0, \"Fat \": 0, \"Turbidity\": 1, \"Colour\": 255, \"Grade\": 1}, {\"pH\": 6.8, \"Temperature\": 45, \"Taste\": 0, \"Odor\": 1, \"Fat \": 1, \"Turbidity\": 1, \"Colour\": 255, \"Grade\": 2}, {\"pH\": 6.5, \"Temperature\": 38, \"Taste\": 1, \"Odor\": 0, \"Fat \": 0, \"Turbidity\": 0, \"Colour\": 255, \"Grade\": 1}, {\"pH\": 4.7, \"Temperature\": 38, \"Taste\": 1, \"Odor\": 0, \"Fat \": 1, \"Turbidity\": 0, \"Colour\": 255, \"Grade\": 0}, {\"pH\": 3.0, \"Temperature\": 40, \"Taste\": 1, \"Odor\": 1, \"Fat \": 1, \"Turbidity\": 1, \"Colour\": 255, \"Grade\": 0}, {\"pH\": 9.0, \"Temperature\": 43, \"Taste\": 1, \"Odor\": 0, \"Fat \": 1, \"Turbidity\": 1, \"Colour\": 250, \"Grade\": 0}, {\"pH\": 6.8, \"Temperature\": 40, \"Taste\": 1, \"Odor\": 0, \"Fat \": 1, \"Turbidity\": 0, \"Colour\": 245, \"Grade\": 1}, {\"pH\": 6.6, \"Temperature\": 45, \"Taste\": 0, \"Odor\": 1, \"Fat \": 1, \"Turbidity\": 1, \"Colour\": 250, \"Grade\": 2}, {\"pH\": 6.5, \"Temperature\": 36, \"Taste\": 0, \"Odor\": 0, \"Fat \": 1, \"Turbidity\": 0, \"Colour\": 255, \"Grade\": 1}, {\"pH\": 4.5, \"Temperature\": 38, \"Taste\": 0, \"Odor\": 1, \"Fat \": 1, \"Turbidity\": 1, \"Colour\": 255, \"Grade\": 0}, {\"pH\": 6.8, \"Temperature\": 45, \"Taste\": 1, \"Odor\": 1, \"Fat \": 1, \"Turbidity\": 1, \"Colour\": 245, \"Grade\": 2}, {\"pH\": 6.5, \"Temperature\": 35, \"Taste\": 1, \"Odor\": 0, \"Fat \": 1, \"Turbidity\": 0, \"Colour\": 246, \"Grade\": 1}, {\"pH\": 6.8, \"Temperature\": 36, \"Taste\": 0, \"Odor\": 1, \"Fat \": 1, \"Turbidity\": 0, \"Colour\": 253, \"Grade\": 2}, {\"pH\": 8.5, \"Temperature\": 70, \"Taste\": 0, \"Odor\": 0, \"Fat \": 0, \"Turbidity\": 0, \"Colour\": 246, \"Grade\": 0}, {\"pH\": 6.8, \"Temperature\": 34, \"Taste\": 0, \"Odor\": 0, \"Fat \": 0, \"Turbidity\": 1, \"Colour\": 240, \"Grade\": 1}, {\"pH\": 6.5, \"Temperature\": 37, \"Taste\": 0, \"Odor\": 0, \"Fat \": 0, \"Turbidity\": 0, \"Colour\": 245, \"Grade\": 1}, {\"pH\": 6.6, \"Temperature\": 37, \"Taste\": 1, \"Odor\": 0, \"Fat \": 1, \"Turbidity\": 0, \"Colour\": 255, \"Grade\": 2}, {\"pH\": 6.8, \"Temperature\": 45, \"Taste\": 0, \"Odor\": 1, \"Fat \": 0, \"Turbidity\": 0, \"Colour\": 240, \"Grade\": 1}, {\"pH\": 7.4, \"Temperature\": 65, \"Taste\": 0, \"Odor\": 0, \"Fat \": 0, \"Turbidity\": 0, \"Colour\": 255, \"Grade\": 0}, {\"pH\": 6.8, \"Temperature\": 41, \"Taste\": 0, \"Odor\": 0, \"Fat \": 1, \"Turbidity\": 0, \"Colour\": 255, \"Grade\": 1}, {\"pH\": 6.5, \"Temperature\": 38, \"Taste\": 1, \"Odor\": 1, \"Fat \": 1, \"Turbidity\": 1, \"Colour\": 255, \"Grade\": 2}, {\"pH\": 6.6, \"Temperature\": 38, \"Taste\": 0, \"Odor\": 0, \"Fat \": 0, \"Turbidity\": 0, \"Colour\": 255, \"Grade\": 1}, {\"pH\": 3.0, \"Temperature\": 40, \"Taste\": 1, \"Odor\": 0, \"Fat \": 0, \"Turbidity\": 0, \"Colour\": 255, \"Grade\": 0}, {\"pH\": 9.0, \"Temperature\": 43, \"Taste\": 1, \"Odor\": 1, \"Fat \": 1, \"Turbidity\": 1, \"Colour\": 248, \"Grade\": 0}, {\"pH\": 6.5, \"Temperature\": 38, \"Taste\": 1, \"Odor\": 0, \"Fat \": 1, \"Turbidity\": 0, \"Colour\": 255, \"Grade\": 1}, {\"pH\": 6.7, \"Temperature\": 38, \"Taste\": 1, \"Odor\": 0, \"Fat \": 1, \"Turbidity\": 0, \"Colour\": 255, \"Grade\": 2}, {\"pH\": 6.6, \"Temperature\": 40, \"Taste\": 0, \"Odor\": 0, \"Fat \": 0, \"Turbidity\": 0, \"Colour\": 255, \"Grade\": 1}, {\"pH\": 6.6, \"Temperature\": 43, \"Taste\": 1, \"Odor\": 0, \"Fat \": 1, \"Turbidity\": 1, \"Colour\": 250, \"Grade\": 2}, {\"pH\": 8.6, \"Temperature\": 55, \"Taste\": 0, \"Odor\": 1, \"Fat \": 1, \"Turbidity\": 1, \"Colour\": 255, \"Grade\": 0}, {\"pH\": 6.8, \"Temperature\": 45, \"Taste\": 0, \"Odor\": 0, \"Fat \": 0, \"Turbidity\": 1, \"Colour\": 255, \"Grade\": 1}, {\"pH\": 6.8, \"Temperature\": 45, \"Taste\": 0, \"Odor\": 1, \"Fat \": 1, \"Turbidity\": 1, \"Colour\": 255, \"Grade\": 2}, {\"pH\": 6.5, \"Temperature\": 38, \"Taste\": 1, \"Odor\": 0, \"Fat \": 0, \"Turbidity\": 0, \"Colour\": 255, \"Grade\": 1}, {\"pH\": 6.6, \"Temperature\": 38, \"Taste\": 1, \"Odor\": 0, \"Fat \": 1, \"Turbidity\": 0, \"Colour\": 255, \"Grade\": 2}, {\"pH\": 3.0, \"Temperature\": 40, \"Taste\": 1, \"Odor\": 1, \"Fat \": 1, \"Turbidity\": 1, \"Colour\": 255, \"Grade\": 0}, {\"pH\": 9.0, \"Temperature\": 43, \"Taste\": 1, \"Odor\": 0, \"Fat \": 1, \"Turbidity\": 1, \"Colour\": 250, \"Grade\": 0}, {\"pH\": 6.8, \"Temperature\": 40, \"Taste\": 1, \"Odor\": 0, \"Fat \": 1, \"Turbidity\": 0, \"Colour\": 245, \"Grade\": 1}, {\"pH\": 6.6, \"Temperature\": 45, \"Taste\": 0, \"Odor\": 1, \"Fat \": 1, \"Turbidity\": 1, \"Colour\": 250, \"Grade\": 2}, {\"pH\": 6.5, \"Temperature\": 36, \"Taste\": 0, \"Odor\": 0, \"Fat \": 1, \"Turbidity\": 0, \"Colour\": 255, \"Grade\": 1}, {\"pH\": 6.8, \"Temperature\": 45, \"Taste\": 0, \"Odor\": 1, \"Fat \": 1, \"Turbidity\": 1, \"Colour\": 255, \"Grade\": 2}, {\"pH\": 6.5, \"Temperature\": 38, \"Taste\": 1, \"Odor\": 0, \"Fat \": 0, \"Turbidity\": 0, \"Colour\": 255, \"Grade\": 1}, {\"pH\": 4.7, \"Temperature\": 38, \"Taste\": 1, \"Odor\": 0, \"Fat \": 1, \"Turbidity\": 0, \"Colour\": 255, \"Grade\": 0}, {\"pH\": 3.0, \"Temperature\": 40, \"Taste\": 1, \"Odor\": 1, \"Fat \": 1, \"Turbidity\": 1, \"Colour\": 255, \"Grade\": 0}, {\"pH\": 9.0, \"Temperature\": 43, \"Taste\": 1, \"Odor\": 0, \"Fat \": 1, \"Turbidity\": 1, \"Colour\": 250, \"Grade\": 0}, {\"pH\": 6.8, \"Temperature\": 40, \"Taste\": 1, \"Odor\": 0, \"Fat \": 1, \"Turbidity\": 0, \"Colour\": 245, \"Grade\": 1}, {\"pH\": 6.6, \"Temperature\": 45, \"Taste\": 0, \"Odor\": 1, \"Fat \": 1, \"Turbidity\": 1, \"Colour\": 250, \"Grade\": 2}, {\"pH\": 6.5, \"Temperature\": 36, \"Taste\": 0, \"Odor\": 0, \"Fat \": 1, \"Turbidity\": 0, \"Colour\": 255, \"Grade\": 1}, {\"pH\": 4.5, \"Temperature\": 38, \"Taste\": 0, \"Odor\": 1, \"Fat \": 1, \"Turbidity\": 1, \"Colour\": 255, \"Grade\": 0}, {\"pH\": 6.8, \"Temperature\": 45, \"Taste\": 1, \"Odor\": 1, \"Fat \": 1, \"Turbidity\": 1, \"Colour\": 245, \"Grade\": 2}, {\"pH\": 6.5, \"Temperature\": 35, \"Taste\": 1, \"Odor\": 0, \"Fat \": 1, \"Turbidity\": 0, \"Colour\": 246, \"Grade\": 1}, {\"pH\": 6.8, \"Temperature\": 36, \"Taste\": 0, \"Odor\": 1, \"Fat \": 1, \"Turbidity\": 0, \"Colour\": 253, \"Grade\": 2}, {\"pH\": 8.5, \"Temperature\": 70, \"Taste\": 0, \"Odor\": 0, \"Fat \": 0, \"Turbidity\": 0, \"Colour\": 246, \"Grade\": 0}, {\"pH\": 6.8, \"Temperature\": 34, \"Taste\": 0, \"Odor\": 0, \"Fat \": 0, \"Turbidity\": 1, \"Colour\": 240, \"Grade\": 1}, {\"pH\": 6.5, \"Temperature\": 37, \"Taste\": 0, \"Odor\": 1, \"Fat \": 1, \"Turbidity\": 1, \"Colour\": 245, \"Grade\": 0}, {\"pH\": 6.6, \"Temperature\": 37, \"Taste\": 1, \"Odor\": 0, \"Fat \": 1, \"Turbidity\": 0, \"Colour\": 255, \"Grade\": 2}, {\"pH\": 6.8, \"Temperature\": 45, \"Taste\": 0, \"Odor\": 1, \"Fat \": 0, \"Turbidity\": 0, \"Colour\": 240, \"Grade\": 1}, {\"pH\": 7.4, \"Temperature\": 65, \"Taste\": 0, \"Odor\": 0, \"Fat \": 0, \"Turbidity\": 0, \"Colour\": 255, \"Grade\": 0}, {\"pH\": 6.8, \"Temperature\": 41, \"Taste\": 0, \"Odor\": 0, \"Fat \": 1, \"Turbidity\": 0, \"Colour\": 255, \"Grade\": 1}, {\"pH\": 6.5, \"Temperature\": 38, \"Taste\": 1, \"Odor\": 1, \"Fat \": 1, \"Turbidity\": 1, \"Colour\": 255, \"Grade\": 2}, {\"pH\": 6.6, \"Temperature\": 38, \"Taste\": 0, \"Odor\": 0, \"Fat \": 0, \"Turbidity\": 0, \"Colour\": 255, \"Grade\": 1}, {\"pH\": 3.0, \"Temperature\": 40, \"Taste\": 1, \"Odor\": 0, \"Fat \": 0, \"Turbidity\": 0, \"Colour\": 255, \"Grade\": 0}, {\"pH\": 9.0, \"Temperature\": 43, \"Taste\": 1, \"Odor\": 1, \"Fat \": 1, \"Turbidity\": 1, \"Colour\": 248, \"Grade\": 0}, {\"pH\": 6.8, \"Temperature\": 40, \"Taste\": 1, \"Odor\": 1, \"Fat \": 1, \"Turbidity\": 1, \"Colour\": 255, \"Grade\": 2}, {\"pH\": 6.6, \"Temperature\": 50, \"Taste\": 0, \"Odor\": 0, \"Fat \": 0, \"Turbidity\": 1, \"Colour\": 250, \"Grade\": 0}, {\"pH\": 6.5, \"Temperature\": 36, \"Taste\": 0, \"Odor\": 0, \"Fat \": 0, \"Turbidity\": 0, \"Colour\": 247, \"Grade\": 1}, {\"pH\": 6.6, \"Temperature\": 50, \"Taste\": 0, \"Odor\": 0, \"Fat \": 0, \"Turbidity\": 0, \"Colour\": 255, \"Grade\": 0}, {\"pH\": 6.8, \"Temperature\": 45, \"Taste\": 1, \"Odor\": 1, \"Fat \": 1, \"Turbidity\": 0, \"Colour\": 245, \"Grade\": 2}, {\"pH\": 6.6, \"Temperature\": 40, \"Taste\": 1, \"Odor\": 0, \"Fat \": 0, \"Turbidity\": 0, \"Colour\": 255, \"Grade\": 1}, {\"pH\": 9.0, \"Temperature\": 43, \"Taste\": 1, \"Odor\": 1, \"Fat \": 1, \"Turbidity\": 1, \"Colour\": 248, \"Grade\": 0}, {\"pH\": 6.8, \"Temperature\": 40, \"Taste\": 1, \"Odor\": 1, \"Fat \": 1, \"Turbidity\": 1, \"Colour\": 255, \"Grade\": 2}, {\"pH\": 6.6, \"Temperature\": 50, \"Taste\": 0, \"Odor\": 0, \"Fat \": 0, \"Turbidity\": 1, \"Colour\": 250, \"Grade\": 0}, {\"pH\": 6.5, \"Temperature\": 36, \"Taste\": 0, \"Odor\": 0, \"Fat \": 0, \"Turbidity\": 0, \"Colour\": 247, \"Grade\": 1}, {\"pH\": 6.6, \"Temperature\": 38, \"Taste\": 0, \"Odor\": 0, \"Fat \": 0, \"Turbidity\": 0, \"Colour\": 255, \"Grade\": 1}, {\"pH\": 6.8, \"Temperature\": 45, \"Taste\": 1, \"Odor\": 1, \"Fat \": 1, \"Turbidity\": 0, \"Colour\": 245, \"Grade\": 2}, {\"pH\": 9.5, \"Temperature\": 34, \"Taste\": 1, \"Odor\": 1, \"Fat \": 0, \"Turbidity\": 1, \"Colour\": 255, \"Grade\": 0}, {\"pH\": 6.5, \"Temperature\": 37, \"Taste\": 0, \"Odor\": 0, \"Fat \": 0, \"Turbidity\": 0, \"Colour\": 255, \"Grade\": 1}, {\"pH\": 6.6, \"Temperature\": 37, \"Taste\": 1, \"Odor\": 1, \"Fat \": 1, \"Turbidity\": 1, \"Colour\": 255, \"Grade\": 2}, {\"pH\": 5.5, \"Temperature\": 45, \"Taste\": 1, \"Odor\": 0, \"Fat \": 1, \"Turbidity\": 1, \"Colour\": 250, \"Grade\": 0}, {\"pH\": 6.5, \"Temperature\": 40, \"Taste\": 1, \"Odor\": 0, \"Fat \": 0, \"Turbidity\": 0, \"Colour\": 250, \"Grade\": 1}, {\"pH\": 8.1, \"Temperature\": 66, \"Taste\": 1, \"Odor\": 0, \"Fat \": 1, \"Turbidity\": 1, \"Colour\": 255, \"Grade\": 0}, {\"pH\": 6.7, \"Temperature\": 45, \"Taste\": 1, \"Odor\": 1, \"Fat \": 0, \"Turbidity\": 0, \"Colour\": 247, \"Grade\": 1}, {\"pH\": 6.7, \"Temperature\": 38, \"Taste\": 1, \"Odor\": 0, \"Fat \": 1, \"Turbidity\": 0, \"Colour\": 255, \"Grade\": 2}, {\"pH\": 3.0, \"Temperature\": 40, \"Taste\": 1, \"Odor\": 1, \"Fat \": 1, \"Turbidity\": 1, \"Colour\": 255, \"Grade\": 0}, {\"pH\": 6.8, \"Temperature\": 43, \"Taste\": 1, \"Odor\": 0, \"Fat \": 1, \"Turbidity\": 0, \"Colour\": 250, \"Grade\": 2}, {\"pH\": 8.6, \"Temperature\": 55, \"Taste\": 0, \"Odor\": 1, \"Fat \": 1, \"Turbidity\": 1, \"Colour\": 255, \"Grade\": 0}, {\"pH\": 6.8, \"Temperature\": 55, \"Taste\": 0, \"Odor\": 0, \"Fat \": 0, \"Turbidity\": 1, \"Colour\": 255, \"Grade\": 0}, {\"pH\": 6.8, \"Temperature\": 45, \"Taste\": 0, \"Odor\": 1, \"Fat \": 1, \"Turbidity\": 1, \"Colour\": 255, \"Grade\": 2}, {\"pH\": 6.5, \"Temperature\": 38, \"Taste\": 1, \"Odor\": 0, \"Fat \": 0, \"Turbidity\": 0, \"Colour\": 255, \"Grade\": 1}, {\"pH\": 4.7, \"Temperature\": 38, \"Taste\": 1, \"Odor\": 0, \"Fat \": 1, \"Turbidity\": 0, \"Colour\": 255, \"Grade\": 0}, {\"pH\": 6.6, \"Temperature\": 40, \"Taste\": 1, \"Odor\": 1, \"Fat \": 1, \"Turbidity\": 1, \"Colour\": 255, \"Grade\": 2}, {\"pH\": 9.0, \"Temperature\": 43, \"Taste\": 1, \"Odor\": 0, \"Fat \": 1, \"Turbidity\": 1, \"Colour\": 250, \"Grade\": 0}, {\"pH\": 6.8, \"Temperature\": 40, \"Taste\": 1, \"Odor\": 0, \"Fat \": 1, \"Turbidity\": 0, \"Colour\": 245, \"Grade\": 1}, {\"pH\": 6.6, \"Temperature\": 45, \"Taste\": 0, \"Odor\": 1, \"Fat \": 1, \"Turbidity\": 1, \"Colour\": 250, \"Grade\": 2}, {\"pH\": 6.5, \"Temperature\": 36, \"Taste\": 0, \"Odor\": 0, \"Fat \": 1, \"Turbidity\": 0, \"Colour\": 255, \"Grade\": 1}, {\"pH\": 4.5, \"Temperature\": 38, \"Taste\": 0, \"Odor\": 1, \"Fat \": 1, \"Turbidity\": 1, \"Colour\": 255, \"Grade\": 0}, {\"pH\": 6.8, \"Temperature\": 45, \"Taste\": 1, \"Odor\": 1, \"Fat \": 1, \"Turbidity\": 1, \"Colour\": 245, \"Grade\": 2}, {\"pH\": 6.5, \"Temperature\": 50, \"Taste\": 1, \"Odor\": 0, \"Fat \": 1, \"Turbidity\": 0, \"Colour\": 246, \"Grade\": 0}, {\"pH\": 6.6, \"Temperature\": 37, \"Taste\": 1, \"Odor\": 0, \"Fat \": 1, \"Turbidity\": 0, \"Colour\": 255, \"Grade\": 2}, {\"pH\": 6.8, \"Temperature\": 45, \"Taste\": 0, \"Odor\": 1, \"Fat \": 0, \"Turbidity\": 0, \"Colour\": 240, \"Grade\": 1}, {\"pH\": 7.4, \"Temperature\": 65, \"Taste\": 0, \"Odor\": 0, \"Fat \": 0, \"Turbidity\": 0, \"Colour\": 255, \"Grade\": 0}, {\"pH\": 6.8, \"Temperature\": 41, \"Taste\": 0, \"Odor\": 0, \"Fat \": 1, \"Turbidity\": 0, \"Colour\": 255, \"Grade\": 1}, {\"pH\": 6.5, \"Temperature\": 38, \"Taste\": 1, \"Odor\": 1, \"Fat \": 1, \"Turbidity\": 1, \"Colour\": 255, \"Grade\": 2}, {\"pH\": 6.6, \"Temperature\": 38, \"Taste\": 0, \"Odor\": 0, \"Fat \": 0, \"Turbidity\": 0, \"Colour\": 255, \"Grade\": 1}, {\"pH\": 6.7, \"Temperature\": 38, \"Taste\": 1, \"Odor\": 0, \"Fat \": 1, \"Turbidity\": 0, \"Colour\": 255, \"Grade\": 2}, {\"pH\": 3.0, \"Temperature\": 40, \"Taste\": 1, \"Odor\": 1, \"Fat \": 1, \"Turbidity\": 1, \"Colour\": 255, \"Grade\": 0}, {\"pH\": 6.6, \"Temperature\": 43, \"Taste\": 0, \"Odor\": 0, \"Fat \": 1, \"Turbidity\": 0, \"Colour\": 250, \"Grade\": 1}, {\"pH\": 8.6, \"Temperature\": 55, \"Taste\": 0, \"Odor\": 1, \"Fat \": 1, \"Turbidity\": 1, \"Colour\": 255, \"Grade\": 0}, {\"pH\": 6.8, \"Temperature\": 45, \"Taste\": 0, \"Odor\": 0, \"Fat \": 0, \"Turbidity\": 1, \"Colour\": 255, \"Grade\": 1}, {\"pH\": 6.8, \"Temperature\": 45, \"Taste\": 0, \"Odor\": 1, \"Fat \": 1, \"Turbidity\": 1, \"Colour\": 255, \"Grade\": 2}, {\"pH\": 6.5, \"Temperature\": 38, \"Taste\": 1, \"Odor\": 0, \"Fat \": 0, \"Turbidity\": 0, \"Colour\": 255, \"Grade\": 1}, {\"pH\": 4.7, \"Temperature\": 38, \"Taste\": 1, \"Odor\": 0, \"Fat \": 1, \"Turbidity\": 0, \"Colour\": 255, \"Grade\": 0}, {\"pH\": 3.0, \"Temperature\": 40, \"Taste\": 1, \"Odor\": 1, \"Fat \": 1, \"Turbidity\": 1, \"Colour\": 255, \"Grade\": 0}, {\"pH\": 9.0, \"Temperature\": 43, \"Taste\": 1, \"Odor\": 0, \"Fat \": 1, \"Turbidity\": 1, \"Colour\": 250, \"Grade\": 0}, {\"pH\": 6.8, \"Temperature\": 40, \"Taste\": 1, \"Odor\": 0, \"Fat \": 1, \"Turbidity\": 0, \"Colour\": 245, \"Grade\": 1}, {\"pH\": 6.5, \"Temperature\": 37, \"Taste\": 0, \"Odor\": 0, \"Fat \": 0, \"Turbidity\": 0, \"Colour\": 255, \"Grade\": 1}, {\"pH\": 6.6, \"Temperature\": 37, \"Taste\": 1, \"Odor\": 1, \"Fat \": 1, \"Turbidity\": 1, \"Colour\": 255, \"Grade\": 2}, {\"pH\": 5.5, \"Temperature\": 45, \"Taste\": 1, \"Odor\": 0, \"Fat \": 1, \"Turbidity\": 1, \"Colour\": 250, \"Grade\": 0}, {\"pH\": 6.5, \"Temperature\": 40, \"Taste\": 0, \"Odor\": 0, \"Fat \": 1, \"Turbidity\": 0, \"Colour\": 250, \"Grade\": 1}, {\"pH\": 8.1, \"Temperature\": 66, \"Taste\": 1, \"Odor\": 0, \"Fat \": 1, \"Turbidity\": 1, \"Colour\": 255, \"Grade\": 0}, {\"pH\": 6.7, \"Temperature\": 45, \"Taste\": 1, \"Odor\": 1, \"Fat \": 0, \"Turbidity\": 0, \"Colour\": 247, \"Grade\": 1}, {\"pH\": 6.7, \"Temperature\": 45, \"Taste\": 1, \"Odor\": 1, \"Fat \": 1, \"Turbidity\": 0, \"Colour\": 245, \"Grade\": 1}, {\"pH\": 5.6, \"Temperature\": 50, \"Taste\": 0, \"Odor\": 1, \"Fat \": 1, \"Turbidity\": 1, \"Colour\": 255, \"Grade\": 0}, {\"pH\": 8.6, \"Temperature\": 55, \"Taste\": 0, \"Odor\": 1, \"Fat \": 1, \"Turbidity\": 1, \"Colour\": 255, \"Grade\": 0}, {\"pH\": 6.7, \"Temperature\": 41, \"Taste\": 1, \"Odor\": 0, \"Fat \": 0, \"Turbidity\": 0, \"Colour\": 247, \"Grade\": 1}, {\"pH\": 6.7, \"Temperature\": 50, \"Taste\": 1, \"Odor\": 1, \"Fat \": 1, \"Turbidity\": 0, \"Colour\": 245, \"Grade\": 0}, {\"pH\": 6.8, \"Temperature\": 45, \"Taste\": 0, \"Odor\": 1, \"Fat \": 1, \"Turbidity\": 1, \"Colour\": 255, \"Grade\": 2}, {\"pH\": 8.6, \"Temperature\": 55, \"Taste\": 0, \"Odor\": 1, \"Fat \": 0, \"Turbidity\": 0, \"Colour\": 255, \"Grade\": 0}, {\"pH\": 7.4, \"Temperature\": 65, \"Taste\": 0, \"Odor\": 0, \"Fat \": 0, \"Turbidity\": 0, \"Colour\": 255, \"Grade\": 0}, {\"pH\": 6.8, \"Temperature\": 41, \"Taste\": 0, \"Odor\": 0, \"Fat \": 0, \"Turbidity\": 0, \"Colour\": 255, \"Grade\": 1}, {\"pH\": 6.5, \"Temperature\": 38, \"Taste\": 1, \"Odor\": 1, \"Fat \": 1, \"Turbidity\": 1, \"Colour\": 255, \"Grade\": 2}, {\"pH\": 6.8, \"Temperature\": 38, \"Taste\": 0, \"Odor\": 0, \"Fat \": 0, \"Turbidity\": 0, \"Colour\": 255, \"Grade\": 1}, {\"pH\": 3.0, \"Temperature\": 40, \"Taste\": 1, \"Odor\": 0, \"Fat \": 0, \"Turbidity\": 0, \"Colour\": 255, \"Grade\": 0}, {\"pH\": 9.0, \"Temperature\": 43, \"Taste\": 1, \"Odor\": 1, \"Fat \": 1, \"Turbidity\": 1, \"Colour\": 248, \"Grade\": 0}, {\"pH\": 6.8, \"Temperature\": 40, \"Taste\": 1, \"Odor\": 1, \"Fat \": 1, \"Turbidity\": 1, \"Colour\": 255, \"Grade\": 2}, {\"pH\": 6.6, \"Temperature\": 45, \"Taste\": 0, \"Odor\": 0, \"Fat \": 0, \"Turbidity\": 1, \"Colour\": 250, \"Grade\": 1}, {\"pH\": 6.5, \"Temperature\": 36, \"Taste\": 0, \"Odor\": 0, \"Fat \": 0, \"Turbidity\": 0, \"Colour\": 247, \"Grade\": 1}, {\"pH\": 6.6, \"Temperature\": 38, \"Taste\": 0, \"Odor\": 1, \"Fat \": 1, \"Turbidity\": 1, \"Colour\": 255, \"Grade\": 2}, {\"pH\": 6.8, \"Temperature\": 45, \"Taste\": 1, \"Odor\": 1, \"Fat \": 1, \"Turbidity\": 0, \"Colour\": 245, \"Grade\": 2}, {\"pH\": 9.5, \"Temperature\": 34, \"Taste\": 1, \"Odor\": 1, \"Fat \": 0, \"Turbidity\": 1, \"Colour\": 255, \"Grade\": 0}, {\"pH\": 6.5, \"Temperature\": 37, \"Taste\": 0, \"Odor\": 0, \"Fat \": 0, \"Turbidity\": 0, \"Colour\": 255, \"Grade\": 1}, {\"pH\": 6.6, \"Temperature\": 37, \"Taste\": 1, \"Odor\": 1, \"Fat \": 1, \"Turbidity\": 1, \"Colour\": 255, \"Grade\": 2}, {\"pH\": 5.5, \"Temperature\": 45, \"Taste\": 1, \"Odor\": 0, \"Fat \": 1, \"Turbidity\": 1, \"Colour\": 250, \"Grade\": 0}, {\"pH\": 4.5, \"Temperature\": 60, \"Taste\": 0, \"Odor\": 1, \"Fat \": 1, \"Turbidity\": 1, \"Colour\": 250, \"Grade\": 0}, {\"pH\": 8.1, \"Temperature\": 66, \"Taste\": 1, \"Odor\": 0, \"Fat \": 1, \"Turbidity\": 1, \"Colour\": 255, \"Grade\": 0}, {\"pH\": 6.7, \"Temperature\": 45, \"Taste\": 1, \"Odor\": 1, \"Fat \": 0, \"Turbidity\": 0, \"Colour\": 247, \"Grade\": 1}, {\"pH\": 6.7, \"Temperature\": 45, \"Taste\": 1, \"Odor\": 1, \"Fat \": 1, \"Turbidity\": 0, \"Colour\": 245, \"Grade\": 1}, {\"pH\": 5.6, \"Temperature\": 50, \"Taste\": 0, \"Odor\": 1, \"Fat \": 1, \"Turbidity\": 1, \"Colour\": 255, \"Grade\": 0}, {\"pH\": 8.6, \"Temperature\": 55, \"Taste\": 0, \"Odor\": 1, \"Fat \": 1, \"Turbidity\": 1, \"Colour\": 255, \"Grade\": 0}, {\"pH\": 6.6, \"Temperature\": 45, \"Taste\": 1, \"Odor\": 0, \"Fat \": 0, \"Turbidity\": 1, \"Colour\": 255, \"Grade\": 1}, {\"pH\": 9.0, \"Temperature\": 43, \"Taste\": 1, \"Odor\": 0, \"Fat \": 1, \"Turbidity\": 1, \"Colour\": 250, \"Grade\": 0}, {\"pH\": 6.8, \"Temperature\": 40, \"Taste\": 1, \"Odor\": 0, \"Fat \": 1, \"Turbidity\": 0, \"Colour\": 245, \"Grade\": 1}, {\"pH\": 6.6, \"Temperature\": 45, \"Taste\": 0, \"Odor\": 1, \"Fat \": 1, \"Turbidity\": 1, \"Colour\": 250, \"Grade\": 2}, {\"pH\": 6.5, \"Temperature\": 36, \"Taste\": 0, \"Odor\": 0, \"Fat \": 1, \"Turbidity\": 0, \"Colour\": 255, \"Grade\": 1}, {\"pH\": 4.5, \"Temperature\": 38, \"Taste\": 0, \"Odor\": 1, \"Fat \": 1, \"Turbidity\": 1, \"Colour\": 255, \"Grade\": 0}, {\"pH\": 6.8, \"Temperature\": 45, \"Taste\": 1, \"Odor\": 1, \"Fat \": 1, \"Turbidity\": 1, \"Colour\": 245, \"Grade\": 2}, {\"pH\": 6.5, \"Temperature\": 35, \"Taste\": 1, \"Odor\": 0, \"Fat \": 1, \"Turbidity\": 0, \"Colour\": 246, \"Grade\": 1}, {\"pH\": 6.8, \"Temperature\": 36, \"Taste\": 0, \"Odor\": 1, \"Fat \": 1, \"Turbidity\": 0, \"Colour\": 253, \"Grade\": 2}, {\"pH\": 8.5, \"Temperature\": 70, \"Taste\": 0, \"Odor\": 0, \"Fat \": 0, \"Turbidity\": 0, \"Colour\": 246, \"Grade\": 0}, {\"pH\": 6.8, \"Temperature\": 34, \"Taste\": 0, \"Odor\": 0, \"Fat \": 0, \"Turbidity\": 1, \"Colour\": 240, \"Grade\": 1}, {\"pH\": 6.5, \"Temperature\": 37, \"Taste\": 0, \"Odor\": 0, \"Fat \": 0, \"Turbidity\": 0, \"Colour\": 245, \"Grade\": 1}, {\"pH\": 6.6, \"Temperature\": 37, \"Taste\": 1, \"Odor\": 0, \"Fat \": 1, \"Turbidity\": 0, \"Colour\": 255, \"Grade\": 2}, {\"pH\": 6.8, \"Temperature\": 45, \"Taste\": 0, \"Odor\": 1, \"Fat \": 0, \"Turbidity\": 0, \"Colour\": 240, \"Grade\": 1}, {\"pH\": 7.4, \"Temperature\": 65, \"Taste\": 0, \"Odor\": 0, \"Fat \": 0, \"Turbidity\": 0, \"Colour\": 255, \"Grade\": 0}, {\"pH\": 6.8, \"Temperature\": 41, \"Taste\": 1, \"Odor\": 1, \"Fat \": 1, \"Turbidity\": 0, \"Colour\": 255, \"Grade\": 2}, {\"pH\": 6.5, \"Temperature\": 38, \"Taste\": 1, \"Odor\": 1, \"Fat \": 1, \"Turbidity\": 1, \"Colour\": 255, \"Grade\": 2}, {\"pH\": 6.6, \"Temperature\": 38, \"Taste\": 0, \"Odor\": 0, \"Fat \": 0, \"Turbidity\": 0, \"Colour\": 255, \"Grade\": 1}, {\"pH\": 3.0, \"Temperature\": 40, \"Taste\": 1, \"Odor\": 0, \"Fat \": 0, \"Turbidity\": 0, \"Colour\": 255, \"Grade\": 0}, {\"pH\": 9.0, \"Temperature\": 43, \"Taste\": 1, \"Odor\": 1, \"Fat \": 1, \"Turbidity\": 1, \"Colour\": 248, \"Grade\": 0}, {\"pH\": 6.5, \"Temperature\": 38, \"Taste\": 1, \"Odor\": 0, \"Fat \": 1, \"Turbidity\": 0, \"Colour\": 255, \"Grade\": 1}, {\"pH\": 6.7, \"Temperature\": 38, \"Taste\": 1, \"Odor\": 0, \"Fat \": 1, \"Turbidity\": 0, \"Colour\": 255, \"Grade\": 2}, {\"pH\": 3.0, \"Temperature\": 40, \"Taste\": 1, \"Odor\": 1, \"Fat \": 1, \"Turbidity\": 1, \"Colour\": 255, \"Grade\": 0}, {\"pH\": 6.6, \"Temperature\": 43, \"Taste\": 1, \"Odor\": 0, \"Fat \": 1, \"Turbidity\": 1, \"Colour\": 250, \"Grade\": 2}, {\"pH\": 8.6, \"Temperature\": 55, \"Taste\": 0, \"Odor\": 1, \"Fat \": 1, \"Turbidity\": 1, \"Colour\": 255, \"Grade\": 0}, {\"pH\": 6.5, \"Temperature\": 40, \"Taste\": 1, \"Odor\": 0, \"Fat \": 0, \"Turbidity\": 0, \"Colour\": 250, \"Grade\": 1}, {\"pH\": 8.1, \"Temperature\": 66, \"Taste\": 1, \"Odor\": 0, \"Fat \": 1, \"Turbidity\": 1, \"Colour\": 255, \"Grade\": 0}, {\"pH\": 6.7, \"Temperature\": 45, \"Taste\": 1, \"Odor\": 1, \"Fat \": 0, \"Turbidity\": 0, \"Colour\": 247, \"Grade\": 1}, {\"pH\": 6.7, \"Temperature\": 38, \"Taste\": 1, \"Odor\": 0, \"Fat \": 1, \"Turbidity\": 0, \"Colour\": 255, \"Grade\": 2}, {\"pH\": 3.0, \"Temperature\": 40, \"Taste\": 1, \"Odor\": 1, \"Fat \": 1, \"Turbidity\": 1, \"Colour\": 255, \"Grade\": 0}, {\"pH\": 6.8, \"Temperature\": 43, \"Taste\": 1, \"Odor\": 0, \"Fat \": 1, \"Turbidity\": 0, \"Colour\": 250, \"Grade\": 2}, {\"pH\": 8.6, \"Temperature\": 55, \"Taste\": 0, \"Odor\": 1, \"Fat \": 1, \"Turbidity\": 1, \"Colour\": 255, \"Grade\": 0}, {\"pH\": 6.8, \"Temperature\": 55, \"Taste\": 0, \"Odor\": 0, \"Fat \": 0, \"Turbidity\": 1, \"Colour\": 255, \"Grade\": 0}, {\"pH\": 6.8, \"Temperature\": 45, \"Taste\": 0, \"Odor\": 1, \"Fat \": 1, \"Turbidity\": 1, \"Colour\": 255, \"Grade\": 2}, {\"pH\": 6.5, \"Temperature\": 38, \"Taste\": 1, \"Odor\": 0, \"Fat \": 0, \"Turbidity\": 0, \"Colour\": 255, \"Grade\": 1}, {\"pH\": 4.7, \"Temperature\": 38, \"Taste\": 1, \"Odor\": 0, \"Fat \": 1, \"Turbidity\": 0, \"Colour\": 255, \"Grade\": 0}, {\"pH\": 3.0, \"Temperature\": 40, \"Taste\": 1, \"Odor\": 1, \"Fat \": 1, \"Turbidity\": 1, \"Colour\": 255, \"Grade\": 0}, {\"pH\": 9.0, \"Temperature\": 43, \"Taste\": 1, \"Odor\": 0, \"Fat \": 1, \"Turbidity\": 1, \"Colour\": 250, \"Grade\": 0}, {\"pH\": 6.8, \"Temperature\": 40, \"Taste\": 1, \"Odor\": 0, \"Fat \": 1, \"Turbidity\": 0, \"Colour\": 245, \"Grade\": 1}, {\"pH\": 6.6, \"Temperature\": 45, \"Taste\": 0, \"Odor\": 1, \"Fat \": 1, \"Turbidity\": 1, \"Colour\": 250, \"Grade\": 2}, {\"pH\": 6.5, \"Temperature\": 36, \"Taste\": 0, \"Odor\": 0, \"Fat \": 1, \"Turbidity\": 0, \"Colour\": 255, \"Grade\": 1}, {\"pH\": 4.5, \"Temperature\": 38, \"Taste\": 0, \"Odor\": 1, \"Fat \": 1, \"Turbidity\": 1, \"Colour\": 255, \"Grade\": 0}, {\"pH\": 6.8, \"Temperature\": 45, \"Taste\": 1, \"Odor\": 1, \"Fat \": 1, \"Turbidity\": 1, \"Colour\": 245, \"Grade\": 2}, {\"pH\": 6.5, \"Temperature\": 45, \"Taste\": 1, \"Odor\": 0, \"Fat \": 0, \"Turbidity\": 0, \"Colour\": 246, \"Grade\": 1}, {\"pH\": 6.8, \"Temperature\": 36, \"Taste\": 0, \"Odor\": 1, \"Fat \": 1, \"Turbidity\": 0, \"Colour\": 253, \"Grade\": 2}, {\"pH\": 8.5, \"Temperature\": 70, \"Taste\": 0, \"Odor\": 0, \"Fat \": 0, \"Turbidity\": 0, \"Colour\": 246, \"Grade\": 0}, {\"pH\": 6.8, \"Temperature\": 34, \"Taste\": 0, \"Odor\": 0, \"Fat \": 0, \"Turbidity\": 1, \"Colour\": 240, \"Grade\": 1}, {\"pH\": 6.5, \"Temperature\": 37, \"Taste\": 0, \"Odor\": 0, \"Fat \": 0, \"Turbidity\": 0, \"Colour\": 245, \"Grade\": 1}, {\"pH\": 6.6, \"Temperature\": 37, \"Taste\": 1, \"Odor\": 0, \"Fat \": 1, \"Turbidity\": 0, \"Colour\": 255, \"Grade\": 2}, {\"pH\": 6.8, \"Temperature\": 45, \"Taste\": 0, \"Odor\": 1, \"Fat \": 0, \"Turbidity\": 0, \"Colour\": 240, \"Grade\": 1}, {\"pH\": 7.4, \"Temperature\": 65, \"Taste\": 0, \"Odor\": 0, \"Fat \": 0, \"Turbidity\": 0, \"Colour\": 255, \"Grade\": 0}, {\"pH\": 6.8, \"Temperature\": 41, \"Taste\": 0, \"Odor\": 0, \"Fat \": 1, \"Turbidity\": 0, \"Colour\": 255, \"Grade\": 1}, {\"pH\": 6.5, \"Temperature\": 38, \"Taste\": 1, \"Odor\": 1, \"Fat \": 1, \"Turbidity\": 1, \"Colour\": 255, \"Grade\": 2}, {\"pH\": 6.6, \"Temperature\": 38, \"Taste\": 0, \"Odor\": 0, \"Fat \": 0, \"Turbidity\": 0, \"Colour\": 255, \"Grade\": 1}, {\"pH\": 6.7, \"Temperature\": 38, \"Taste\": 1, \"Odor\": 0, \"Fat \": 1, \"Turbidity\": 0, \"Colour\": 255, \"Grade\": 2}, {\"pH\": 3.0, \"Temperature\": 40, \"Taste\": 1, \"Odor\": 1, \"Fat \": 1, \"Turbidity\": 1, \"Colour\": 255, \"Grade\": 0}, {\"pH\": 6.6, \"Temperature\": 43, \"Taste\": 0, \"Odor\": 0, \"Fat \": 0, \"Turbidity\": 1, \"Colour\": 250, \"Grade\": 1}, {\"pH\": 8.6, \"Temperature\": 55, \"Taste\": 0, \"Odor\": 1, \"Fat \": 1, \"Turbidity\": 1, \"Colour\": 255, \"Grade\": 0}, {\"pH\": 6.8, \"Temperature\": 45, \"Taste\": 0, \"Odor\": 0, \"Fat \": 0, \"Turbidity\": 1, \"Colour\": 255, \"Grade\": 1}, {\"pH\": 6.8, \"Temperature\": 45, \"Taste\": 0, \"Odor\": 1, \"Fat \": 1, \"Turbidity\": 1, \"Colour\": 255, \"Grade\": 2}, {\"pH\": 6.5, \"Temperature\": 38, \"Taste\": 1, \"Odor\": 0, \"Fat \": 0, \"Turbidity\": 0, \"Colour\": 255, \"Grade\": 1}, {\"pH\": 4.7, \"Temperature\": 38, \"Taste\": 1, \"Odor\": 0, \"Fat \": 1, \"Turbidity\": 0, \"Colour\": 255, \"Grade\": 0}, {\"pH\": 3.0, \"Temperature\": 40, \"Taste\": 1, \"Odor\": 1, \"Fat \": 1, \"Turbidity\": 1, \"Colour\": 255, \"Grade\": 0}, {\"pH\": 9.0, \"Temperature\": 43, \"Taste\": 1, \"Odor\": 0, \"Fat \": 1, \"Turbidity\": 1, \"Colour\": 250, \"Grade\": 0}, {\"pH\": 6.8, \"Temperature\": 40, \"Taste\": 1, \"Odor\": 0, \"Fat \": 1, \"Turbidity\": 0, \"Colour\": 245, \"Grade\": 1}, {\"pH\": 6.5, \"Temperature\": 37, \"Taste\": 0, \"Odor\": 0, \"Fat \": 0, \"Turbidity\": 0, \"Colour\": 255, \"Grade\": 1}, {\"pH\": 3.0, \"Temperature\": 40, \"Taste\": 1, \"Odor\": 1, \"Fat \": 1, \"Turbidity\": 1, \"Colour\": 255, \"Grade\": 0}, {\"pH\": 9.0, \"Temperature\": 43, \"Taste\": 1, \"Odor\": 0, \"Fat \": 1, \"Turbidity\": 1, \"Colour\": 250, \"Grade\": 0}, {\"pH\": 6.8, \"Temperature\": 40, \"Taste\": 1, \"Odor\": 0, \"Fat \": 1, \"Turbidity\": 0, \"Colour\": 245, \"Grade\": 1}, {\"pH\": 6.6, \"Temperature\": 45, \"Taste\": 0, \"Odor\": 1, \"Fat \": 1, \"Turbidity\": 1, \"Colour\": 250, \"Grade\": 2}, {\"pH\": 6.5, \"Temperature\": 36, \"Taste\": 0, \"Odor\": 0, \"Fat \": 1, \"Turbidity\": 0, \"Colour\": 255, \"Grade\": 1}, {\"pH\": 6.8, \"Temperature\": 45, \"Taste\": 0, \"Odor\": 1, \"Fat \": 1, \"Turbidity\": 1, \"Colour\": 255, \"Grade\": 2}, {\"pH\": 6.5, \"Temperature\": 38, \"Taste\": 1, \"Odor\": 0, \"Fat \": 0, \"Turbidity\": 0, \"Colour\": 255, \"Grade\": 1}, {\"pH\": 4.7, \"Temperature\": 38, \"Taste\": 1, \"Odor\": 0, \"Fat \": 1, \"Turbidity\": 0, \"Colour\": 255, \"Grade\": 0}, {\"pH\": 3.0, \"Temperature\": 40, \"Taste\": 1, \"Odor\": 1, \"Fat \": 1, \"Turbidity\": 1, \"Colour\": 255, \"Grade\": 0}, {\"pH\": 9.0, \"Temperature\": 43, \"Taste\": 1, \"Odor\": 0, \"Fat \": 1, \"Turbidity\": 1, \"Colour\": 250, \"Grade\": 0}, {\"pH\": 6.8, \"Temperature\": 40, \"Taste\": 1, \"Odor\": 0, \"Fat \": 1, \"Turbidity\": 0, \"Colour\": 245, \"Grade\": 1}, {\"pH\": 6.6, \"Temperature\": 45, \"Taste\": 0, \"Odor\": 1, \"Fat \": 1, \"Turbidity\": 1, \"Colour\": 250, \"Grade\": 2}, {\"pH\": 6.5, \"Temperature\": 36, \"Taste\": 0, \"Odor\": 0, \"Fat \": 1, \"Turbidity\": 0, \"Colour\": 255, \"Grade\": 1}, {\"pH\": 4.5, \"Temperature\": 38, \"Taste\": 0, \"Odor\": 1, \"Fat \": 1, \"Turbidity\": 1, \"Colour\": 255, \"Grade\": 0}, {\"pH\": 6.8, \"Temperature\": 45, \"Taste\": 1, \"Odor\": 1, \"Fat \": 1, \"Turbidity\": 1, \"Colour\": 245, \"Grade\": 2}, {\"pH\": 6.5, \"Temperature\": 35, \"Taste\": 1, \"Odor\": 0, \"Fat \": 1, \"Turbidity\": 0, \"Colour\": 246, \"Grade\": 1}, {\"pH\": 6.8, \"Temperature\": 36, \"Taste\": 0, \"Odor\": 1, \"Fat \": 1, \"Turbidity\": 0, \"Colour\": 253, \"Grade\": 2}, {\"pH\": 8.5, \"Temperature\": 70, \"Taste\": 0, \"Odor\": 0, \"Fat \": 0, \"Turbidity\": 0, \"Colour\": 246, \"Grade\": 0}, {\"pH\": 6.8, \"Temperature\": 34, \"Taste\": 0, \"Odor\": 0, \"Fat \": 0, \"Turbidity\": 1, \"Colour\": 240, \"Grade\": 1}, {\"pH\": 6.5, \"Temperature\": 37, \"Taste\": 0, \"Odor\": 1, \"Fat \": 1, \"Turbidity\": 1, \"Colour\": 245, \"Grade\": 0}, {\"pH\": 6.6, \"Temperature\": 37, \"Taste\": 1, \"Odor\": 0, \"Fat \": 1, \"Turbidity\": 0, \"Colour\": 255, \"Grade\": 2}, {\"pH\": 6.8, \"Temperature\": 45, \"Taste\": 0, \"Odor\": 1, \"Fat \": 0, \"Turbidity\": 0, \"Colour\": 240, \"Grade\": 1}, {\"pH\": 7.4, \"Temperature\": 65, \"Taste\": 0, \"Odor\": 0, \"Fat \": 0, \"Turbidity\": 0, \"Colour\": 255, \"Grade\": 0}, {\"pH\": 6.8, \"Temperature\": 41, \"Taste\": 0, \"Odor\": 0, \"Fat \": 1, \"Turbidity\": 0, \"Colour\": 255, \"Grade\": 1}, {\"pH\": 6.5, \"Temperature\": 38, \"Taste\": 1, \"Odor\": 1, \"Fat \": 1, \"Turbidity\": 1, \"Colour\": 255, \"Grade\": 2}, {\"pH\": 6.6, \"Temperature\": 38, \"Taste\": 0, \"Odor\": 0, \"Fat \": 0, \"Turbidity\": 0, \"Colour\": 255, \"Grade\": 1}, {\"pH\": 3.0, \"Temperature\": 40, \"Taste\": 1, \"Odor\": 0, \"Fat \": 0, \"Turbidity\": 0, \"Colour\": 255, \"Grade\": 0}, {\"pH\": 9.0, \"Temperature\": 43, \"Taste\": 1, \"Odor\": 1, \"Fat \": 1, \"Turbidity\": 1, \"Colour\": 248, \"Grade\": 0}, {\"pH\": 6.8, \"Temperature\": 40, \"Taste\": 1, \"Odor\": 1, \"Fat \": 1, \"Turbidity\": 1, \"Colour\": 255, \"Grade\": 2}, {\"pH\": 6.6, \"Temperature\": 50, \"Taste\": 0, \"Odor\": 0, \"Fat \": 0, \"Turbidity\": 1, \"Colour\": 250, \"Grade\": 0}, {\"pH\": 6.5, \"Temperature\": 36, \"Taste\": 0, \"Odor\": 0, \"Fat \": 0, \"Turbidity\": 0, \"Colour\": 247, \"Grade\": 1}, {\"pH\": 6.6, \"Temperature\": 50, \"Taste\": 0, \"Odor\": 0, \"Fat \": 0, \"Turbidity\": 0, \"Colour\": 255, \"Grade\": 0}, {\"pH\": 6.8, \"Temperature\": 45, \"Taste\": 1, \"Odor\": 1, \"Fat \": 1, \"Turbidity\": 0, \"Colour\": 245, \"Grade\": 2}, {\"pH\": 6.6, \"Temperature\": 40, \"Taste\": 1, \"Odor\": 0, \"Fat \": 0, \"Turbidity\": 0, \"Colour\": 255, \"Grade\": 1}, {\"pH\": 9.0, \"Temperature\": 43, \"Taste\": 1, \"Odor\": 1, \"Fat \": 1, \"Turbidity\": 1, \"Colour\": 248, \"Grade\": 0}, {\"pH\": 6.8, \"Temperature\": 40, \"Taste\": 1, \"Odor\": 1, \"Fat \": 1, \"Turbidity\": 1, \"Colour\": 255, \"Grade\": 2}, {\"pH\": 6.6, \"Temperature\": 50, \"Taste\": 0, \"Odor\": 0, \"Fat \": 0, \"Turbidity\": 1, \"Colour\": 250, \"Grade\": 0}, {\"pH\": 6.5, \"Temperature\": 36, \"Taste\": 0, \"Odor\": 0, \"Fat \": 0, \"Turbidity\": 0, \"Colour\": 247, \"Grade\": 1}, {\"pH\": 6.6, \"Temperature\": 38, \"Taste\": 0, \"Odor\": 0, \"Fat \": 0, \"Turbidity\": 0, \"Colour\": 255, \"Grade\": 1}, {\"pH\": 6.8, \"Temperature\": 45, \"Taste\": 1, \"Odor\": 1, \"Fat \": 1, \"Turbidity\": 0, \"Colour\": 245, \"Grade\": 2}, {\"pH\": 9.5, \"Temperature\": 34, \"Taste\": 1, \"Odor\": 1, \"Fat \": 0, \"Turbidity\": 1, \"Colour\": 255, \"Grade\": 0}, {\"pH\": 6.5, \"Temperature\": 37, \"Taste\": 0, \"Odor\": 0, \"Fat \": 0, \"Turbidity\": 0, \"Colour\": 255, \"Grade\": 1}, {\"pH\": 6.6, \"Temperature\": 37, \"Taste\": 1, \"Odor\": 1, \"Fat \": 1, \"Turbidity\": 1, \"Colour\": 255, \"Grade\": 2}, {\"pH\": 5.5, \"Temperature\": 45, \"Taste\": 1, \"Odor\": 0, \"Fat \": 1, \"Turbidity\": 1, \"Colour\": 250, \"Grade\": 0}, {\"pH\": 6.5, \"Temperature\": 40, \"Taste\": 1, \"Odor\": 0, \"Fat \": 0, \"Turbidity\": 0, \"Colour\": 250, \"Grade\": 1}, {\"pH\": 8.1, \"Temperature\": 66, \"Taste\": 1, \"Odor\": 0, \"Fat \": 1, \"Turbidity\": 1, \"Colour\": 255, \"Grade\": 0}, {\"pH\": 6.7, \"Temperature\": 45, \"Taste\": 1, \"Odor\": 1, \"Fat \": 0, \"Turbidity\": 0, \"Colour\": 247, \"Grade\": 1}, {\"pH\": 6.7, \"Temperature\": 38, \"Taste\": 1, \"Odor\": 0, \"Fat \": 1, \"Turbidity\": 0, \"Colour\": 255, \"Grade\": 2}, {\"pH\": 3.0, \"Temperature\": 40, \"Taste\": 1, \"Odor\": 1, \"Fat \": 1, \"Turbidity\": 1, \"Colour\": 255, \"Grade\": 0}, {\"pH\": 6.8, \"Temperature\": 43, \"Taste\": 1, \"Odor\": 0, \"Fat \": 1, \"Turbidity\": 0, \"Colour\": 250, \"Grade\": 2}, {\"pH\": 8.6, \"Temperature\": 55, \"Taste\": 0, \"Odor\": 1, \"Fat \": 1, \"Turbidity\": 1, \"Colour\": 255, \"Grade\": 0}]}}, {\"mode\": \"vega-lite\"});\n",
       "</script>"
      ],
      "text/plain": [
       "alt.Chart(...)"
      ]
     },
     "execution_count": 81,
     "metadata": {},
     "output_type": "execute_result"
    }
   ],
   "source": [
    "chart_grade_count = alt.Chart(milk_data).mark_bar().encode(\n",
    "    x=alt.X('count()'),\n",
    "    y=alt.Y('Grade', sort='x')\n",
    ").properties(\n",
    "    height=200,\n",
    "    width=600\n",
    ")\n",
    "chart_grade_count"
   ]
  },
  {
   "cell_type": "markdown",
   "metadata": {},
   "source": [
    "### 4. Data Standardization and Splitting"
   ]
  },
  {
   "cell_type": "markdown",
   "metadata": {},
   "source": [
    "We will start by splitting our dataset into X (predictors) and Y (response variable). "
   ]
  },
  {
   "cell_type": "code",
   "execution_count": 82,
   "metadata": {},
   "outputs": [],
   "source": [
    "X = milk_data.drop('Grade', axis=1)\n",
    "y = milk_data['Grade']"
   ]
  },
  {
   "cell_type": "markdown",
   "metadata": {},
   "source": [
    "- Labels in X (Predictors) : pH, Temprature, Taste, Odor, Fat, Turbidity, Colour \n",
    "- Labels in Y (Response Variable) : Grade"
   ]
  },
  {
   "cell_type": "markdown",
   "metadata": {},
   "source": [
    "Now we will scale our data using StandardScaler :"
   ]
  },
  {
   "cell_type": "code",
   "execution_count": 83,
   "metadata": {},
   "outputs": [
    {
     "data": {
      "text/html": [
       "<div>\n",
       "<style scoped>\n",
       "    .dataframe tbody tr th:only-of-type {\n",
       "        vertical-align: middle;\n",
       "    }\n",
       "\n",
       "    .dataframe tbody tr th {\n",
       "        vertical-align: top;\n",
       "    }\n",
       "\n",
       "    .dataframe thead th {\n",
       "        text-align: right;\n",
       "    }\n",
       "</style>\n",
       "<table border=\"1\" class=\"dataframe\">\n",
       "  <thead>\n",
       "    <tr style=\"text-align: right;\">\n",
       "      <th></th>\n",
       "      <th>pH</th>\n",
       "      <th>Temperature</th>\n",
       "      <th>Taste</th>\n",
       "      <th>Taste</th>\n",
       "      <th>Odor</th>\n",
       "      <th>Fat</th>\n",
       "      <th>Turbidity</th>\n",
       "    </tr>\n",
       "  </thead>\n",
       "  <tbody>\n",
       "    <tr>\n",
       "      <th>0</th>\n",
       "      <td>-0.021531</td>\n",
       "      <td>-0.914107</td>\n",
       "      <td>0.501600</td>\n",
       "      <td>1</td>\n",
       "      <td>0</td>\n",
       "      <td>1</td>\n",
       "      <td>0</td>\n",
       "    </tr>\n",
       "    <tr>\n",
       "      <th>1</th>\n",
       "      <td>-0.021531</td>\n",
       "      <td>-0.815035</td>\n",
       "      <td>0.269333</td>\n",
       "      <td>0</td>\n",
       "      <td>1</td>\n",
       "      <td>0</td>\n",
       "      <td>1</td>\n",
       "    </tr>\n",
       "    <tr>\n",
       "      <th>2</th>\n",
       "      <td>1.336564</td>\n",
       "      <td>2.553438</td>\n",
       "      <td>-1.356536</td>\n",
       "      <td>1</td>\n",
       "      <td>1</td>\n",
       "      <td>1</td>\n",
       "      <td>1</td>\n",
       "    </tr>\n",
       "    <tr>\n",
       "      <th>3</th>\n",
       "      <td>2.051351</td>\n",
       "      <td>-1.013180</td>\n",
       "      <td>0.733867</td>\n",
       "      <td>1</td>\n",
       "      <td>1</td>\n",
       "      <td>0</td>\n",
       "      <td>1</td>\n",
       "    </tr>\n",
       "    <tr>\n",
       "      <th>4</th>\n",
       "      <td>-0.021531</td>\n",
       "      <td>-0.715962</td>\n",
       "      <td>0.733867</td>\n",
       "      <td>0</td>\n",
       "      <td>0</td>\n",
       "      <td>0</td>\n",
       "      <td>0</td>\n",
       "    </tr>\n",
       "    <tr>\n",
       "      <th>...</th>\n",
       "      <td>...</td>\n",
       "      <td>...</td>\n",
       "      <td>...</td>\n",
       "      <td>...</td>\n",
       "      <td>...</td>\n",
       "      <td>...</td>\n",
       "      <td>...</td>\n",
       "    </tr>\n",
       "    <tr>\n",
       "      <th>1054</th>\n",
       "      <td>0.049947</td>\n",
       "      <td>0.076620</td>\n",
       "      <td>-1.124269</td>\n",
       "      <td>1</td>\n",
       "      <td>1</td>\n",
       "      <td>0</td>\n",
       "      <td>0</td>\n",
       "    </tr>\n",
       "    <tr>\n",
       "      <th>1055</th>\n",
       "      <td>0.049947</td>\n",
       "      <td>-0.616889</td>\n",
       "      <td>0.733867</td>\n",
       "      <td>1</td>\n",
       "      <td>0</td>\n",
       "      <td>1</td>\n",
       "      <td>0</td>\n",
       "    </tr>\n",
       "    <tr>\n",
       "      <th>1056</th>\n",
       "      <td>-2.594765</td>\n",
       "      <td>-0.418744</td>\n",
       "      <td>0.733867</td>\n",
       "      <td>1</td>\n",
       "      <td>1</td>\n",
       "      <td>1</td>\n",
       "      <td>1</td>\n",
       "    </tr>\n",
       "    <tr>\n",
       "      <th>1057</th>\n",
       "      <td>0.121426</td>\n",
       "      <td>-0.121525</td>\n",
       "      <td>-0.427468</td>\n",
       "      <td>1</td>\n",
       "      <td>0</td>\n",
       "      <td>1</td>\n",
       "      <td>0</td>\n",
       "    </tr>\n",
       "    <tr>\n",
       "      <th>1058</th>\n",
       "      <td>1.408043</td>\n",
       "      <td>1.067347</td>\n",
       "      <td>0.733867</td>\n",
       "      <td>0</td>\n",
       "      <td>1</td>\n",
       "      <td>1</td>\n",
       "      <td>1</td>\n",
       "    </tr>\n",
       "  </tbody>\n",
       "</table>\n",
       "<p>1059 rows × 7 columns</p>\n",
       "</div>"
      ],
      "text/plain": [
       "            pH  Temperature     Taste  Taste  Odor  Fat   Turbidity\n",
       "0    -0.021531    -0.914107  0.501600      1     0     1          0\n",
       "1    -0.021531    -0.815035  0.269333      0     1     0          1\n",
       "2     1.336564     2.553438 -1.356536      1     1     1          1\n",
       "3     2.051351    -1.013180  0.733867      1     1     0          1\n",
       "4    -0.021531    -0.715962  0.733867      0     0     0          0\n",
       "...        ...          ...       ...    ...   ...   ...        ...\n",
       "1054  0.049947     0.076620 -1.124269      1     1     0          0\n",
       "1055  0.049947    -0.616889  0.733867      1     0     1          0\n",
       "1056 -2.594765    -0.418744  0.733867      1     1     1          1\n",
       "1057  0.121426    -0.121525 -0.427468      1     0     1          0\n",
       "1058  1.408043     1.067347  0.733867      0     1     1          1\n",
       "\n",
       "[1059 rows x 7 columns]"
      ]
     },
     "execution_count": 83,
     "metadata": {},
     "output_type": "execute_result"
    }
   ],
   "source": [
    "# Scaling the quantitative features\n",
    "quantitative_vars = X[[\"pH\", \"Temperature\", \"Colour\"]]\n",
    "sc = StandardScaler()\n",
    "sc.fit(quantitative_vars)\n",
    "xscaled=sc.transform(quantitative_vars)\n",
    "\n",
    "# Creating a new DataFrame with the scaled features\n",
    "X_scaled=pd.DataFrame(data=xscaled,columns=milk_data.columns[0:3])\n",
    "X_scaled = pd.concat([X_scaled, X.iloc[:,2:6]], axis = 1)\n",
    "X_scaled\n",
    "\n"
   ]
  },
  {
   "cell_type": "markdown",
   "metadata": {},
   "source": [
    "Splitting the data into training and testing set:"
   ]
  },
  {
   "cell_type": "code",
   "execution_count": 84,
   "metadata": {},
   "outputs": [],
   "source": [
    "X_train, X_test, y_train, y_test = train_test_split(X_scaled, y, test_size=0.2, random_state=42)"
   ]
  },
  {
   "cell_type": "markdown",
   "metadata": {},
   "source": [
    "### 5. Running a Random Forest Analysis on the data"
   ]
  },
  {
   "cell_type": "code",
   "execution_count": 85,
   "metadata": {},
   "outputs": [
    {
     "name": "stdout",
     "output_type": "stream",
     "text": [
      "Accuracy: 0.9952830188679245\n"
     ]
    }
   ],
   "source": [
    "rf = RandomForestClassifier()\n",
    "rf.fit(X_train, y_train)\n",
    "\n",
    "y_pred = rf.predict(X_test)\n",
    "accuracy = accuracy_score(y_test, y_pred)\n",
    "print(\"Accuracy:\", accuracy)"
   ]
  },
  {
   "cell_type": "markdown",
   "metadata": {},
   "source": [
    "### 6. Running a Multinomial Logistic Regression"
   ]
  },
  {
   "cell_type": "code",
   "execution_count": 126,
   "metadata": {},
   "outputs": [
    {
     "name": "stdout",
     "output_type": "stream",
     "text": [
      "Best Parameters: {'C': 1, 'multi_class': 'multinomial', 'solver': 'lbfgs'}\n",
      "Accuracy: 0.839622641509434\n"
     ]
    }
   ],
   "source": [
    "param_grid = {\n",
    "    'C': [0.001, 0.01, 0.1, 1, , 10, 100],\n",
    "    'multi_class': ['multinomial'],\n",
    "    'solver': ['lbfgs', 'sag', 'newton-cg']\n",
    "}\n",
    "\n",
    "# Create the logistic regression model\n",
    "mnr = LogisticRegression(max_iter = 1000)\n",
    "\n",
    "# Create GridSearchCV with cross-validation\n",
    "grid_search = GridSearchCV(mnr, param_grid, cv=5, scoring='accuracy')\n",
    "\n",
    "# Fit the model to the training data\n",
    "grid_search.fit(X_train, y_train)\n",
    "\n",
    "# Print the best parameters found by GridSearchCV\n",
    "print(\"Best Parameters:\", grid_search.best_params_)\n",
    "\n",
    "# Make predictions on the test set using the best model\n",
    "best_model = grid_search.best_estimator_\n",
    "predictions = best_model.predict(X_test)\n",
    "\n",
    "# Evaluate the model performance (optional)\n",
    "accuracy = np.mean(predictions == y_test)\n",
    "print(f\"Accuracy: {accuracy}\")"
   ]
  }
 ],
 "metadata": {
  "kernelspec": {
   "display_name": "base",
   "language": "python",
   "name": "python3"
  },
  "language_info": {
   "codemirror_mode": {
    "name": "ipython",
    "version": 3
   },
   "file_extension": ".py",
   "mimetype": "text/x-python",
   "name": "python",
   "nbconvert_exporter": "python",
   "pygments_lexer": "ipython3",
   "version": "3.11.7"
  },
  "orig_nbformat": 4
 },
 "nbformat": 4,
 "nbformat_minor": 2
}
